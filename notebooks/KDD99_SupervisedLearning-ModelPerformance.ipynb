{
 "metadata": {
  "name": "",
  "signature": "sha256:e68e9b69d3e07fafa0767a9c5c03f7d05256f58d5f1d75b2bb088f4f64bc4bdc"
 },
 "nbformat": 3,
 "nbformat_minor": 0,
 "worksheets": [
  {
   "cells": [
    {
     "cell_type": "code",
     "collapsed": false,
     "input": [
      "%matplotlib inline"
     ],
     "language": "python",
     "metadata": {},
     "outputs": [],
     "prompt_number": 1
    },
    {
     "cell_type": "heading",
     "level": 1,
     "metadata": {},
     "source": [
      "KDD99 Supervised Learning - Model Performance"
     ]
    },
    {
     "cell_type": "heading",
     "level": 2,
     "metadata": {},
     "source": [
      "0. Libraries"
     ]
    },
    {
     "cell_type": "code",
     "collapsed": false,
     "input": [
      "import numpy as np\n",
      "import pandas as pd"
     ],
     "language": "python",
     "metadata": {},
     "outputs": [],
     "prompt_number": 2
    },
    {
     "cell_type": "markdown",
     "metadata": {},
     "source": [
      "-----"
     ]
    },
    {
     "cell_type": "heading",
     "level": 2,
     "metadata": {},
     "source": [
      "1. Data Description"
     ]
    },
    {
     "cell_type": "markdown",
     "metadata": {},
     "source": [
      "**Intrinsic attributes**\n",
      "\n",
      "These attributes are extracted from the headers' area of the network packets.\n",
      "\n",
      "Col|Feature name  | description |\ttype\n",
      "---|--------------|-------------|------------\n",
      "1  |duration \t  |length (number of seconds) of the connection |continuous\n",
      "2  |protocol_type |type of the protocol, e.g. tcp, udp, etc. |discrete\n",
      "3  |service \t  |network service on the destination, e.g., http, telnet, etc. |discrete\n",
      "4  |flag \t      |normal or error status of the connection. The possible status are this: SF, S0, S1, S2, S3, OTH, REJ, RSTO, RSTOS0, SH, RSTRH, SHR \t|discrete \n",
      "5  |src_bytes \t  |number of data bytes from source to destination \t|continuous\n",
      "6  |dst_bytes \t  |number of data bytes from destination to source \t|continuous\n",
      "7  |land \t      |1 if connection is from/to the same host/port; 0 otherwise \t|discrete\n",
      "8  |wrong_fragment|sum of bad checksum packets in a connection \t|continuous\n",
      "9  |urgent \t      |number of urgent packets. Urgent packets are packets with the urgent bit activated \t|continuous\n",
      "\n",
      "\n",
      "**Class attribute**\n",
      "\n",
      "The 42nd attribute is the ***class_attack*** attribute, it indicates which type of connections is each instance: normal or which attack. The values it can take are the following: *anomaly, dict, dict_simple, eject, eject-fail, ffb, ffb_clear, format, format_clear, format-fail, ftp-write, guest, imap, land, load_clear, loadmodule, multihop, perl_clear, perlmagic, phf, rootkit, spy, syslog, teardrop, warez, warezclient, warezmaster, pod, back, ip- sweep, neptune, nmap, portsweep, satan, smurf and normal*."
     ]
    },
    {
     "cell_type": "markdown",
     "metadata": {},
     "source": [
      "** Categories of class attribute **\n",
      "\n",
      "\n",
      "class_attack |Category\n",
      "-------|--------------\n",
      "smurf| dos\n",
      "neptune| dos\n",
      "back| dos\n",
      "teardrop| dos\n",
      "pod| dos\n",
      "land| dos\n",
      "normal|normal\n",
      "satan|probe\n",
      "ipsweep|probe\n",
      "portsweep|probe\n",
      "nmap|probe\n",
      "warezclient|r2l\n",
      "guess_passwd|r2l\n",
      "warezmaster|r2l\n",
      "imap|r2l\n",
      "ftp_write|r2l\n",
      "multihop|r2l\n",
      "phf|r2l\n",
      "spy|r2l\n",
      "buffer_overflow|u2r\n",
      "rootkit|u2r\n",
      "loadmodule|u2r\n",
      "perl|u2r"
     ]
    },
    {
     "cell_type": "markdown",
     "metadata": {},
     "source": [
      "----"
     ]
    },
    {
     "cell_type": "heading",
     "level": 2,
     "metadata": {},
     "source": [
      "2. Load Data"
     ]
    },
    {
     "cell_type": "heading",
     "level": 3,
     "metadata": {},
     "source": [
      "2.1 Loading File"
     ]
    },
    {
     "cell_type": "code",
     "collapsed": false,
     "input": [
      "data = pd.read_csv('./data/KDD/KDDTrain+.txt', header=None, usecols=[0,1,2,3,4,5,6,7,8,41], \n",
      "                   dtype = {\"duration\": 'float64',\n",
      "                            \"protocol_type\": 'object',\n",
      "                            \"service\": 'object',\n",
      "                            \"flag\": 'object',\n",
      "                            \"src_bytes\": 'float64',\n",
      "                            \"dst_bytes\": 'float64',\n",
      "                            \"land\": 'object',\n",
      "                            \"wrong_fragment\": 'float64',\n",
      "                            \"urgent\": 'float64',\n",
      "                            \"class_attack\": 'object'})"
     ],
     "language": "python",
     "metadata": {},
     "outputs": [],
     "prompt_number": 3
    },
    {
     "cell_type": "code",
     "collapsed": false,
     "input": [
      "data.columns=[\"duration\",\"protocol_type\",\"service\",\"flag\",\"src_bytes\",\"dst_bytes\",\"land\",\n",
      "                 \"wrong_fragment\",\"urgent\", \"class_attack\"]"
     ],
     "language": "python",
     "metadata": {},
     "outputs": [],
     "prompt_number": 4
    },
    {
     "cell_type": "code",
     "collapsed": false,
     "input": [
      "data.protocol_type = data.protocol_type.astype('category')\n",
      "data.service = data.service.astype('category')\n",
      "data.flag = data.flag.astype('category')\n",
      "data.class_attack = data.class_attack.astype('category')"
     ],
     "language": "python",
     "metadata": {},
     "outputs": [],
     "prompt_number": 5
    },
    {
     "cell_type": "code",
     "collapsed": false,
     "input": [
      "data.head()"
     ],
     "language": "python",
     "metadata": {},
     "outputs": [
      {
       "html": [
        "<div style=\"max-height:1000px;max-width:1500px;overflow:auto;\">\n",
        "<table border=\"1\" class=\"dataframe\">\n",
        "  <thead>\n",
        "    <tr style=\"text-align: right;\">\n",
        "      <th></th>\n",
        "      <th>duration</th>\n",
        "      <th>protocol_type</th>\n",
        "      <th>service</th>\n",
        "      <th>flag</th>\n",
        "      <th>src_bytes</th>\n",
        "      <th>dst_bytes</th>\n",
        "      <th>land</th>\n",
        "      <th>wrong_fragment</th>\n",
        "      <th>urgent</th>\n",
        "      <th>class_attack</th>\n",
        "    </tr>\n",
        "  </thead>\n",
        "  <tbody>\n",
        "    <tr>\n",
        "      <th>0</th>\n",
        "      <td>0</td>\n",
        "      <td>tcp</td>\n",
        "      <td>ftp_data</td>\n",
        "      <td>SF</td>\n",
        "      <td>491</td>\n",
        "      <td>0</td>\n",
        "      <td>0</td>\n",
        "      <td>0</td>\n",
        "      <td>0</td>\n",
        "      <td>normal</td>\n",
        "    </tr>\n",
        "    <tr>\n",
        "      <th>1</th>\n",
        "      <td>0</td>\n",
        "      <td>udp</td>\n",
        "      <td>other</td>\n",
        "      <td>SF</td>\n",
        "      <td>146</td>\n",
        "      <td>0</td>\n",
        "      <td>0</td>\n",
        "      <td>0</td>\n",
        "      <td>0</td>\n",
        "      <td>normal</td>\n",
        "    </tr>\n",
        "    <tr>\n",
        "      <th>2</th>\n",
        "      <td>0</td>\n",
        "      <td>tcp</td>\n",
        "      <td>private</td>\n",
        "      <td>S0</td>\n",
        "      <td>0</td>\n",
        "      <td>0</td>\n",
        "      <td>0</td>\n",
        "      <td>0</td>\n",
        "      <td>0</td>\n",
        "      <td>neptune</td>\n",
        "    </tr>\n",
        "    <tr>\n",
        "      <th>3</th>\n",
        "      <td>0</td>\n",
        "      <td>tcp</td>\n",
        "      <td>http</td>\n",
        "      <td>SF</td>\n",
        "      <td>232</td>\n",
        "      <td>8153</td>\n",
        "      <td>0</td>\n",
        "      <td>0</td>\n",
        "      <td>0</td>\n",
        "      <td>normal</td>\n",
        "    </tr>\n",
        "    <tr>\n",
        "      <th>4</th>\n",
        "      <td>0</td>\n",
        "      <td>tcp</td>\n",
        "      <td>http</td>\n",
        "      <td>SF</td>\n",
        "      <td>199</td>\n",
        "      <td>420</td>\n",
        "      <td>0</td>\n",
        "      <td>0</td>\n",
        "      <td>0</td>\n",
        "      <td>normal</td>\n",
        "    </tr>\n",
        "  </tbody>\n",
        "</table>\n",
        "</div>"
       ],
       "metadata": {},
       "output_type": "pyout",
       "prompt_number": 6,
       "text": [
        "   duration protocol_type   service flag  src_bytes  dst_bytes  land  \\\n",
        "0         0           tcp  ftp_data   SF        491          0     0   \n",
        "1         0           udp     other   SF        146          0     0   \n",
        "2         0           tcp   private   S0          0          0     0   \n",
        "3         0           tcp      http   SF        232       8153     0   \n",
        "4         0           tcp      http   SF        199        420     0   \n",
        "\n",
        "   wrong_fragment  urgent class_attack  \n",
        "0               0       0       normal  \n",
        "1               0       0       normal  \n",
        "2               0       0      neptune  \n",
        "3               0       0       normal  \n",
        "4               0       0       normal  "
       ]
      }
     ],
     "prompt_number": 6
    },
    {
     "cell_type": "code",
     "collapsed": false,
     "input": [
      "DS = pd.DataFrame(data[['duration', 'protocol_type', 'service', 'flag', 'src_bytes', 'dst_bytes', 'land', \n",
      "                        'wrong_fragment', 'urgent']])"
     ],
     "language": "python",
     "metadata": {},
     "outputs": [],
     "prompt_number": 7
    },
    {
     "cell_type": "code",
     "collapsed": false,
     "input": [
      "DS.head()"
     ],
     "language": "python",
     "metadata": {},
     "outputs": [
      {
       "html": [
        "<div style=\"max-height:1000px;max-width:1500px;overflow:auto;\">\n",
        "<table border=\"1\" class=\"dataframe\">\n",
        "  <thead>\n",
        "    <tr style=\"text-align: right;\">\n",
        "      <th></th>\n",
        "      <th>duration</th>\n",
        "      <th>protocol_type</th>\n",
        "      <th>service</th>\n",
        "      <th>flag</th>\n",
        "      <th>src_bytes</th>\n",
        "      <th>dst_bytes</th>\n",
        "      <th>land</th>\n",
        "      <th>wrong_fragment</th>\n",
        "      <th>urgent</th>\n",
        "    </tr>\n",
        "  </thead>\n",
        "  <tbody>\n",
        "    <tr>\n",
        "      <th>0</th>\n",
        "      <td>0</td>\n",
        "      <td>tcp</td>\n",
        "      <td>ftp_data</td>\n",
        "      <td>SF</td>\n",
        "      <td>491</td>\n",
        "      <td>0</td>\n",
        "      <td>0</td>\n",
        "      <td>0</td>\n",
        "      <td>0</td>\n",
        "    </tr>\n",
        "    <tr>\n",
        "      <th>1</th>\n",
        "      <td>0</td>\n",
        "      <td>udp</td>\n",
        "      <td>other</td>\n",
        "      <td>SF</td>\n",
        "      <td>146</td>\n",
        "      <td>0</td>\n",
        "      <td>0</td>\n",
        "      <td>0</td>\n",
        "      <td>0</td>\n",
        "    </tr>\n",
        "    <tr>\n",
        "      <th>2</th>\n",
        "      <td>0</td>\n",
        "      <td>tcp</td>\n",
        "      <td>private</td>\n",
        "      <td>S0</td>\n",
        "      <td>0</td>\n",
        "      <td>0</td>\n",
        "      <td>0</td>\n",
        "      <td>0</td>\n",
        "      <td>0</td>\n",
        "    </tr>\n",
        "    <tr>\n",
        "      <th>3</th>\n",
        "      <td>0</td>\n",
        "      <td>tcp</td>\n",
        "      <td>http</td>\n",
        "      <td>SF</td>\n",
        "      <td>232</td>\n",
        "      <td>8153</td>\n",
        "      <td>0</td>\n",
        "      <td>0</td>\n",
        "      <td>0</td>\n",
        "    </tr>\n",
        "    <tr>\n",
        "      <th>4</th>\n",
        "      <td>0</td>\n",
        "      <td>tcp</td>\n",
        "      <td>http</td>\n",
        "      <td>SF</td>\n",
        "      <td>199</td>\n",
        "      <td>420</td>\n",
        "      <td>0</td>\n",
        "      <td>0</td>\n",
        "      <td>0</td>\n",
        "    </tr>\n",
        "  </tbody>\n",
        "</table>\n",
        "</div>"
       ],
       "metadata": {},
       "output_type": "pyout",
       "prompt_number": 8,
       "text": [
        "   duration protocol_type   service flag  src_bytes  dst_bytes  land  \\\n",
        "0         0           tcp  ftp_data   SF        491          0     0   \n",
        "1         0           udp     other   SF        146          0     0   \n",
        "2         0           tcp   private   S0          0          0     0   \n",
        "3         0           tcp      http   SF        232       8153     0   \n",
        "4         0           tcp      http   SF        199        420     0   \n",
        "\n",
        "   wrong_fragment  urgent  \n",
        "0               0       0  \n",
        "1               0       0  \n",
        "2               0       0  \n",
        "3               0       0  \n",
        "4               0       0  "
       ]
      }
     ],
     "prompt_number": 8
    },
    {
     "cell_type": "code",
     "collapsed": false,
     "input": [
      "dataLabels = pd.DataFrame(data['class_attack'], dtype='category')"
     ],
     "language": "python",
     "metadata": {},
     "outputs": [],
     "prompt_number": 9
    },
    {
     "cell_type": "code",
     "collapsed": false,
     "input": [
      "dataLabels[\"is_normal\"] = np.array(dataLabels.class_attack == 'normal',dtype='int')"
     ],
     "language": "python",
     "metadata": {},
     "outputs": [],
     "prompt_number": 10
    },
    {
     "cell_type": "code",
     "collapsed": false,
     "input": [
      "dataLabels.head()"
     ],
     "language": "python",
     "metadata": {},
     "outputs": [
      {
       "html": [
        "<div style=\"max-height:1000px;max-width:1500px;overflow:auto;\">\n",
        "<table border=\"1\" class=\"dataframe\">\n",
        "  <thead>\n",
        "    <tr style=\"text-align: right;\">\n",
        "      <th></th>\n",
        "      <th>class_attack</th>\n",
        "      <th>is_normal</th>\n",
        "    </tr>\n",
        "  </thead>\n",
        "  <tbody>\n",
        "    <tr>\n",
        "      <th>0</th>\n",
        "      <td>normal</td>\n",
        "      <td>1</td>\n",
        "    </tr>\n",
        "    <tr>\n",
        "      <th>1</th>\n",
        "      <td>normal</td>\n",
        "      <td>1</td>\n",
        "    </tr>\n",
        "    <tr>\n",
        "      <th>2</th>\n",
        "      <td>neptune</td>\n",
        "      <td>0</td>\n",
        "    </tr>\n",
        "    <tr>\n",
        "      <th>3</th>\n",
        "      <td>normal</td>\n",
        "      <td>1</td>\n",
        "    </tr>\n",
        "    <tr>\n",
        "      <th>4</th>\n",
        "      <td>normal</td>\n",
        "      <td>1</td>\n",
        "    </tr>\n",
        "  </tbody>\n",
        "</table>\n",
        "</div>"
       ],
       "metadata": {},
       "output_type": "pyout",
       "prompt_number": 11,
       "text": [
        "  class_attack  is_normal\n",
        "0       normal          1\n",
        "1       normal          1\n",
        "2      neptune          0\n",
        "3       normal          1\n",
        "4       normal          1"
       ]
      }
     ],
     "prompt_number": 11
    },
    {
     "cell_type": "code",
     "collapsed": false,
     "input": [],
     "language": "python",
     "metadata": {},
     "outputs": [],
     "prompt_number": 11
    },
    {
     "cell_type": "markdown",
     "metadata": {},
     "source": [
      "-----"
     ]
    },
    {
     "cell_type": "heading",
     "level": 2,
     "metadata": {},
     "source": [
      "3. Data Preparation"
     ]
    },
    {
     "cell_type": "heading",
     "level": 3,
     "metadata": {},
     "source": [
      "3.1 Encoding categorical features"
     ]
    },
    {
     "cell_type": "code",
     "collapsed": false,
     "input": [
      "# import libraries\n",
      "import sklearn.preprocessing as pp"
     ],
     "language": "python",
     "metadata": {},
     "outputs": [],
     "prompt_number": 12
    },
    {
     "cell_type": "code",
     "collapsed": false,
     "input": [
      "attack_class = list(set(dataLabels.class_attack.unique().tolist()))"
     ],
     "language": "python",
     "metadata": {},
     "outputs": [],
     "prompt_number": 13
    },
    {
     "cell_type": "code",
     "collapsed": false,
     "input": [
      "print attack_class"
     ],
     "language": "python",
     "metadata": {},
     "outputs": [
      {
       "output_type": "stream",
       "stream": "stdout",
       "text": [
        "['guess_passwd', 'spy', 'ftp_write', 'nmap', 'back', 'multihop', 'rootkit', 'pod', 'portsweep', 'perl', 'ipsweep', 'teardrop', 'satan', 'loadmodule', 'buffer_overflow', 'normal', 'phf', 'warezmaster', 'imap', 'warezclient', 'land', 'neptune', 'smurf']\n"
       ]
      }
     ],
     "prompt_number": 14
    },
    {
     "cell_type": "code",
     "collapsed": false,
     "input": [
      "lb_train_attack_class = pp.LabelBinarizer()\n",
      "lb_train_attack_class.fit(attack_class)\n",
      "lb_train_attack_class.transform(dataLabels.class_attack).shape"
     ],
     "language": "python",
     "metadata": {},
     "outputs": [
      {
       "metadata": {},
       "output_type": "pyout",
       "prompt_number": 15,
       "text": [
        "(125973, 23)"
       ]
      }
     ],
     "prompt_number": 15
    },
    {
     "cell_type": "code",
     "collapsed": false,
     "input": [
      "lb_train_attack_class.classes_.shape"
     ],
     "language": "python",
     "metadata": {},
     "outputs": [
      {
       "metadata": {},
       "output_type": "pyout",
       "prompt_number": 16,
       "text": [
        "(23,)"
       ]
      }
     ],
     "prompt_number": 16
    },
    {
     "cell_type": "code",
     "collapsed": false,
     "input": [
      "train_attack_class_bin = lb_train_attack_class.transform(data.class_attack)\n",
      "\n",
      "##pp.label_binarize(trainLabels.class_attack, \n",
      "                        #              classes = attack_class)\n",
      "trainLabels_encoded = pd.DataFrame(train_attack_class_bin, \n",
      "                                       columns = ['is_'+x for x in attack_class])"
     ],
     "language": "python",
     "metadata": {},
     "outputs": [],
     "prompt_number": 17
    },
    {
     "cell_type": "markdown",
     "metadata": {},
     "source": [
      "** Encoding protocol_type **"
     ]
    },
    {
     "cell_type": "code",
     "collapsed": false,
     "input": [
      "protocol_type_class = list(set(DS.protocol_type.unique().tolist()))"
     ],
     "language": "python",
     "metadata": {},
     "outputs": [],
     "prompt_number": 18
    },
    {
     "cell_type": "code",
     "collapsed": false,
     "input": [
      "print protocol_type_class"
     ],
     "language": "python",
     "metadata": {},
     "outputs": [
      {
       "output_type": "stream",
       "stream": "stdout",
       "text": [
        "['udp', 'icmp', 'tcp']\n"
       ]
      }
     ],
     "prompt_number": 19
    },
    {
     "cell_type": "code",
     "collapsed": false,
     "input": [
      "train_protocol_type_bin = pp.label_binarize(DS.protocol_type, \n",
      "                                      classes = protocol_type_class)\n",
      "train_protocol_type_DataFrame = pd.DataFrame(train_protocol_type_bin, \n",
      "                                       columns = ['is_'+x for x in protocol_type_class])"
     ],
     "language": "python",
     "metadata": {},
     "outputs": [],
     "prompt_number": 20
    },
    {
     "cell_type": "markdown",
     "metadata": {},
     "source": [
      "** Encoding service **"
     ]
    },
    {
     "cell_type": "code",
     "collapsed": false,
     "input": [
      "service_class = list(set(DS.service.unique().tolist()))"
     ],
     "language": "python",
     "metadata": {},
     "outputs": [],
     "prompt_number": 21
    },
    {
     "cell_type": "code",
     "collapsed": false,
     "input": [
      "print service_class"
     ],
     "language": "python",
     "metadata": {},
     "outputs": [
      {
       "output_type": "stream",
       "stream": "stdout",
       "text": [
        "['aol', 'urp_i', 'netbios_ssn', 'Z39_50', 'smtp', 'domain', 'private', 'echo', 'printer', 'red_i', 'eco_i', 'ftp_data', 'domain_u', 'urh_i', 'pm_dump', 'uucp_path', 'pop_2', 'systat', 'ftp', 'uucp', 'whois', 'harvest', 'netbios_dgm', 'efs', 'remote_job', 'daytime', 'other', 'finger', 'ldap', 'netbios_ns', 'kshell', 'iso_tsap', 'ecr_i', 'nntp', 'http_2784', 'shell', 'http', 'courier', 'exec', 'tim_i', 'netstat', 'telnet', 'gopher', 'rje', 'sql_net', 'link', 'auth', 'http_443', 'csnet_ns', 'X11', 'IRC', 'tftp_u', 'login', 'pop_3', 'supdup', 'name', 'sunrpc', 'nnsp', 'mtp', 'ntp_u', 'bgp', 'ctf', 'hostnames', 'klogin', 'vmnet', 'time', 'discard', 'imap4', 'http_8001', 'ssh']\n"
       ]
      }
     ],
     "prompt_number": 22
    },
    {
     "cell_type": "code",
     "collapsed": false,
     "input": [
      "train_service_bin = pp.label_binarize(DS.service, \n",
      "                                      classes = service_class)\n",
      "train_service_DataFrame = pd.DataFrame(train_service_bin, \n",
      "                                       columns = ['is_'+x for x in service_class])"
     ],
     "language": "python",
     "metadata": {},
     "outputs": [],
     "prompt_number": 23
    },
    {
     "cell_type": "markdown",
     "metadata": {},
     "source": [
      "** Encoding flag **"
     ]
    },
    {
     "cell_type": "code",
     "collapsed": false,
     "input": [
      "flag_class = list(set(data.flag.unique().tolist()))"
     ],
     "language": "python",
     "metadata": {},
     "outputs": [],
     "prompt_number": 24
    },
    {
     "cell_type": "code",
     "collapsed": false,
     "input": [
      "print flag_class"
     ],
     "language": "python",
     "metadata": {},
     "outputs": [
      {
       "output_type": "stream",
       "stream": "stdout",
       "text": [
        "['OTH', 'RSTR', 'S3', 'S2', 'S1', 'S0', 'RSTOS0', 'REJ', 'SH', 'RSTO', 'SF']\n"
       ]
      }
     ],
     "prompt_number": 25
    },
    {
     "cell_type": "code",
     "collapsed": false,
     "input": [
      "train_flag_bin = pp.label_binarize(DS.flag, \n",
      "                                    classes = flag_class)\n",
      "train_flag_DataFrame = pd.DataFrame(train_flag_bin, \n",
      "                                 columns = ['is_'+x for x in flag_class])"
     ],
     "language": "python",
     "metadata": {},
     "outputs": [],
     "prompt_number": 26
    },
    {
     "cell_type": "markdown",
     "metadata": {},
     "source": [
      "** Concatenating all de data set **"
     ]
    },
    {
     "cell_type": "code",
     "collapsed": false,
     "input": [
      "DS_encoded = pd.concat([DS, train_protocol_type_DataFrame, train_service_DataFrame, \n",
      "                     train_flag_DataFrame], axis = 1)\n"
     ],
     "language": "python",
     "metadata": {},
     "outputs": [],
     "prompt_number": 27
    },
    {
     "cell_type": "markdown",
     "metadata": {},
     "source": [
      "** Selecting only numbered features **"
     ]
    },
    {
     "cell_type": "code",
     "collapsed": false,
     "input": [
      "continuousCols_train = [\"duration\",\"src_bytes\",\"dst_bytes\",\"land\",\"wrong_fragment\",\"urgent\"] + \\\n",
      "            [c for c in DS_encoded.columns if c.startswith(\"is_\")]\n",
      "DS_encoded = pd.DataFrame(DS_encoded[continuousCols_train], dtype='float64')\n",
      "print DS_encoded.shape"
     ],
     "language": "python",
     "metadata": {},
     "outputs": [
      {
       "output_type": "stream",
       "stream": "stdout",
       "text": [
        "(125973, 90)\n"
       ]
      }
     ],
     "prompt_number": 28
    },
    {
     "cell_type": "heading",
     "level": 3,
     "metadata": {},
     "source": [
      "3.2 Input Normalization"
     ]
    },
    {
     "cell_type": "heading",
     "level": 4,
     "metadata": {},
     "source": [
      "3.2.1 Training Data Set"
     ]
    },
    {
     "cell_type": "code",
     "collapsed": false,
     "input": [
      "scaler = pp.MinMaxScaler().fit(DS_encoded)"
     ],
     "language": "python",
     "metadata": {},
     "outputs": [],
     "prompt_number": 29
    },
    {
     "cell_type": "code",
     "collapsed": false,
     "input": [
      "DS_scaled = pd.DataFrame(scaler.transform(DS_encoded), columns =  continuousCols_train)"
     ],
     "language": "python",
     "metadata": {},
     "outputs": [],
     "prompt_number": 30
    },
    {
     "cell_type": "code",
     "collapsed": false,
     "input": [
      "DS_scaled.describe()"
     ],
     "language": "python",
     "metadata": {},
     "outputs": [
      {
       "html": [
        "<div style=\"max-height:1000px;max-width:1500px;overflow:auto;\">\n",
        "<table border=\"1\" class=\"dataframe\">\n",
        "  <thead>\n",
        "    <tr style=\"text-align: right;\">\n",
        "      <th></th>\n",
        "      <th>duration</th>\n",
        "      <th>src_bytes</th>\n",
        "      <th>dst_bytes</th>\n",
        "      <th>land</th>\n",
        "      <th>wrong_fragment</th>\n",
        "      <th>urgent</th>\n",
        "      <th>is_udp</th>\n",
        "      <th>is_icmp</th>\n",
        "      <th>is_tcp</th>\n",
        "      <th>is_aol</th>\n",
        "      <th>...</th>\n",
        "      <th>is_RSTR</th>\n",
        "      <th>is_S3</th>\n",
        "      <th>is_S2</th>\n",
        "      <th>is_S1</th>\n",
        "      <th>is_S0</th>\n",
        "      <th>is_RSTOS0</th>\n",
        "      <th>is_REJ</th>\n",
        "      <th>is_SH</th>\n",
        "      <th>is_RSTO</th>\n",
        "      <th>is_SF</th>\n",
        "    </tr>\n",
        "  </thead>\n",
        "  <tbody>\n",
        "    <tr>\n",
        "      <th>count</th>\n",
        "      <td>125973.000000</td>\n",
        "      <td>1.259730e+05</td>\n",
        "      <td>125973.000000</td>\n",
        "      <td>125973.000000</td>\n",
        "      <td>125973.000000</td>\n",
        "      <td>125973.000000</td>\n",
        "      <td>125973.000000</td>\n",
        "      <td>125973.000000</td>\n",
        "      <td>125973.000000</td>\n",
        "      <td>125973.000000</td>\n",
        "      <td>...</td>\n",
        "      <td>125973.000000</td>\n",
        "      <td>125973.000000</td>\n",
        "      <td>125973.000000</td>\n",
        "      <td>125973.00000</td>\n",
        "      <td>125973.000000</td>\n",
        "      <td>125973.000000</td>\n",
        "      <td>125973.000000</td>\n",
        "      <td>125973.000000</td>\n",
        "      <td>125973.000000</td>\n",
        "      <td>125973.000000</td>\n",
        "    </tr>\n",
        "    <tr>\n",
        "      <th>mean</th>\n",
        "      <td>0.006692</td>\n",
        "      <td>3.302024e-05</td>\n",
        "      <td>0.000015</td>\n",
        "      <td>0.000198</td>\n",
        "      <td>0.007562</td>\n",
        "      <td>0.000037</td>\n",
        "      <td>0.815167</td>\n",
        "      <td>0.119018</td>\n",
        "      <td>0.065816</td>\n",
        "      <td>0.000064</td>\n",
        "      <td>...</td>\n",
        "      <td>0.001008</td>\n",
        "      <td>0.594929</td>\n",
        "      <td>0.002897</td>\n",
        "      <td>0.08917</td>\n",
        "      <td>0.276655</td>\n",
        "      <td>0.019218</td>\n",
        "      <td>0.000818</td>\n",
        "      <td>0.012399</td>\n",
        "      <td>0.002151</td>\n",
        "      <td>0.000389</td>\n",
        "    </tr>\n",
        "    <tr>\n",
        "      <th>std</th>\n",
        "      <td>0.060700</td>\n",
        "      <td>4.253974e-03</td>\n",
        "      <td>0.003070</td>\n",
        "      <td>0.014086</td>\n",
        "      <td>0.084510</td>\n",
        "      <td>0.004789</td>\n",
        "      <td>0.388164</td>\n",
        "      <td>0.323810</td>\n",
        "      <td>0.247961</td>\n",
        "      <td>0.007969</td>\n",
        "      <td>...</td>\n",
        "      <td>0.031736</td>\n",
        "      <td>0.490908</td>\n",
        "      <td>0.053750</td>\n",
        "      <td>0.28499</td>\n",
        "      <td>0.447346</td>\n",
        "      <td>0.137292</td>\n",
        "      <td>0.028583</td>\n",
        "      <td>0.110661</td>\n",
        "      <td>0.046332</td>\n",
        "      <td>0.019719</td>\n",
        "    </tr>\n",
        "    <tr>\n",
        "      <th>min</th>\n",
        "      <td>0.000000</td>\n",
        "      <td>0.000000e+00</td>\n",
        "      <td>0.000000</td>\n",
        "      <td>0.000000</td>\n",
        "      <td>0.000000</td>\n",
        "      <td>0.000000</td>\n",
        "      <td>0.000000</td>\n",
        "      <td>0.000000</td>\n",
        "      <td>0.000000</td>\n",
        "      <td>0.000000</td>\n",
        "      <td>...</td>\n",
        "      <td>0.000000</td>\n",
        "      <td>0.000000</td>\n",
        "      <td>0.000000</td>\n",
        "      <td>0.00000</td>\n",
        "      <td>0.000000</td>\n",
        "      <td>0.000000</td>\n",
        "      <td>0.000000</td>\n",
        "      <td>0.000000</td>\n",
        "      <td>0.000000</td>\n",
        "      <td>0.000000</td>\n",
        "    </tr>\n",
        "    <tr>\n",
        "      <th>25%</th>\n",
        "      <td>0.000000</td>\n",
        "      <td>0.000000e+00</td>\n",
        "      <td>0.000000</td>\n",
        "      <td>0.000000</td>\n",
        "      <td>0.000000</td>\n",
        "      <td>0.000000</td>\n",
        "      <td>1.000000</td>\n",
        "      <td>0.000000</td>\n",
        "      <td>0.000000</td>\n",
        "      <td>0.000000</td>\n",
        "      <td>...</td>\n",
        "      <td>0.000000</td>\n",
        "      <td>0.000000</td>\n",
        "      <td>0.000000</td>\n",
        "      <td>0.00000</td>\n",
        "      <td>0.000000</td>\n",
        "      <td>0.000000</td>\n",
        "      <td>0.000000</td>\n",
        "      <td>0.000000</td>\n",
        "      <td>0.000000</td>\n",
        "      <td>0.000000</td>\n",
        "    </tr>\n",
        "    <tr>\n",
        "      <th>50%</th>\n",
        "      <td>0.000000</td>\n",
        "      <td>3.188489e-08</td>\n",
        "      <td>0.000000</td>\n",
        "      <td>0.000000</td>\n",
        "      <td>0.000000</td>\n",
        "      <td>0.000000</td>\n",
        "      <td>1.000000</td>\n",
        "      <td>0.000000</td>\n",
        "      <td>0.000000</td>\n",
        "      <td>0.000000</td>\n",
        "      <td>...</td>\n",
        "      <td>0.000000</td>\n",
        "      <td>1.000000</td>\n",
        "      <td>0.000000</td>\n",
        "      <td>0.00000</td>\n",
        "      <td>0.000000</td>\n",
        "      <td>0.000000</td>\n",
        "      <td>0.000000</td>\n",
        "      <td>0.000000</td>\n",
        "      <td>0.000000</td>\n",
        "      <td>0.000000</td>\n",
        "    </tr>\n",
        "    <tr>\n",
        "      <th>75%</th>\n",
        "      <td>0.000000</td>\n",
        "      <td>2.000052e-07</td>\n",
        "      <td>0.000000</td>\n",
        "      <td>0.000000</td>\n",
        "      <td>0.000000</td>\n",
        "      <td>0.000000</td>\n",
        "      <td>1.000000</td>\n",
        "      <td>0.000000</td>\n",
        "      <td>0.000000</td>\n",
        "      <td>0.000000</td>\n",
        "      <td>...</td>\n",
        "      <td>0.000000</td>\n",
        "      <td>1.000000</td>\n",
        "      <td>0.000000</td>\n",
        "      <td>0.00000</td>\n",
        "      <td>1.000000</td>\n",
        "      <td>0.000000</td>\n",
        "      <td>0.000000</td>\n",
        "      <td>0.000000</td>\n",
        "      <td>0.000000</td>\n",
        "      <td>0.000000</td>\n",
        "    </tr>\n",
        "    <tr>\n",
        "      <th>max</th>\n",
        "      <td>1.000000</td>\n",
        "      <td>1.000000e+00</td>\n",
        "      <td>1.000000</td>\n",
        "      <td>1.000000</td>\n",
        "      <td>1.000000</td>\n",
        "      <td>1.000000</td>\n",
        "      <td>1.000000</td>\n",
        "      <td>1.000000</td>\n",
        "      <td>1.000000</td>\n",
        "      <td>1.000000</td>\n",
        "      <td>...</td>\n",
        "      <td>1.000000</td>\n",
        "      <td>1.000000</td>\n",
        "      <td>1.000000</td>\n",
        "      <td>1.00000</td>\n",
        "      <td>1.000000</td>\n",
        "      <td>1.000000</td>\n",
        "      <td>1.000000</td>\n",
        "      <td>1.000000</td>\n",
        "      <td>1.000000</td>\n",
        "      <td>1.000000</td>\n",
        "    </tr>\n",
        "  </tbody>\n",
        "</table>\n",
        "<p>8 rows \u00d7 90 columns</p>\n",
        "</div>"
       ],
       "metadata": {},
       "output_type": "pyout",
       "prompt_number": 31,
       "text": [
        "            duration     src_bytes      dst_bytes           land  \\\n",
        "count  125973.000000  1.259730e+05  125973.000000  125973.000000   \n",
        "mean        0.006692  3.302024e-05       0.000015       0.000198   \n",
        "std         0.060700  4.253974e-03       0.003070       0.014086   \n",
        "min         0.000000  0.000000e+00       0.000000       0.000000   \n",
        "25%         0.000000  0.000000e+00       0.000000       0.000000   \n",
        "50%         0.000000  3.188489e-08       0.000000       0.000000   \n",
        "75%         0.000000  2.000052e-07       0.000000       0.000000   \n",
        "max         1.000000  1.000000e+00       1.000000       1.000000   \n",
        "\n",
        "       wrong_fragment         urgent         is_udp        is_icmp  \\\n",
        "count   125973.000000  125973.000000  125973.000000  125973.000000   \n",
        "mean         0.007562       0.000037       0.815167       0.119018   \n",
        "std          0.084510       0.004789       0.388164       0.323810   \n",
        "min          0.000000       0.000000       0.000000       0.000000   \n",
        "25%          0.000000       0.000000       1.000000       0.000000   \n",
        "50%          0.000000       0.000000       1.000000       0.000000   \n",
        "75%          0.000000       0.000000       1.000000       0.000000   \n",
        "max          1.000000       1.000000       1.000000       1.000000   \n",
        "\n",
        "              is_tcp         is_aol      ...              is_RSTR  \\\n",
        "count  125973.000000  125973.000000      ...        125973.000000   \n",
        "mean        0.065816       0.000064      ...             0.001008   \n",
        "std         0.247961       0.007969      ...             0.031736   \n",
        "min         0.000000       0.000000      ...             0.000000   \n",
        "25%         0.000000       0.000000      ...             0.000000   \n",
        "50%         0.000000       0.000000      ...             0.000000   \n",
        "75%         0.000000       0.000000      ...             0.000000   \n",
        "max         1.000000       1.000000      ...             1.000000   \n",
        "\n",
        "               is_S3          is_S2         is_S1          is_S0  \\\n",
        "count  125973.000000  125973.000000  125973.00000  125973.000000   \n",
        "mean        0.594929       0.002897       0.08917       0.276655   \n",
        "std         0.490908       0.053750       0.28499       0.447346   \n",
        "min         0.000000       0.000000       0.00000       0.000000   \n",
        "25%         0.000000       0.000000       0.00000       0.000000   \n",
        "50%         1.000000       0.000000       0.00000       0.000000   \n",
        "75%         1.000000       0.000000       0.00000       1.000000   \n",
        "max         1.000000       1.000000       1.00000       1.000000   \n",
        "\n",
        "           is_RSTOS0         is_REJ          is_SH        is_RSTO  \\\n",
        "count  125973.000000  125973.000000  125973.000000  125973.000000   \n",
        "mean        0.019218       0.000818       0.012399       0.002151   \n",
        "std         0.137292       0.028583       0.110661       0.046332   \n",
        "min         0.000000       0.000000       0.000000       0.000000   \n",
        "25%         0.000000       0.000000       0.000000       0.000000   \n",
        "50%         0.000000       0.000000       0.000000       0.000000   \n",
        "75%         0.000000       0.000000       0.000000       0.000000   \n",
        "max         1.000000       1.000000       1.000000       1.000000   \n",
        "\n",
        "               is_SF  \n",
        "count  125973.000000  \n",
        "mean        0.000389  \n",
        "std         0.019719  \n",
        "min         0.000000  \n",
        "25%         0.000000  \n",
        "50%         0.000000  \n",
        "75%         0.000000  \n",
        "max         1.000000  \n",
        "\n",
        "[8 rows x 90 columns]"
       ]
      }
     ],
     "prompt_number": 31
    },
    {
     "cell_type": "heading",
     "level": 3,
     "metadata": {},
     "source": [
      "3.3 Principal Component Analysis (PCA)"
     ]
    },
    {
     "cell_type": "code",
     "collapsed": false,
     "input": [
      "from sklearn.decomposition import PCA"
     ],
     "language": "python",
     "metadata": {},
     "outputs": [],
     "prompt_number": 32
    },
    {
     "cell_type": "code",
     "collapsed": false,
     "input": [
      "n_features = DS_scaled.columns.size"
     ],
     "language": "python",
     "metadata": {},
     "outputs": [],
     "prompt_number": 33
    },
    {
     "cell_type": "code",
     "collapsed": false,
     "input": [
      "print \"Total number of features: %d\" %n_features"
     ],
     "language": "python",
     "metadata": {},
     "outputs": [
      {
       "output_type": "stream",
       "stream": "stdout",
       "text": [
        "Total number of features: 90\n"
       ]
      }
     ],
     "prompt_number": 34
    },
    {
     "cell_type": "code",
     "collapsed": false,
     "input": [
      "pca = PCA(n_components=n_features, whiten=False)\n",
      "pca.fit(DS_scaled)"
     ],
     "language": "python",
     "metadata": {},
     "outputs": [
      {
       "metadata": {},
       "output_type": "pyout",
       "prompt_number": 35,
       "text": [
        "PCA(copy=True, n_components=90, whiten=False)"
       ]
      }
     ],
     "prompt_number": 35
    },
    {
     "cell_type": "code",
     "collapsed": false,
     "input": [
      "#accum explained variance ration\n",
      "pca.explained_variance_ratio_[0:].cumsum()"
     ],
     "language": "python",
     "metadata": {},
     "outputs": [
      {
       "metadata": {},
       "output_type": "pyout",
       "prompt_number": 36,
       "text": [
        "array([ 0.29479691,  0.48615106,  0.56380045,  0.63536068,  0.69545384,\n",
        "        0.75040061,  0.78239749,  0.80551199,  0.82220474,  0.83877532,\n",
        "        0.85081663,  0.86054083,  0.86927623,  0.87724528,  0.88409997,\n",
        "        0.88930303,  0.89344096,  0.89728165,  0.90089252,  0.90433219,\n",
        "        0.90765466,  0.9108735 ,  0.9140275 ,  0.91716524,  0.92021357,\n",
        "        0.92318417,  0.9261157 ,  0.92901054,  0.93184957,  0.93457327,\n",
        "        0.9371558 ,  0.93969323,  0.94217673,  0.94462305,  0.94704482,\n",
        "        0.94943382,  0.95178615,  0.9540581 ,  0.95625777,  0.95843117,\n",
        "        0.96059782,  0.96271828,  0.96481763,  0.96689013,  0.96891292,\n",
        "        0.9708982 ,  0.97286566,  0.97479129,  0.97666524,  0.97851848,\n",
        "        0.98025443,  0.98191773,  0.98356335,  0.98515445,  0.98659116,\n",
        "        0.9879796 ,  0.98935899,  0.99071217,  0.99204842,  0.99323988,\n",
        "        0.9943655 ,  0.99518698,  0.9959188 ,  0.99659168,  0.99709125,\n",
        "        0.9974935 ,  0.99786108,  0.99821679,  0.99855202,  0.99886945,\n",
        "        0.99916855,  0.9994239 ,  0.99963878,  0.99975124,  0.99982397,\n",
        "        0.99986543,  0.99990192,  0.99992513,  0.99993904,  0.99995218,\n",
        "        0.99996217,  0.99997172,  0.99998084,  0.99998997,  0.99999537,\n",
        "        1.        ,  1.        ,  1.        ,  1.        ,  1.        ])"
       ]
      }
     ],
     "prompt_number": 36
    },
    {
     "cell_type": "code",
     "collapsed": false,
     "input": [
      "import matplotlib.pyplot as plt"
     ],
     "language": "python",
     "metadata": {},
     "outputs": [],
     "prompt_number": 37
    },
    {
     "cell_type": "code",
     "collapsed": false,
     "input": [
      "plt.figure(figsize=(12, 6))\n",
      "plt.plot(1 - pca.explained_variance_ratio_.cumsum(), drawstyle = 'steps-post')\n",
      "plt.title('PCA Reconstruction Error');"
     ],
     "language": "python",
     "metadata": {},
     "outputs": [
      {
       "metadata": {},
       "output_type": "display_data",
       "png": "[encoded data removed]",
       "text": [
        "<matplotlib.figure.Figure at 0x10a59d850>"
       ]
      }
     ],
     "prompt_number": 38
    },
    {
     "cell_type": "code",
     "collapsed": false,
     "input": [
      "n_factors = sum(1-pca.explained_variance_ratio_[0:].cumsum() > 0.10)\n",
      "print \"Number of factors with 10% of reonstraction Error: \", n_factors"
     ],
     "language": "python",
     "metadata": {},
     "outputs": [
      {
       "output_type": "stream",
       "stream": "stdout",
       "text": [
        "Number of factors with 10% of reonstraction Error:  18\n"
       ]
      }
     ],
     "prompt_number": 39
    },
    {
     "cell_type": "code",
     "collapsed": false,
     "input": [
      "pca = PCA(n_components=n_factors)\n",
      "pca.fit(DS_scaled)"
     ],
     "language": "python",
     "metadata": {},
     "outputs": [
      {
       "metadata": {},
       "output_type": "pyout",
       "prompt_number": 40,
       "text": [
        "PCA(copy=True, n_components=18, whiten=False)"
       ]
      }
     ],
     "prompt_number": 40
    },
    {
     "cell_type": "code",
     "collapsed": false,
     "input": [
      "print \"Explained Variance Ratio\"\n",
      "sum(pca.explained_variance_ratio_)"
     ],
     "language": "python",
     "metadata": {},
     "outputs": [
      {
       "output_type": "stream",
       "stream": "stdout",
       "text": [
        "Explained Variance Ratio\n"
       ]
      },
      {
       "metadata": {},
       "output_type": "pyout",
       "prompt_number": 41,
       "text": [
        "0.89728164523104625"
       ]
      }
     ],
     "prompt_number": 41
    },
    {
     "cell_type": "code",
     "collapsed": false,
     "input": [
      "DS_pca = pca.transform(DS_scaled)"
     ],
     "language": "python",
     "metadata": {},
     "outputs": [],
     "prompt_number": 42
    },
    {
     "cell_type": "heading",
     "level": 3,
     "metadata": {},
     "source": [
      "2.4 Split Data Set: Training + Testing"
     ]
    },
    {
     "cell_type": "code",
     "collapsed": false,
     "input": [
      "from sklearn.cross_validation import StratifiedShuffleSplit"
     ],
     "language": "python",
     "metadata": {},
     "outputs": [],
     "prompt_number": 43
    },
    {
     "cell_type": "code",
     "collapsed": false,
     "input": [
      "sss = StratifiedShuffleSplit(dataLabels.is_normal, n_iter = 1, \n",
      "                                 train_size = 0.1, \n",
      "                                 test_size = 0.066,\n",
      "                                 random_state = np.random.random_integers(0,100000))"
     ],
     "language": "python",
     "metadata": {},
     "outputs": [],
     "prompt_number": 44
    },
    {
     "cell_type": "code",
     "collapsed": false,
     "input": [
      "train_ix, test_ix = [(train_ix, test_ix) for train_ix, test_ix in sss][0]"
     ],
     "language": "python",
     "metadata": {},
     "outputs": [],
     "prompt_number": 45
    },
    {
     "cell_type": "code",
     "collapsed": false,
     "input": [
      "trainDS = DS_pca[train_ix, :]\n",
      "trainLabels = dataLabels.is_normal[train_ix]\n",
      "testDS = DS_pca[test_ix, :]\n",
      "testLabels = dataLabels.is_normal[test_ix]"
     ],
     "language": "python",
     "metadata": {},
     "outputs": [],
     "prompt_number": 46
    },
    {
     "cell_type": "code",
     "collapsed": false,
     "input": [
      "print \"Train Data Set shape: \", trainDS.shape\n",
      "print \"Train Label shape: \", trainLabels.shape"
     ],
     "language": "python",
     "metadata": {},
     "outputs": [
      {
       "output_type": "stream",
       "stream": "stdout",
       "text": [
        "Train Data Set shape:  (12597, 18)\n",
        "Train Label shape:  (12597,)\n"
       ]
      }
     ],
     "prompt_number": 47
    },
    {
     "cell_type": "code",
     "collapsed": false,
     "input": [
      "print \"Test Data Set shape: \", testDS.shape\n",
      "print \"Test Label shape: \", testLabels.shape"
     ],
     "language": "python",
     "metadata": {},
     "outputs": [
      {
       "output_type": "stream",
       "stream": "stdout",
       "text": [
        "Test Data Set shape:  (8315, 18)\n",
        "Test Label shape:  (8315,)\n"
       ]
      }
     ],
     "prompt_number": 48
    },
    {
     "cell_type": "markdown",
     "metadata": {},
     "source": [
      "-----"
     ]
    },
    {
     "cell_type": "code",
     "collapsed": false,
     "input": [],
     "language": "python",
     "metadata": {},
     "outputs": [],
     "prompt_number": 48
    },
    {
     "cell_type": "heading",
     "level": 2,
     "metadata": {},
     "source": [
      "3. SVM Model Evaluation"
     ]
    },
    {
     "cell_type": "heading",
     "level": 3,
     "metadata": {},
     "source": [
      "3.1 Receiver operating Characteristic (ROC)"
     ]
    },
    {
     "cell_type": "code",
     "collapsed": false,
     "input": [
      "from sklearn import metrics"
     ],
     "language": "python",
     "metadata": {},
     "outputs": [],
     "prompt_number": 49
    },
    {
     "cell_type": "code",
     "collapsed": false,
     "input": [
      "from sklearn.svm import SVC"
     ],
     "language": "python",
     "metadata": {},
     "outputs": [],
     "prompt_number": 50
    },
    {
     "cell_type": "code",
     "collapsed": false,
     "input": [
      "def getMetrics(model = None, name = \"\", X_train = None, Y_train = None, X_test = None, Y_test = None):\n",
      "    m = dict()\n",
      "    m[\"name\"] = name\n",
      "    m[\"model\"] = model\n",
      "    m[\"y_score\"] = m[\"model\"].fit(X_train, Y_train).decision_function(X_test)\n",
      "    m[\"fpr\"], m[\"tpr\"], m[\"thresholds\"] = metrics.roc_curve(Y_test, m[\"y_score\"])\n",
      "    m[\"roc_auc\"] = metrics.auc(m[\"fpr\"], m[\"tpr\"])\n",
      "    return m\n",
      "    "
     ],
     "language": "python",
     "metadata": {},
     "outputs": [],
     "prompt_number": 51
    },
    {
     "cell_type": "code",
     "collapsed": false,
     "input": [
      "def plotROC(models = [], plt = None):\n",
      "    if not isinstance(models, (list, tuple)):\n",
      "        models = [models]\n",
      "    for m in models:\n",
      "        plt.plot(m[\"fpr\"], m[\"tpr\"], label='ROC curve %s (area = %0.2f)' % (m[\"name\"],m[\"roc_auc\"]))\n",
      "        plt.plot([0, 1], [0, 1], 'k--')\n",
      "        plt.xlim([0.0, 1.0])\n",
      "        plt.ylim([0.0, 1.05])\n",
      "        plt.xlabel('False Positive Rate')\n",
      "        plt.ylabel('True Positive Rate')\n",
      "        plt.title('Receiver operating characteristic')\n",
      "        plt.legend(loc=\"lower right\")\n",
      "    "
     ],
     "language": "python",
     "metadata": {},
     "outputs": [],
     "prompt_number": 52
    },
    {
     "cell_type": "markdown",
     "metadata": {},
     "source": [
      "** SVM with: **\n",
      "\n",
      "* kernel = linear\n",
      "\n",
      "* Penalty parameter C of the error term **C =  1e-1 **\n"
     ]
    },
    {
     "cell_type": "code",
     "collapsed": false,
     "input": [
      "SVC_linear = getMetrics(model = SVC(C = 1e-1, kernel = 'linear'), \n",
      "                        name=\"SVC kernel 'linear'\",\n",
      "                        X_train = trainDS,\n",
      "                        Y_train = trainLabels,\n",
      "                        X_test = testDS,\n",
      "                        Y_test = testLabels)"
     ],
     "language": "python",
     "metadata": {},
     "outputs": [],
     "prompt_number": 53
    },
    {
     "cell_type": "code",
     "collapsed": false,
     "input": [
      "# Plot of a ROC curve\n",
      "plt.figure(figsize=(7,7))\n",
      "plotROC(SVC_linear, plt)\n",
      "plt.show()"
     ],
     "language": "python",
     "metadata": {},
     "outputs": [
      {
       "metadata": {},
       "output_type": "display_data",
       "png": "[encoded data removed]",
       "text": [
        "<matplotlib.figure.Figure at 0x126a2c850>"
       ]
      }
     ],
     "prompt_number": 54
    },
    {
     "cell_type": "markdown",
     "metadata": {},
     "source": [
      "** Model SVC with: **\n",
      "\n",
      "* kernel = rbf\n",
      "\n",
      "* Penalty parameter C of the error term **C =  10 **\n",
      "\n",
      "* Kernel Coefficient* **gamma = 1e2 **"
     ]
    },
    {
     "cell_type": "code",
     "collapsed": false,
     "input": [
      "SVC_RBF = getMetrics(model = SVC(C = 1e1, kernel = 'rbf', gamma = 1e2), \n",
      "                     name=\"SVC kernel 'rbt'\",\n",
      "                     X_train = trainDS,\n",
      "                     Y_train = trainLabels,\n",
      "                     X_test = testDS,\n",
      "                     Y_test = testLabels)"
     ],
     "language": "python",
     "metadata": {},
     "outputs": [],
     "prompt_number": 55
    },
    {
     "cell_type": "code",
     "collapsed": false,
     "input": [
      "# Plot of a ROC curve\n",
      "plt.figure(figsize=(7,7))\n",
      "plotROC([SVC_RBF, SVC_linear], plt)\n",
      "plt.show()"
     ],
     "language": "python",
     "metadata": {},
     "outputs": [
      {
       "metadata": {},
       "output_type": "display_data",
       "png": "[encoded data removed]",
       "text": [
        "<matplotlib.figure.Figure at 0x114955650>"
       ]
      }
     ],
     "prompt_number": 56
    },
    {
     "cell_type": "markdown",
     "metadata": {},
     "source": [
      "** Model SVC with: **\n",
      "\n",
      "* kernel = 'poly'\n",
      "\n",
      "* Polynomial degree **degree = 2**\n",
      "\n",
      "* Penalty parameter C of the error term **C =  1e1 **\n",
      "\n",
      "* Kernel Coefficient **gamma = 1e-1 **"
     ]
    },
    {
     "cell_type": "code",
     "collapsed": false,
     "input": [
      "SVC_Poly = getMetrics(model = SVC(C = 1e1, kernel = 'poly', gamma = 1e-1, degree = 2, probability=True), \n",
      "                     name=\"SVC kernel 'poly'\",\n",
      "                     X_train = trainDS,\n",
      "                     Y_train = trainLabels,\n",
      "                     X_test = testDS,\n",
      "                     Y_test = testLabels)"
     ],
     "language": "python",
     "metadata": {},
     "outputs": [],
     "prompt_number": 57
    },
    {
     "cell_type": "code",
     "collapsed": false,
     "input": [
      "# Plot of a ROC curve\n",
      "plt.figure(figsize=(7,7))\n",
      "plotROC([SVC_RBF, SVC_linear,SVC_Poly], plt)\n",
      "plt.show()"
     ],
     "language": "python",
     "metadata": {},
     "outputs": [
      {
       "metadata": {},
       "output_type": "display_data",
       "png": "[encoded data removed]",
       "text": [
        "<matplotlib.figure.Figure at 0x1149d4f50>"
       ]
      }
     ],
     "prompt_number": 58
    },
    {
     "cell_type": "heading",
     "level": 3,
     "metadata": {},
     "source": [
      "3.2 Cumulative Response (Gain Charts)"
     ]
    },
    {
     "cell_type": "markdown",
     "metadata": {},
     "source": [
      "Gain or lift is a measure of the effectiveness of a classification model calculated as the ratio between the results obtained with and without the model. Gain and lift charts are visual aids for evaluating performance of classification models. However, in contrast to the confusion matrix that evaluates models on the whole population gain or lift chart evaluates model performance in a portion of the population."
     ]
    },
    {
     "cell_type": "code",
     "collapsed": false,
     "input": [
      "def getLiftTable(y_score = None , Y = None, nBins = 10):\n",
      "    scoreTable = pd.DataFrame(zip(y_score, Y), columns=[\"score\",\"target\"])\n",
      "    sortedScoreTable = scoreTable.sort(\"score\")\n",
      "    l = len(sortedScoreTable)\n",
      "    t = zip(np.arange(1,101,100.0/nBins),\n",
      "            [100.0*sum(sortedScoreTable[0:n][\"target\"]==0)/sum(sortedScoreTable[\"target\"]==0) for n in range(l/nBins , l, l/nBins)])\n",
      "    df = pd.DataFrame(t, columns=[\"%count\",\"%target\"])\n",
      "    df[\"lift\"] = df[\"%target\"]/df[\"%count\"]\n",
      "    return df"
     ],
     "language": "python",
     "metadata": {},
     "outputs": [],
     "prompt_number": 59
    },
    {
     "cell_type": "code",
     "collapsed": false,
     "input": [
      "def plotCumulativeResponse(models = [], plt = None):\n",
      "    if not isinstance(models, (list, tuple)):\n",
      "        models = [models]\n",
      "    for m in models:\n",
      "        liftTable = getLiftTable(y_score=m[\"y_score\"], Y = testLabels, nBins = 100)\n",
      "        plt.plot(liftTable[\"%count\"],liftTable[\"%target\"],\n",
      "                 label = '%s' % m[\"name\"])\n",
      "    plt.plot([0, 100], [0, 100], 'k--', label = \"Random\")\n",
      "    plt.xlim([0.0, 100.0])\n",
      "    plt.ylim([0.0, 105.0])\n",
      "    plt.xlabel('Percentage of test instances (decresing by score)')\n",
      "    plt.ylabel('Percentage of positives targeted')\n",
      "    plt.title('Cumulative response of classifiers')\n",
      "    plt.legend(loc=\"upper left\")\n",
      "    plt.grid()\n",
      "    "
     ],
     "language": "python",
     "metadata": {},
     "outputs": [],
     "prompt_number": 60
    },
    {
     "cell_type": "code",
     "collapsed": false,
     "input": [
      "plt.figure(figsize=(10,7))\n",
      "plotCumulativeResponse([SVC_RBF, SVC_linear, SVC_Poly], plt)"
     ],
     "language": "python",
     "metadata": {},
     "outputs": [
      {
       "metadata": {},
       "output_type": "display_data",
       "png": "[encoded data removed]",
       "text": [
        "<matplotlib.figure.Figure at 0x12f47e610>"
       ]
      }
     ],
     "prompt_number": 61
    },
    {
     "cell_type": "heading",
     "level": 3,
     "metadata": {},
     "source": [
      "3.3 Lift Chart"
     ]
    },
    {
     "cell_type": "markdown",
     "metadata": {},
     "source": [
      "The lift chart shows how much more likely we are to receive positive responses than if we contact a random sample of customers."
     ]
    },
    {
     "cell_type": "code",
     "collapsed": false,
     "input": [
      "def plotLift(models = [], plt = None):\n",
      "    if not isinstance(models, (list, tuple)):\n",
      "        models = [models]\n",
      "    for m in models:\n",
      "        liftTable = getLiftTable(y_score=m[\"y_score\"], Y = testLabels, nBins = 100)\n",
      "        plt.plot(liftTable[\"%count\"],liftTable[\"lift\"],\n",
      "                 label = 'Lift %s' % m[\"name\"])\n",
      "    plt.plot([0, 100], [1, 1], 'k--', label = \"Random\")\n",
      "    plt.xlim([0.0, 100.0])\n",
      "    plt.ylim([0.0, 3.0])\n",
      "    plt.xlabel('Percentage of test instances (decresing by score)')\n",
      "    plt.ylabel('Lift')\n",
      "    plt.title('Lift of classifiers')\n",
      "    plt.legend(loc=\"upper right\")\n",
      "    plt.grid()\n",
      "    "
     ],
     "language": "python",
     "metadata": {},
     "outputs": [],
     "prompt_number": 62
    },
    {
     "cell_type": "code",
     "collapsed": false,
     "input": [
      "plt.figure(figsize=(10,7))\n",
      "plotLift([SVC_RBF, SVC_linear, SVC_Poly], plt)"
     ],
     "language": "python",
     "metadata": {},
     "outputs": [
      {
       "metadata": {},
       "output_type": "display_data",
       "png": "[encoded data removed]",
       "text": [
        "<matplotlib.figure.Figure at 0x114834310>"
       ]
      }
     ],
     "prompt_number": 63
    },
    {
     "cell_type": "code",
     "collapsed": false,
     "input": [],
     "language": "python",
     "metadata": {},
     "outputs": [],
     "prompt_number": 63
    }
   ],
   "metadata": {}
  }
 ]
}