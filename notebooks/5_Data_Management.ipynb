{
 "cells": [
  {
   "cell_type": "code",
   "execution_count": 1,
   "metadata": {
    "collapsed": false
   },
   "outputs": [],
   "source": [
    "%matplotlib inline"
   ]
  },
  {
   "cell_type": "markdown",
   "metadata": {},
   "source": [
    "### Libaries"
   ]
  },
  {
   "cell_type": "code",
   "execution_count": 2,
   "metadata": {
    "collapsed": false
   },
   "outputs": [],
   "source": [
    "import pandas as pd\n",
    "import numpy as np"
   ]
  },
  {
   "cell_type": "markdown",
   "metadata": {},
   "source": [
    "# Data Managemet\n",
    "\n",
    "## Content\n",
    "1. Getting the data\n",
    "2. Data Nomenclature\n",
    "3. Getting data from files: Text (CSV) & MS Excel files\n",
    "4. Getting data from Databases\n",
    "5. Getting data from WWW: API access (Twitter), \n",
    "6. Getting data from WWW: Web Scrapping\n",
    "7. Data Cleanup\n",
    "8. Data Manipulation: Filtering, Transforming, Aggregating and Sorting"
   ]
  },
  {
   "cell_type": "markdown",
   "metadata": {},
   "source": [
    "## 1. Getting the Data\n",
    "We are entering the **age of data**\n",
    "\n",
    "The challenge is no longer where to get data from, but **what to do with it**. \n",
    "\n",
    "The kind of information in each data set will **drive the type of research you perform**\n",
    "\n",
    "**Data issues**:\n",
    "* Quality & Reliability\n",
    "* Integrity (accuracy & consistency)\n",
    "* Missing values\n",
    "* Record linkage (matching)\n",
    "* Privacy"
   ]
  },
  {
   "cell_type": "markdown",
   "metadata": {},
   "source": [
    "## 2. Data Nomenclature\n",
    "\n",
    "### Semantic vs Type\n",
    "\n",
    "**Data Semantics**: \n",
    "* The real-world meaning. \n",
    "* e.g., company name, day of the month, person height, etc. \n",
    "\n",
    "**Data Type**: \n",
    "* Interpretation in terms of scales of measurements \n",
    "* e.g., quantity or category, sensible mathematical operations, data structure, etc.\n",
    "\n",
    "### Types\n",
    "\n",
    "**Nominal (labels)**: \n",
    "* Operations: =, ≠\n",
    "* eg. Apples, oranges, bananas…\n",
    "\n",
    "**Ordinal (ordered)**: \n",
    "* Operations: =, ≠, >, <\n",
    "* e.g. Small, medium, large\n",
    "\n",
    "**Interval (location of zero arbitrary)**: \n",
    "* Operations: =, ≠, >, <, +, − (distance)\n",
    "* eg. Dates: Jan 19; Location: (Lat, Long) \n",
    "* Like a geometric point. Cannot compare directly. \n",
    "* Only differences (i.e., intervals) can be compared\n",
    "\n",
    "**Ratio (zero fixed)**: \n",
    "* Operations: =, ≠, >, <, +, −, ×, ÷ (proportions)\n",
    "* eg. Measurements: Length, Mass,Temp, ... \n",
    "* Origin is meaningful, can measure ratios & proportions\n",
    "\n",
    "Both last data types usually are unified as **Quantitative** \n",
    "\n",
    "### Some Concepts\n",
    "\n",
    "* **Dataset:** a collection of data\n",
    "* **Training set:**  set of data used to discover potentially predictive relationships.\n",
    "* **Test set:** set of data used to assess the strength and utility of a predictive relationship.\n",
    "* **Example or instance or item:** represent a fact or a data point. Usually a row of the dataset\n",
    "* **Attributes or features or variables:** is an individual measurable property of a phenomenon being observed\n",
    "* **Target attribute or variable:** whose values are to be predicted. Obviously the target variable is not used to predict itself"
   ]
  },
  {
   "cell_type": "markdown",
   "metadata": {},
   "source": [
    "##3. Getting data from files: Text (CSV) & MS Excel files\n",
    "\n",
    "### 3.1 Getting data form CSV\n",
    "\n",
    "One of the simplest and most common ways of sharing data today is CSV (Comma-Separated Values).\n",
    "\n",
    "CSV has become a standard file format used to exchange data between many different application.\n",
    "\n",
    "CSV files usually have a .csv extension"
   ]
  },
  {
   "cell_type": "code",
   "execution_count": 3,
   "metadata": {
    "collapsed": false
   },
   "outputs": [],
   "source": [
    "titanicTrainingSet = pd.read_csv('../data/Titanic/train.csv', index_col=0)"
   ]
  },
  {
   "cell_type": "code",
   "execution_count": 4,
   "metadata": {
    "collapsed": false
   },
   "outputs": [
    {
     "data": {
      "text/html": [
       "<div>\n",
       "<table border=\"1\" class=\"dataframe\">\n",
       "  <thead>\n",
       "    <tr style=\"text-align: right;\">\n",
       "      <th></th>\n",
       "      <th>Survived</th>\n",
       "      <th>Pclass</th>\n",
       "      <th>Name</th>\n",
       "      <th>Sex</th>\n",
       "      <th>Age</th>\n",
       "      <th>SibSp</th>\n",
       "      <th>Parch</th>\n",
       "      <th>Ticket</th>\n",
       "      <th>Fare</th>\n",
       "      <th>Cabin</th>\n",
       "      <th>Embarked</th>\n",
       "    </tr>\n",
       "    <tr>\n",
       "      <th>PassengerId</th>\n",
       "      <th></th>\n",
       "      <th></th>\n",
       "      <th></th>\n",
       "      <th></th>\n",
       "      <th></th>\n",
       "      <th></th>\n",
       "      <th></th>\n",
       "      <th></th>\n",
       "      <th></th>\n",
       "      <th></th>\n",
       "      <th></th>\n",
       "    </tr>\n",
       "  </thead>\n",
       "  <tbody>\n",
       "    <tr>\n",
       "      <th>1</th>\n",
       "      <td>0</td>\n",
       "      <td>3</td>\n",
       "      <td>Braund, Mr. Owen Harris</td>\n",
       "      <td>male</td>\n",
       "      <td>22</td>\n",
       "      <td>1</td>\n",
       "      <td>0</td>\n",
       "      <td>A/5 21171</td>\n",
       "      <td>7.2500</td>\n",
       "      <td>NaN</td>\n",
       "      <td>S</td>\n",
       "    </tr>\n",
       "    <tr>\n",
       "      <th>2</th>\n",
       "      <td>1</td>\n",
       "      <td>1</td>\n",
       "      <td>Cumings, Mrs. John Bradley (Florence Briggs Th...</td>\n",
       "      <td>female</td>\n",
       "      <td>38</td>\n",
       "      <td>1</td>\n",
       "      <td>0</td>\n",
       "      <td>PC 17599</td>\n",
       "      <td>71.2833</td>\n",
       "      <td>C85</td>\n",
       "      <td>C</td>\n",
       "    </tr>\n",
       "    <tr>\n",
       "      <th>3</th>\n",
       "      <td>1</td>\n",
       "      <td>3</td>\n",
       "      <td>Heikkinen, Miss. Laina</td>\n",
       "      <td>female</td>\n",
       "      <td>26</td>\n",
       "      <td>0</td>\n",
       "      <td>0</td>\n",
       "      <td>STON/O2. 3101282</td>\n",
       "      <td>7.9250</td>\n",
       "      <td>NaN</td>\n",
       "      <td>S</td>\n",
       "    </tr>\n",
       "    <tr>\n",
       "      <th>4</th>\n",
       "      <td>1</td>\n",
       "      <td>1</td>\n",
       "      <td>Futrelle, Mrs. Jacques Heath (Lily May Peel)</td>\n",
       "      <td>female</td>\n",
       "      <td>35</td>\n",
       "      <td>1</td>\n",
       "      <td>0</td>\n",
       "      <td>113803</td>\n",
       "      <td>53.1000</td>\n",
       "      <td>C123</td>\n",
       "      <td>S</td>\n",
       "    </tr>\n",
       "    <tr>\n",
       "      <th>5</th>\n",
       "      <td>0</td>\n",
       "      <td>3</td>\n",
       "      <td>Allen, Mr. William Henry</td>\n",
       "      <td>male</td>\n",
       "      <td>35</td>\n",
       "      <td>0</td>\n",
       "      <td>0</td>\n",
       "      <td>373450</td>\n",
       "      <td>8.0500</td>\n",
       "      <td>NaN</td>\n",
       "      <td>S</td>\n",
       "    </tr>\n",
       "  </tbody>\n",
       "</table>\n",
       "</div>"
      ],
      "text/plain": [
       "             Survived  Pclass  \\\n",
       "PassengerId                     \n",
       "1                   0       3   \n",
       "2                   1       1   \n",
       "3                   1       3   \n",
       "4                   1       1   \n",
       "5                   0       3   \n",
       "\n",
       "                                                          Name     Sex  Age  \\\n",
       "PassengerId                                                                   \n",
       "1                                      Braund, Mr. Owen Harris    male   22   \n",
       "2            Cumings, Mrs. John Bradley (Florence Briggs Th...  female   38   \n",
       "3                                       Heikkinen, Miss. Laina  female   26   \n",
       "4                 Futrelle, Mrs. Jacques Heath (Lily May Peel)  female   35   \n",
       "5                                     Allen, Mr. William Henry    male   35   \n",
       "\n",
       "             SibSp  Parch            Ticket     Fare Cabin Embarked  \n",
       "PassengerId                                                          \n",
       "1                1      0         A/5 21171   7.2500   NaN        S  \n",
       "2                1      0          PC 17599  71.2833   C85        C  \n",
       "3                0      0  STON/O2. 3101282   7.9250   NaN        S  \n",
       "4                1      0            113803  53.1000  C123        S  \n",
       "5                0      0            373450   8.0500   NaN        S  "
      ]
     },
     "execution_count": 4,
     "metadata": {},
     "output_type": "execute_result"
    }
   ],
   "source": [
    "titanicTrainingSet.head()"
   ]
  },
  {
   "cell_type": "code",
   "execution_count": 5,
   "metadata": {
    "collapsed": false
   },
   "outputs": [
    {
     "data": {
      "text/plain": [
       "Survived      int64:dense\n",
       "Pclass        int64:dense\n",
       "Name         object:dense\n",
       "Sex          object:dense\n",
       "Age         float64:dense\n",
       "SibSp         int64:dense\n",
       "Parch         int64:dense\n",
       "Ticket       object:dense\n",
       "Fare        float64:dense\n",
       "Cabin        object:dense\n",
       "Embarked     object:dense\n",
       "dtype: object"
      ]
     },
     "execution_count": 5,
     "metadata": {},
     "output_type": "execute_result"
    }
   ],
   "source": [
    "titanicTrainingSet.ftypes"
   ]
  },
  {
   "cell_type": "markdown",
   "metadata": {
    "slideshow": {
     "slide_type": "-"
    }
   },
   "source": [
    "> Convert to category data type"
   ]
  },
  {
   "cell_type": "code",
   "execution_count": 6,
   "metadata": {
    "collapsed": false
   },
   "outputs": [],
   "source": [
    "titanicTrainingSet['Survived'] = titanicTrainingSet['Survived'].astype('category')\n",
    "titanicTrainingSet['Pclass'] = titanicTrainingSet['Pclass'].astype('category')\n",
    "titanicTrainingSet['Sex'] = titanicTrainingSet['Sex'].astype('category')\n",
    "titanicTrainingSet['Embarked'] = titanicTrainingSet['Embarked'].astype('category')"
   ]
  },
  {
   "cell_type": "code",
   "execution_count": 7,
   "metadata": {
    "collapsed": false
   },
   "outputs": [
    {
     "data": {
      "text/plain": [
       "Survived    category:dense\n",
       "Pclass      category:dense\n",
       "Name          object:dense\n",
       "Sex         category:dense\n",
       "Age          float64:dense\n",
       "SibSp          int64:dense\n",
       "Parch          int64:dense\n",
       "Ticket        object:dense\n",
       "Fare         float64:dense\n",
       "Cabin         object:dense\n",
       "Embarked    category:dense\n",
       "dtype: object"
      ]
     },
     "execution_count": 7,
     "metadata": {},
     "output_type": "execute_result"
    }
   ],
   "source": [
    "titanicTrainingSet.ftypes"
   ]
  },
  {
   "cell_type": "markdown",
   "metadata": {},
   "source": [
    "### 3.2 Getting data form MS Excel\n",
    "\n",
    "MS Excel is a widespread tool in a lot of organisations. \n",
    "\n",
    "So it's very common the use of MS Excel to exchange data and information for two reason:\n",
    "* Most of the enterprise tools allow export data to MS Excel\n",
    "* Most non-technical people often use Excel as a database replacement."
   ]
  },
  {
   "cell_type": "code",
   "execution_count": null,
   "metadata": {
    "collapsed": false
   },
   "outputs": [],
   "source": []
  },
  {
   "cell_type": "markdown",
   "metadata": {},
   "source": [
    "## 4. Getting Data form WWW\n",
    "\n",
    "### 4.1 Getting data form Twitter API\n",
    "\n",
    "The REST APIs provide programmatic access to read and write Twitter data.\n",
    "\n",
    "Author a new Tweet, read author profile and follower data, and more. \n",
    "\n",
    "The REST API identifies Twitter applications and users using OAuth; \n",
    "\n",
    "Responses are available in JSON.\n",
    "\n",
    "More info in: https://dev.twitter.com/rest/public \n",
    "\n",
    "#### 4.1.1 Create a Twitter App\n",
    "Follow the steps in the given order to create and authorize your app:\n",
    "\n",
    "1. You must have a Twitter Account. If not create one @ twitter.com.\n",
    "2. Log on to https://dev.twitter.com with same credential\n",
    "3. Goto https://apps.twitter.com/ \n",
    "4. Click on \"Create New App\"\n",
    "5. Give a Name to your App\n",
    "6. Give a Description\n",
    "7. You must create your own website to create this App.\n",
    "8. No need to mention callback URL\n",
    "9. Read the agreement and click on Agree button. \n",
    "10. Click on \"Create your Twitter Application\" \n",
    "\n",
    "#### 4.1.2 Get Permissions\n",
    "\n",
    "1. Click on Permissions Tab\n",
    "2. Change the permission to \"Read Write and Access direct messages\". Without changing the \n",
    "3. permission to Read Write and direct messages, you cant access the APIs. \n",
    "4. Changing access to this requires your phone number to be updated in twitter account.\n",
    "\n",
    "#### 4.1.3 Generate access token:\n",
    "\n",
    "1. Go to API Keys tab\n",
    "2. Press Regenerate API keys button\n",
    "3. Press Create my access token button to generate keys\n",
    "\n",
    "Twitter API: https://github.com/tweepy/tweepy"
   ]
  },
  {
   "cell_type": "code",
   "execution_count": 9,
   "metadata": {
    "collapsed": false
   },
   "outputs": [],
   "source": [
    "import tweepy"
   ]
  },
  {
   "cell_type": "code",
   "execution_count": 10,
   "metadata": {
    "collapsed": false
   },
   "outputs": [],
   "source": [
    "consumer_key = 'TFnouCZ2xP9rioeWfCKxCA'\n",
    "consumer_secret = '3gNa3IgwpA6wH5yZGSmFEJOjDMrWH1myme0HTTCB9oM'\n",
    "access_token = '63407360-6nrmVTVppPveIN3peyS6NIJutBfoNOejHtaicuek'\n",
    "access_token_secret = 'bUJTbtpXVPKqkCUvhqWq66fkkf35gcJ2n3FgmEg'\n",
    "\n",
    "auth = tweepy.OAuthHandler(consumer_key, consumer_secret)\n",
    "auth.set_access_token(access_token, access_token_secret)"
   ]
  },
  {
   "cell_type": "code",
   "execution_count": 11,
   "metadata": {
    "collapsed": false
   },
   "outputs": [
    {
     "name": "stdout",
     "output_type": "stream",
     "text": [
      "Microcerebros para combatir el autismo http://t.co/pGQCUAqcJy http://t.co/L4utHSmkrh\n",
      "RT @tumbIerposts: when ur mom says \"go before I change my mind\" http://t.co/9wPYfaX10a\n",
      "RT @BigDataBlogs: ZDNet » Apache Atlas, Parquet progress; Whirr retired: Data governance and columnar storage ... http://t.co/j0JFeWT8VG #B…\n",
      "Choose the right kind of Facebook Groups for your Business. http://t.co/FjSagDmgKz http://t.co/j77xFz87rC\n",
      "RT @ravikikan: #Startup tip of today #startups #quote #quotes #growthhacking #smallbiz #wisdom #mktg #innovation #socialmedia #tech http://…\n",
      "RT @wef: These are the most innovative countries in the world http://t.co/m2BsrJTJwH #innovation http://t.co/V1HHtJU8w0\n",
      "Why good #business #intelligence needs good parenting\r",
      " http://t.co/ZStGsOxprW http://t.co/Po0it9dzHy\n",
      "RT @janinebucks: Big data: The next frontier for innovation, competition, and productivity  | http://t.co/TSpahfFHV8 | Economics #free #ebo…\n",
      "RT @yprez: Building a Movie Recommendation Service with Apache Spark &amp; Flask - Part 2 http://t.co/aiLhGmvZBy #data #python #machinelearning…\n",
      "RT @GGorczynski: Do good with #Data. Here is where, when and how. http://t.co/w3FoCWkhBs #datascience http://t.co/ay3XDwiwk1\n",
      "Keys for using the #DigitalWallet on your cell phone: http://t.co/RcCFMzcHVj #innovation http://t.co/8I6pkYCl5F\n",
      "RT @Univ_Data: 63 millones de personas en Latinoamérica pertenecen a la clase media @pewresearch #DATA http://t.co/PVNRXYsLV3 http://t.co/E…\n",
      "Need help exporting #CSV data from #Neo4j? @mesirii shows you how with #Curl, #Cypher and #jq: http://t.co/9RLMo7kEO4\n",
      "RT @Data_Mashup: Google Buys Rangespan To Add Big Data Inventory Management To Google Shopping http://t.co/9TkBqC1SeI #Analytics #BigData #…\n",
      "Actions speak louder than words, and this new Twitter trend is say a lot: http://t.co/GgJR8dJ32p http://t.co/medoHGVfHX\n",
      "RT @tiwaryshailesh: Awesome Data Science Colleges List \n",
      "#bigdata #education\n",
      "--\n",
      "http://t.co/PyqGtsAiU1\n",
      "RT @Datafloq: Thyssenkrup Elevators understands the power of the Internet of Things and created smart elevators http://t.co/hplu6vn20g #Big…\n",
      "RT @MyNarmis: What Is Big Data? This 2 Minute Must Watch Video Explains It All\n",
      "http://t.co/wAGqF8uFK0\n",
      "#bigdata #data #startup http://t.co/L…\n",
      "RT @tumbIerposts: I hate how accurate this is http://t.co/hA0bZaXKbr\n",
      "'Del revés' es algo más que la última producción de Pixar http://t.co/iDhQrw1qgy http://t.co/tFc8ZIVo4c\n"
     ]
    }
   ],
   "source": [
    "api = tweepy.API(auth)\n",
    "\n",
    "public_tweets = api.home_timeline()\n",
    "for tweet in public_tweets:\n",
    "    print tweet.text\n",
    " "
   ]
  },
  {
   "cell_type": "code",
   "execution_count": 12,
   "metadata": {
    "collapsed": false
   },
   "outputs": [],
   "source": [
    "user = api.get_user('jbaquerot')"
   ]
  },
  {
   "cell_type": "code",
   "execution_count": 13,
   "metadata": {
    "collapsed": false
   },
   "outputs": [
    {
     "data": {
      "text/plain": [
       "{u'description': {u'urls': []},\n",
       " u'url': {u'urls': [{u'display_url': u'about.me/jbaquerot',\n",
       "    u'expanded_url': u'http://about.me/jbaquerot',\n",
       "    u'indices': [0, 22],\n",
       "    u'url': u'http://t.co/UmCed05SEE'}]}}"
      ]
     },
     "execution_count": 13,
     "metadata": {},
     "output_type": "execute_result"
    }
   ],
   "source": [
    "user.entities"
   ]
  },
  {
   "cell_type": "code",
   "execution_count": 14,
   "metadata": {
    "collapsed": false
   },
   "outputs": [
    {
     "data": {
      "text/plain": [
       "[u'\\u3010\\u767d\\u732b\\u3011\\u4eca\\u307e\\u3067\\u8abf\\u5b50\\u826f\\u304f\\u30ec\\u30b9\\u3057\\u3066\\u305d\\u306e\\u8cea\\u554f\\uff1f http://t.co/BTIJXIehvi',\n",
       " u'Guide prices for the new phase of apartments launching soon, start at \\xa3350,000 for a one bedroom apartment, more info http://t.co/GUQzpiAFgz',\n",
       " u'Ada info kak,@ezak_gmv,MAU belajar Bahasa INGGRIS tanpa KURSUS?INFO KLIK https://t.co/OhhD7I6BD0 http://t.co/RuxIJQpmL8',\n",
       " u'Guide prices for the new phase of apartments launching soon, start at \\xa3350,000 for a one bedroom apartment, more info http://t.co/GUQzpiAFgz',\n",
       " u'[\\u65b0\\u7740]: \\u3010\\u9ed2\\u732b\\u306e\\u30a6\\u30a3\\u30ba\\u3011\\u52a9\\u3063\\u4eba\\u304b\\u3089\\u7d42\\u7109\\u547c\\u3079\\u3070\\u6bb4\\u3089\\u305a\\u7d42\\u308f\\u308b\\u3093\\u3058\\u3083\\u306a\\u3044\\u3067\\u3059\\u304b\\u306d\\u305d\\u308c http://t.co/14bmcM79hu',\n",
       " u'GMV DESARROLLAR\\xc1 EL CENTRO DE CONTROL DEL SAT\\xc9LITE PARA FINES BANCARIOS BRIsat http://t.co/rM2he9mK18']"
      ]
     },
     "execution_count": 14,
     "metadata": {},
     "output_type": "execute_result"
    }
   ],
   "source": [
    "[tweet.text for tweet in api.search(q = \"info_GMV\")]"
   ]
  },
  {
   "cell_type": "code",
   "execution_count": null,
   "metadata": {
    "collapsed": false
   },
   "outputs": [],
   "source": []
  },
  {
   "cell_type": "code",
   "execution_count": null,
   "metadata": {
    "collapsed": true
   },
   "outputs": [],
   "source": []
  }
 ],
 "metadata": {
  "kernelspec": {
   "display_name": "Python 2",
   "language": "python",
   "name": "python2"
  },
  "language_info": {
   "codemirror_mode": {
    "name": "ipython",
    "version": 2
   },
   "file_extension": ".py",
   "mimetype": "text/x-python",
   "name": "python",
   "nbconvert_exporter": "python",
   "pygments_lexer": "ipython2",
   "version": "2.7.10"
  }
 },
 "nbformat": 4,
 "nbformat_minor": 0
}
