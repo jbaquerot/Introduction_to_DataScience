{
 "cells": [
  {
   "cell_type": "code",
   "execution_count": 1,
   "metadata": {
    "collapsed": false
   },
   "outputs": [],
   "source": [
    "%matplotlib inline"
   ]
  },
  {
   "cell_type": "markdown",
   "metadata": {},
   "source": [
    "# KDD99 Unsupervised Learning"
   ]
  },
  {
   "cell_type": "markdown",
   "metadata": {},
   "source": [
    "## 0. Libraries"
   ]
  },
  {
   "cell_type": "code",
   "execution_count": 2,
   "metadata": {
    "collapsed": false
   },
   "outputs": [],
   "source": [
    "import numpy as np\n",
    "import pandas as pd\n",
    "from pyspark.sql import SQLContext\n",
    "from pyspark.sql.types import *\n",
    "from pyspark.sql.functions import * \n",
    "sqlContext = SQLContext(sc)"
   ]
  },
  {
   "cell_type": "markdown",
   "metadata": {},
   "source": [
    "## 1. Data Description"
   ]
  },
  {
   "cell_type": "markdown",
   "metadata": {},
   "source": [
    "**Intrinsic attributes**\n",
    "\n",
    "These attributes are extracted from the headers' area of the network packets.\n",
    "\n",
    "Col|Feature name  | description |\ttype\n",
    "---|--------------|-------------|------------\n",
    "1  |duration \t  |length (number of seconds) of the connection |continuous\n",
    "2  |protocol_type |type of the protocol, e.g. tcp, udp, etc. |discrete\n",
    "3  |service \t  |network service on the destination, e.g., http, telnet, etc. |discrete\n",
    "4  |flag \t      |normal or error status of the connection. The possible status are this: SF, S0, S1, S2, S3, OTH, REJ, RSTO, RSTOS0, SH, RSTRH, SHR \t|discrete \n",
    "5  |src_bytes \t  |number of data bytes from source to destination \t|continuous\n",
    "6  |dst_bytes \t  |number of data bytes from destination to source \t|continuous\n",
    "7  |land \t      |1 if connection is from/to the same host/port; 0 otherwise \t|discrete\n",
    "8  |wrong_fragment|sum of bad checksum packets in a connection \t|continuous\n",
    "9  |urgent \t      |number of urgent packets. Urgent packets are packets with the urgent bit activated \t|continuous\n",
    "\n",
    "\n",
    "**Class attribute**\n",
    "\n",
    "The 42nd attribute is the ***class_attack*** attribute, it indicates which type of connections is each instance: normal or which attack. The values it can take are the following: *anomaly, dict, dict_simple, eject, eject-fail, ffb, ffb_clear, format, format_clear, format-fail, ftp-write, guest, imap, land, load_clear, loadmodule, multihop, perl_clear, perlmagic, phf, rootkit, spy, syslog, teardrop, warez, warezclient, warezmaster, pod, back, ip- sweep, neptune, nmap, portsweep, satan, smurf and normal*."
   ]
  },
  {
   "cell_type": "markdown",
   "metadata": {},
   "source": [
    "** Categories of class attribute **\n",
    "\n",
    "\n",
    "class_attack |Category\n",
    "-------|--------------\n",
    "smurf| dos\n",
    "neptune| dos\n",
    "back| dos\n",
    "teardrop| dos\n",
    "pod| dos\n",
    "land| dos\n",
    "normal|normal\n",
    "satan|probe\n",
    "ipsweep|probe\n",
    "portsweep|probe\n",
    "nmap|probe\n",
    "warezclient|r2l\n",
    "guess_passwd|r2l\n",
    "warezmaster|r2l\n",
    "imap|r2l\n",
    "ftp_write|r2l\n",
    "multihop|r2l\n",
    "phf|r2l\n",
    "spy|r2l\n",
    "buffer_overflow|u2r\n",
    "rootkit|u2r\n",
    "loadmodule|u2r\n",
    "perl|u2r"
   ]
  },
  {
   "cell_type": "markdown",
   "metadata": {},
   "source": [
    "## 2. Load Data"
   ]
  },
  {
   "cell_type": "code",
   "execution_count": 3,
   "metadata": {
    "collapsed": false
   },
   "outputs": [],
   "source": [
    "textFileConn = sc.textFile('../data/KDD/KDDTrain+.txt')\n"
   ]
  },
  {
   "cell_type": "code",
   "execution_count": 4,
   "metadata": {
    "collapsed": false
   },
   "outputs": [],
   "source": [
    "#Creating the schema\n",
    "\n",
    "#we define the name of the columns\n",
    "\n",
    "columnNames=[\"duration\",\"protocol_type\",\"service\",\"flag\",\"src_bytes\",\"dst_bytes\",\"land\",\n",
    "                 \"wrong_fragment\",\"urgent\", \"class_attack\"]"
   ]
  },
  {
   "cell_type": "code",
   "execution_count": 5,
   "metadata": {
    "collapsed": false
   },
   "outputs": [],
   "source": [
    "#quick fields initialitation all for FloatType\n",
    "connFields = [StructField(colName, FloatType(), True) for colName in columnNames]"
   ]
  },
  {
   "cell_type": "code",
   "execution_count": 6,
   "metadata": {
    "collapsed": true
   },
   "outputs": [],
   "source": [
    "#we proceed to modify the respective fields so that they reflect the correct data type:\n",
    "connFields[1].dataType = StringType()\n",
    "connFields[2].dataType = StringType()\n",
    "connFields[3].dataType = StringType()\n",
    "connFields[9].dataType = StringType()"
   ]
  },
  {
   "cell_type": "code",
   "execution_count": 7,
   "metadata": {
    "collapsed": false
   },
   "outputs": [],
   "source": [
    "# we can construct our schema, which we will use later below for building the data frame\n",
    "connSchema = StructType(connFields)"
   ]
  },
  {
   "cell_type": "code",
   "execution_count": 8,
   "metadata": {
    "collapsed": true
   },
   "outputs": [],
   "source": [
    "#Parsing the file\n",
    "def parseReg(p):\n",
    "    return ( float(p[0])\n",
    "            ,p[1], p[2], p[3] \n",
    "            ,float(p[4])\n",
    "            ,float(p[5])\n",
    "            ,float(p[6])\n",
    "            ,float(p[7])\n",
    "            ,float(p[8])\n",
    "            ,p[41])"
   ]
  },
  {
   "cell_type": "code",
   "execution_count": 9,
   "metadata": {
    "collapsed": true
   },
   "outputs": [],
   "source": [
    "connParsedFile = (textFileConn.map(lambda line: line.split(','))\n",
    "                              .map(parseReg))"
   ]
  },
  {
   "cell_type": "code",
   "execution_count": 10,
   "metadata": {
    "collapsed": false
   },
   "outputs": [
    {
     "data": {
      "text/plain": [
       "DataFrame[duration: float, protocol_type: string, service: string, flag: string, src_bytes: float, dst_bytes: float, land: float, wrong_fragment: float, urgent: float, class_attack: string]"
      ]
     },
     "execution_count": 10,
     "metadata": {},
     "output_type": "execute_result"
    }
   ],
   "source": [
    "# We are now ready to build our data frame, using the connParsedFile RDD computed above and the schema \n",
    "# variable already calculated:\n",
    "conn = sqlContext.createDataFrame(connParsedFile, connSchema)\n",
    "conn.cache()"
   ]
  },
  {
   "cell_type": "code",
   "execution_count": 11,
   "metadata": {
    "collapsed": false
   },
   "outputs": [
    {
     "data": {
      "text/plain": [
       "[Row(duration=0.0, protocol_type=u'tcp', service=u'ftp_data', flag=u'SF', src_bytes=491.0, dst_bytes=0.0, land=0.0, wrong_fragment=0.0, urgent=0.0, class_attack=u'normal'),\n",
       " Row(duration=0.0, protocol_type=u'udp', service=u'other', flag=u'SF', src_bytes=146.0, dst_bytes=0.0, land=0.0, wrong_fragment=0.0, urgent=0.0, class_attack=u'normal'),\n",
       " Row(duration=0.0, protocol_type=u'tcp', service=u'private', flag=u'S0', src_bytes=0.0, dst_bytes=0.0, land=0.0, wrong_fragment=0.0, urgent=0.0, class_attack=u'neptune')]"
      ]
     },
     "execution_count": 11,
     "metadata": {},
     "output_type": "execute_result"
    }
   ],
   "source": [
    "conn.take(3)"
   ]
  },
  {
   "cell_type": "code",
   "execution_count": 12,
   "metadata": {
    "collapsed": false
   },
   "outputs": [
    {
     "data": {
      "text/html": [
       "<div>\n",
       "<table border=\"1\" class=\"dataframe\">\n",
       "  <thead>\n",
       "    <tr style=\"text-align: right;\">\n",
       "      <th></th>\n",
       "      <th>duration</th>\n",
       "      <th>protocol_type</th>\n",
       "      <th>service</th>\n",
       "      <th>flag</th>\n",
       "      <th>src_bytes</th>\n",
       "      <th>dst_bytes</th>\n",
       "      <th>land</th>\n",
       "      <th>wrong_fragment</th>\n",
       "      <th>urgent</th>\n",
       "      <th>class_attack</th>\n",
       "    </tr>\n",
       "  </thead>\n",
       "  <tbody>\n",
       "    <tr>\n",
       "      <th>0</th>\n",
       "      <td>0</td>\n",
       "      <td>tcp</td>\n",
       "      <td>ftp_data</td>\n",
       "      <td>SF</td>\n",
       "      <td>491</td>\n",
       "      <td>0</td>\n",
       "      <td>0</td>\n",
       "      <td>0</td>\n",
       "      <td>0</td>\n",
       "      <td>normal</td>\n",
       "    </tr>\n",
       "    <tr>\n",
       "      <th>1</th>\n",
       "      <td>0</td>\n",
       "      <td>udp</td>\n",
       "      <td>other</td>\n",
       "      <td>SF</td>\n",
       "      <td>146</td>\n",
       "      <td>0</td>\n",
       "      <td>0</td>\n",
       "      <td>0</td>\n",
       "      <td>0</td>\n",
       "      <td>normal</td>\n",
       "    </tr>\n",
       "    <tr>\n",
       "      <th>2</th>\n",
       "      <td>0</td>\n",
       "      <td>tcp</td>\n",
       "      <td>private</td>\n",
       "      <td>S0</td>\n",
       "      <td>0</td>\n",
       "      <td>0</td>\n",
       "      <td>0</td>\n",
       "      <td>0</td>\n",
       "      <td>0</td>\n",
       "      <td>neptune</td>\n",
       "    </tr>\n",
       "    <tr>\n",
       "      <th>3</th>\n",
       "      <td>0</td>\n",
       "      <td>tcp</td>\n",
       "      <td>http</td>\n",
       "      <td>SF</td>\n",
       "      <td>232</td>\n",
       "      <td>8153</td>\n",
       "      <td>0</td>\n",
       "      <td>0</td>\n",
       "      <td>0</td>\n",
       "      <td>normal</td>\n",
       "    </tr>\n",
       "  </tbody>\n",
       "</table>\n",
       "</div>"
      ],
      "text/plain": [
       "   duration protocol_type   service flag  src_bytes  dst_bytes  land  \\\n",
       "0         0           tcp  ftp_data   SF        491          0     0   \n",
       "1         0           udp     other   SF        146          0     0   \n",
       "2         0           tcp   private   S0          0          0     0   \n",
       "3         0           tcp      http   SF        232       8153     0   \n",
       "\n",
       "   wrong_fragment  urgent class_attack  \n",
       "0               0       0       normal  \n",
       "1               0       0       normal  \n",
       "2               0       0      neptune  \n",
       "3               0       0       normal  "
      ]
     },
     "execution_count": 12,
     "metadata": {},
     "output_type": "execute_result"
    }
   ],
   "source": [
    "conn.limit(4).toPandas()"
   ]
  },
  {
   "cell_type": "code",
   "execution_count": 13,
   "metadata": {
    "collapsed": false
   },
   "outputs": [
    {
     "data": {
      "text/html": [
       "<div>\n",
       "<table border=\"1\" class=\"dataframe\">\n",
       "  <thead>\n",
       "    <tr style=\"text-align: right;\">\n",
       "      <th></th>\n",
       "      <th>class_attack</th>\n",
       "    </tr>\n",
       "  </thead>\n",
       "  <tbody>\n",
       "    <tr>\n",
       "      <th>0</th>\n",
       "      <td>back</td>\n",
       "    </tr>\n",
       "    <tr>\n",
       "      <th>1</th>\n",
       "      <td>ftp_write</td>\n",
       "    </tr>\n",
       "    <tr>\n",
       "      <th>2</th>\n",
       "      <td>imap</td>\n",
       "    </tr>\n",
       "    <tr>\n",
       "      <th>3</th>\n",
       "      <td>neptune</td>\n",
       "    </tr>\n",
       "    <tr>\n",
       "      <th>4</th>\n",
       "      <td>normal</td>\n",
       "    </tr>\n",
       "    <tr>\n",
       "      <th>5</th>\n",
       "      <td>land</td>\n",
       "    </tr>\n",
       "    <tr>\n",
       "      <th>6</th>\n",
       "      <td>ipsweep</td>\n",
       "    </tr>\n",
       "    <tr>\n",
       "      <th>7</th>\n",
       "      <td>teardrop</td>\n",
       "    </tr>\n",
       "    <tr>\n",
       "      <th>8</th>\n",
       "      <td>spy</td>\n",
       "    </tr>\n",
       "    <tr>\n",
       "      <th>9</th>\n",
       "      <td>buffer_overflow</td>\n",
       "    </tr>\n",
       "    <tr>\n",
       "      <th>10</th>\n",
       "      <td>rootkit</td>\n",
       "    </tr>\n",
       "    <tr>\n",
       "      <th>11</th>\n",
       "      <td>loadmodule</td>\n",
       "    </tr>\n",
       "    <tr>\n",
       "      <th>12</th>\n",
       "      <td>phf</td>\n",
       "    </tr>\n",
       "    <tr>\n",
       "      <th>13</th>\n",
       "      <td>smurf</td>\n",
       "    </tr>\n",
       "    <tr>\n",
       "      <th>14</th>\n",
       "      <td>pod</td>\n",
       "    </tr>\n",
       "    <tr>\n",
       "      <th>15</th>\n",
       "      <td>warezclient</td>\n",
       "    </tr>\n",
       "    <tr>\n",
       "      <th>16</th>\n",
       "      <td>satan</td>\n",
       "    </tr>\n",
       "    <tr>\n",
       "      <th>17</th>\n",
       "      <td>warezmaster</td>\n",
       "    </tr>\n",
       "    <tr>\n",
       "      <th>18</th>\n",
       "      <td>nmap</td>\n",
       "    </tr>\n",
       "    <tr>\n",
       "      <th>19</th>\n",
       "      <td>multihop</td>\n",
       "    </tr>\n",
       "    <tr>\n",
       "      <th>20</th>\n",
       "      <td>guess_passwd</td>\n",
       "    </tr>\n",
       "    <tr>\n",
       "      <th>21</th>\n",
       "      <td>portsweep</td>\n",
       "    </tr>\n",
       "    <tr>\n",
       "      <th>22</th>\n",
       "      <td>perl</td>\n",
       "    </tr>\n",
       "  </tbody>\n",
       "</table>\n",
       "</div>"
      ],
      "text/plain": [
       "       class_attack\n",
       "0              back\n",
       "1         ftp_write\n",
       "2              imap\n",
       "3           neptune\n",
       "4            normal\n",
       "5              land\n",
       "6           ipsweep\n",
       "7          teardrop\n",
       "8               spy\n",
       "9   buffer_overflow\n",
       "10          rootkit\n",
       "11       loadmodule\n",
       "12              phf\n",
       "13            smurf\n",
       "14              pod\n",
       "15      warezclient\n",
       "16            satan\n",
       "17      warezmaster\n",
       "18             nmap\n",
       "19         multihop\n",
       "20     guess_passwd\n",
       "21        portsweep\n",
       "22             perl"
      ]
     },
     "execution_count": 13,
     "metadata": {},
     "output_type": "execute_result"
    }
   ],
   "source": [
    "#get all the distint values of class_attack\n",
    "conn.select(\"class_attack\").distinct().toPandas()"
   ]
  },
  {
   "cell_type": "markdown",
   "metadata": {},
   "source": [
    "## 3. Data Preparation"
   ]
  },
  {
   "cell_type": "markdown",
   "metadata": {},
   "source": [
    "### 3.1 Encoding categorical features"
   ]
  },
  {
   "cell_type": "code",
   "execution_count": 27,
   "metadata": {
    "collapsed": true
   },
   "outputs": [],
   "source": [
    "from pyspark.sql import functions as F"
   ]
  },
  {
   "cell_type": "code",
   "execution_count": 96,
   "metadata": {
    "collapsed": false
   },
   "outputs": [],
   "source": [
    "def encodeCategorical(df, catName):\n",
    "    #Encode the categorical variable in different columns foreach categories \n",
    "    #and the value is equal to 1 if the category is equal to column name and 0 otherwise. \n",
    "    #Finally drops the categorical variable\n",
    "    \n",
    "    categories = df.select(catName).distinct().toPandas()[catName]\n",
    "    aux = df\n",
    "    for c in categories:\n",
    "        aux = aux.withColumn(c, F.when(df[catName] == c, 1).otherwise(0))\n",
    "        \n",
    "    return aux.drop(catName)"
   ]
  },
  {
   "cell_type": "code",
   "execution_count": 94,
   "metadata": {
    "collapsed": false
   },
   "outputs": [
    {
     "data": {
      "text/html": [
       "<div>\n",
       "<table border=\"1\" class=\"dataframe\">\n",
       "  <thead>\n",
       "    <tr style=\"text-align: right;\">\n",
       "      <th></th>\n",
       "      <th>duration</th>\n",
       "      <th>service</th>\n",
       "      <th>flag</th>\n",
       "      <th>src_bytes</th>\n",
       "      <th>dst_bytes</th>\n",
       "      <th>land</th>\n",
       "      <th>wrong_fragment</th>\n",
       "      <th>urgent</th>\n",
       "      <th>class_attack</th>\n",
       "      <th>udp</th>\n",
       "      <th>tcp</th>\n",
       "      <th>icmp</th>\n",
       "    </tr>\n",
       "  </thead>\n",
       "  <tbody>\n",
       "    <tr>\n",
       "      <th>0</th>\n",
       "      <td>0</td>\n",
       "      <td>ftp_data</td>\n",
       "      <td>SF</td>\n",
       "      <td>491</td>\n",
       "      <td>0</td>\n",
       "      <td>0</td>\n",
       "      <td>0</td>\n",
       "      <td>0</td>\n",
       "      <td>normal</td>\n",
       "      <td>0</td>\n",
       "      <td>1</td>\n",
       "      <td>0</td>\n",
       "    </tr>\n",
       "    <tr>\n",
       "      <th>1</th>\n",
       "      <td>0</td>\n",
       "      <td>other</td>\n",
       "      <td>SF</td>\n",
       "      <td>146</td>\n",
       "      <td>0</td>\n",
       "      <td>0</td>\n",
       "      <td>0</td>\n",
       "      <td>0</td>\n",
       "      <td>normal</td>\n",
       "      <td>1</td>\n",
       "      <td>0</td>\n",
       "      <td>0</td>\n",
       "    </tr>\n",
       "    <tr>\n",
       "      <th>2</th>\n",
       "      <td>0</td>\n",
       "      <td>private</td>\n",
       "      <td>S0</td>\n",
       "      <td>0</td>\n",
       "      <td>0</td>\n",
       "      <td>0</td>\n",
       "      <td>0</td>\n",
       "      <td>0</td>\n",
       "      <td>neptune</td>\n",
       "      <td>0</td>\n",
       "      <td>1</td>\n",
       "      <td>0</td>\n",
       "    </tr>\n",
       "    <tr>\n",
       "      <th>3</th>\n",
       "      <td>0</td>\n",
       "      <td>http</td>\n",
       "      <td>SF</td>\n",
       "      <td>232</td>\n",
       "      <td>8153</td>\n",
       "      <td>0</td>\n",
       "      <td>0</td>\n",
       "      <td>0</td>\n",
       "      <td>normal</td>\n",
       "      <td>0</td>\n",
       "      <td>1</td>\n",
       "      <td>0</td>\n",
       "    </tr>\n",
       "    <tr>\n",
       "      <th>4</th>\n",
       "      <td>0</td>\n",
       "      <td>http</td>\n",
       "      <td>SF</td>\n",
       "      <td>199</td>\n",
       "      <td>420</td>\n",
       "      <td>0</td>\n",
       "      <td>0</td>\n",
       "      <td>0</td>\n",
       "      <td>normal</td>\n",
       "      <td>0</td>\n",
       "      <td>1</td>\n",
       "      <td>0</td>\n",
       "    </tr>\n",
       "    <tr>\n",
       "      <th>5</th>\n",
       "      <td>0</td>\n",
       "      <td>private</td>\n",
       "      <td>REJ</td>\n",
       "      <td>0</td>\n",
       "      <td>0</td>\n",
       "      <td>0</td>\n",
       "      <td>0</td>\n",
       "      <td>0</td>\n",
       "      <td>neptune</td>\n",
       "      <td>0</td>\n",
       "      <td>1</td>\n",
       "      <td>0</td>\n",
       "    </tr>\n",
       "    <tr>\n",
       "      <th>6</th>\n",
       "      <td>0</td>\n",
       "      <td>private</td>\n",
       "      <td>S0</td>\n",
       "      <td>0</td>\n",
       "      <td>0</td>\n",
       "      <td>0</td>\n",
       "      <td>0</td>\n",
       "      <td>0</td>\n",
       "      <td>neptune</td>\n",
       "      <td>0</td>\n",
       "      <td>1</td>\n",
       "      <td>0</td>\n",
       "    </tr>\n",
       "    <tr>\n",
       "      <th>7</th>\n",
       "      <td>0</td>\n",
       "      <td>private</td>\n",
       "      <td>S0</td>\n",
       "      <td>0</td>\n",
       "      <td>0</td>\n",
       "      <td>0</td>\n",
       "      <td>0</td>\n",
       "      <td>0</td>\n",
       "      <td>neptune</td>\n",
       "      <td>0</td>\n",
       "      <td>1</td>\n",
       "      <td>0</td>\n",
       "    </tr>\n",
       "    <tr>\n",
       "      <th>8</th>\n",
       "      <td>0</td>\n",
       "      <td>remote_job</td>\n",
       "      <td>S0</td>\n",
       "      <td>0</td>\n",
       "      <td>0</td>\n",
       "      <td>0</td>\n",
       "      <td>0</td>\n",
       "      <td>0</td>\n",
       "      <td>neptune</td>\n",
       "      <td>0</td>\n",
       "      <td>1</td>\n",
       "      <td>0</td>\n",
       "    </tr>\n",
       "    <tr>\n",
       "      <th>9</th>\n",
       "      <td>0</td>\n",
       "      <td>private</td>\n",
       "      <td>S0</td>\n",
       "      <td>0</td>\n",
       "      <td>0</td>\n",
       "      <td>0</td>\n",
       "      <td>0</td>\n",
       "      <td>0</td>\n",
       "      <td>neptune</td>\n",
       "      <td>0</td>\n",
       "      <td>1</td>\n",
       "      <td>0</td>\n",
       "    </tr>\n",
       "  </tbody>\n",
       "</table>\n",
       "</div>"
      ],
      "text/plain": [
       "   duration     service flag  src_bytes  dst_bytes  land  wrong_fragment  \\\n",
       "0         0    ftp_data   SF        491          0     0               0   \n",
       "1         0       other   SF        146          0     0               0   \n",
       "2         0     private   S0          0          0     0               0   \n",
       "3         0        http   SF        232       8153     0               0   \n",
       "4         0        http   SF        199        420     0               0   \n",
       "5         0     private  REJ          0          0     0               0   \n",
       "6         0     private   S0          0          0     0               0   \n",
       "7         0     private   S0          0          0     0               0   \n",
       "8         0  remote_job   S0          0          0     0               0   \n",
       "9         0     private   S0          0          0     0               0   \n",
       "\n",
       "   urgent class_attack  udp  tcp  icmp  \n",
       "0       0       normal    0    1     0  \n",
       "1       0       normal    1    0     0  \n",
       "2       0      neptune    0    1     0  \n",
       "3       0       normal    0    1     0  \n",
       "4       0       normal    0    1     0  \n",
       "5       0      neptune    0    1     0  \n",
       "6       0      neptune    0    1     0  \n",
       "7       0      neptune    0    1     0  \n",
       "8       0      neptune    0    1     0  \n",
       "9       0      neptune    0    1     0  "
      ]
     },
     "execution_count": 94,
     "metadata": {},
     "output_type": "execute_result"
    }
   ],
   "source": [
    "encodeCategorical(conn, \"protocol_type\").limit(10).toPandas()"
   ]
  },
  {
   "cell_type": "markdown",
   "metadata": {},
   "source": [
    "** Encoding protocol_type **"
   ]
  },
  {
   "cell_type": "code",
   "execution_count": 97,
   "metadata": {
    "collapsed": false
   },
   "outputs": [
    {
     "data": {
      "text/html": [
       "<div>\n",
       "<table border=\"1\" class=\"dataframe\">\n",
       "  <thead>\n",
       "    <tr style=\"text-align: right;\">\n",
       "      <th></th>\n",
       "      <th>protocol_type</th>\n",
       "    </tr>\n",
       "  </thead>\n",
       "  <tbody>\n",
       "    <tr>\n",
       "      <th>0</th>\n",
       "      <td>udp</td>\n",
       "    </tr>\n",
       "    <tr>\n",
       "      <th>1</th>\n",
       "      <td>tcp</td>\n",
       "    </tr>\n",
       "    <tr>\n",
       "      <th>2</th>\n",
       "      <td>icmp</td>\n",
       "    </tr>\n",
       "  </tbody>\n",
       "</table>\n",
       "</div>"
      ],
      "text/plain": [
       "  protocol_type\n",
       "0           udp\n",
       "1           tcp\n",
       "2          icmp"
      ]
     },
     "execution_count": 97,
     "metadata": {},
     "output_type": "execute_result"
    }
   ],
   "source": [
    "conn.select(\"protocol_type\").distinct().toPandas()"
   ]
  },
  {
   "cell_type": "code",
   "execution_count": 98,
   "metadata": {
    "collapsed": false
   },
   "outputs": [],
   "source": [
    "connEncoded = encodeCategorical(conn, \"protocol_type\")"
   ]
  },
  {
   "cell_type": "code",
   "execution_count": 99,
   "metadata": {
    "collapsed": false
   },
   "outputs": [
    {
     "data": {
      "text/html": [
       "<div>\n",
       "<table border=\"1\" class=\"dataframe\">\n",
       "  <thead>\n",
       "    <tr style=\"text-align: right;\">\n",
       "      <th></th>\n",
       "      <th>duration</th>\n",
       "      <th>service</th>\n",
       "      <th>flag</th>\n",
       "      <th>src_bytes</th>\n",
       "      <th>dst_bytes</th>\n",
       "      <th>land</th>\n",
       "      <th>wrong_fragment</th>\n",
       "      <th>urgent</th>\n",
       "      <th>class_attack</th>\n",
       "      <th>udp</th>\n",
       "      <th>tcp</th>\n",
       "      <th>icmp</th>\n",
       "    </tr>\n",
       "  </thead>\n",
       "  <tbody>\n",
       "    <tr>\n",
       "      <th>0</th>\n",
       "      <td>0</td>\n",
       "      <td>ftp_data</td>\n",
       "      <td>SF</td>\n",
       "      <td>491</td>\n",
       "      <td>0</td>\n",
       "      <td>0</td>\n",
       "      <td>0</td>\n",
       "      <td>0</td>\n",
       "      <td>normal</td>\n",
       "      <td>0</td>\n",
       "      <td>1</td>\n",
       "      <td>0</td>\n",
       "    </tr>\n",
       "    <tr>\n",
       "      <th>1</th>\n",
       "      <td>0</td>\n",
       "      <td>other</td>\n",
       "      <td>SF</td>\n",
       "      <td>146</td>\n",
       "      <td>0</td>\n",
       "      <td>0</td>\n",
       "      <td>0</td>\n",
       "      <td>0</td>\n",
       "      <td>normal</td>\n",
       "      <td>1</td>\n",
       "      <td>0</td>\n",
       "      <td>0</td>\n",
       "    </tr>\n",
       "    <tr>\n",
       "      <th>2</th>\n",
       "      <td>0</td>\n",
       "      <td>private</td>\n",
       "      <td>S0</td>\n",
       "      <td>0</td>\n",
       "      <td>0</td>\n",
       "      <td>0</td>\n",
       "      <td>0</td>\n",
       "      <td>0</td>\n",
       "      <td>neptune</td>\n",
       "      <td>0</td>\n",
       "      <td>1</td>\n",
       "      <td>0</td>\n",
       "    </tr>\n",
       "    <tr>\n",
       "      <th>3</th>\n",
       "      <td>0</td>\n",
       "      <td>http</td>\n",
       "      <td>SF</td>\n",
       "      <td>232</td>\n",
       "      <td>8153</td>\n",
       "      <td>0</td>\n",
       "      <td>0</td>\n",
       "      <td>0</td>\n",
       "      <td>normal</td>\n",
       "      <td>0</td>\n",
       "      <td>1</td>\n",
       "      <td>0</td>\n",
       "    </tr>\n",
       "    <tr>\n",
       "      <th>4</th>\n",
       "      <td>0</td>\n",
       "      <td>http</td>\n",
       "      <td>SF</td>\n",
       "      <td>199</td>\n",
       "      <td>420</td>\n",
       "      <td>0</td>\n",
       "      <td>0</td>\n",
       "      <td>0</td>\n",
       "      <td>normal</td>\n",
       "      <td>0</td>\n",
       "      <td>1</td>\n",
       "      <td>0</td>\n",
       "    </tr>\n",
       "  </tbody>\n",
       "</table>\n",
       "</div>"
      ],
      "text/plain": [
       "   duration   service flag  src_bytes  dst_bytes  land  wrong_fragment  \\\n",
       "0         0  ftp_data   SF        491          0     0               0   \n",
       "1         0     other   SF        146          0     0               0   \n",
       "2         0   private   S0          0          0     0               0   \n",
       "3         0      http   SF        232       8153     0               0   \n",
       "4         0      http   SF        199        420     0               0   \n",
       "\n",
       "   urgent class_attack  udp  tcp  icmp  \n",
       "0       0       normal    0    1     0  \n",
       "1       0       normal    1    0     0  \n",
       "2       0      neptune    0    1     0  \n",
       "3       0       normal    0    1     0  \n",
       "4       0       normal    0    1     0  "
      ]
     },
     "execution_count": 99,
     "metadata": {},
     "output_type": "execute_result"
    }
   ],
   "source": [
    "connEncoded.limit(5).toPandas()"
   ]
  },
  {
   "cell_type": "markdown",
   "metadata": {},
   "source": [
    "** Encoding service **"
   ]
  },
  {
   "cell_type": "code",
   "execution_count": 100,
   "metadata": {
    "collapsed": false
   },
   "outputs": [
    {
     "data": {
      "text/html": [
       "<div>\n",
       "<table border=\"1\" class=\"dataframe\">\n",
       "  <thead>\n",
       "    <tr style=\"text-align: right;\">\n",
       "      <th></th>\n",
       "      <th>service</th>\n",
       "    </tr>\n",
       "  </thead>\n",
       "  <tbody>\n",
       "    <tr>\n",
       "      <th>0</th>\n",
       "      <td>kshell</td>\n",
       "    </tr>\n",
       "    <tr>\n",
       "      <th>1</th>\n",
       "      <td>iso_tsap</td>\n",
       "    </tr>\n",
       "    <tr>\n",
       "      <th>2</th>\n",
       "      <td>tim_i</td>\n",
       "    </tr>\n",
       "    <tr>\n",
       "      <th>3</th>\n",
       "      <td>sunrpc</td>\n",
       "    </tr>\n",
       "    <tr>\n",
       "      <th>4</th>\n",
       "      <td>shell</td>\n",
       "    </tr>\n",
       "    <tr>\n",
       "      <th>5</th>\n",
       "      <td>mtp</td>\n",
       "    </tr>\n",
       "    <tr>\n",
       "      <th>6</th>\n",
       "      <td>discard</td>\n",
       "    </tr>\n",
       "    <tr>\n",
       "      <th>7</th>\n",
       "      <td>whois</td>\n",
       "    </tr>\n",
       "    <tr>\n",
       "      <th>8</th>\n",
       "      <td>time</td>\n",
       "    </tr>\n",
       "    <tr>\n",
       "      <th>9</th>\n",
       "      <td>harvest</td>\n",
       "    </tr>\n",
       "    <tr>\n",
       "      <th>10</th>\n",
       "      <td>private</td>\n",
       "    </tr>\n",
       "    <tr>\n",
       "      <th>11</th>\n",
       "      <td>bgp</td>\n",
       "    </tr>\n",
       "    <tr>\n",
       "      <th>12</th>\n",
       "      <td>urh_i</td>\n",
       "    </tr>\n",
       "    <tr>\n",
       "      <th>13</th>\n",
       "      <td>netbios_ns</td>\n",
       "    </tr>\n",
       "    <tr>\n",
       "      <th>14</th>\n",
       "      <td>http_8001</td>\n",
       "    </tr>\n",
       "    <tr>\n",
       "      <th>15</th>\n",
       "      <td>csnet_ns</td>\n",
       "    </tr>\n",
       "    <tr>\n",
       "      <th>16</th>\n",
       "      <td>sql_net</td>\n",
       "    </tr>\n",
       "    <tr>\n",
       "      <th>17</th>\n",
       "      <td>courier</td>\n",
       "    </tr>\n",
       "    <tr>\n",
       "      <th>18</th>\n",
       "      <td>ecr_i</td>\n",
       "    </tr>\n",
       "    <tr>\n",
       "      <th>19</th>\n",
       "      <td>pm_dump</td>\n",
       "    </tr>\n",
       "    <tr>\n",
       "      <th>20</th>\n",
       "      <td>uucp</td>\n",
       "    </tr>\n",
       "    <tr>\n",
       "      <th>21</th>\n",
       "      <td>echo</td>\n",
       "    </tr>\n",
       "    <tr>\n",
       "      <th>22</th>\n",
       "      <td>tftp_u</td>\n",
       "    </tr>\n",
       "    <tr>\n",
       "      <th>23</th>\n",
       "      <td>hostnames</td>\n",
       "    </tr>\n",
       "    <tr>\n",
       "      <th>24</th>\n",
       "      <td>telnet</td>\n",
       "    </tr>\n",
       "    <tr>\n",
       "      <th>25</th>\n",
       "      <td>domain_u</td>\n",
       "    </tr>\n",
       "    <tr>\n",
       "      <th>26</th>\n",
       "      <td>ntp_u</td>\n",
       "    </tr>\n",
       "    <tr>\n",
       "      <th>27</th>\n",
       "      <td>http_2784</td>\n",
       "    </tr>\n",
       "    <tr>\n",
       "      <th>28</th>\n",
       "      <td>domain</td>\n",
       "    </tr>\n",
       "    <tr>\n",
       "      <th>29</th>\n",
       "      <td>nnsp</td>\n",
       "    </tr>\n",
       "    <tr>\n",
       "      <th>...</th>\n",
       "      <td>...</td>\n",
       "    </tr>\n",
       "    <tr>\n",
       "      <th>40</th>\n",
       "      <td>nntp</td>\n",
       "    </tr>\n",
       "    <tr>\n",
       "      <th>41</th>\n",
       "      <td>gopher</td>\n",
       "    </tr>\n",
       "    <tr>\n",
       "      <th>42</th>\n",
       "      <td>daytime</td>\n",
       "    </tr>\n",
       "    <tr>\n",
       "      <th>43</th>\n",
       "      <td>IRC</td>\n",
       "    </tr>\n",
       "    <tr>\n",
       "      <th>44</th>\n",
       "      <td>printer</td>\n",
       "    </tr>\n",
       "    <tr>\n",
       "      <th>45</th>\n",
       "      <td>systat</td>\n",
       "    </tr>\n",
       "    <tr>\n",
       "      <th>46</th>\n",
       "      <td>aol</td>\n",
       "    </tr>\n",
       "    <tr>\n",
       "      <th>47</th>\n",
       "      <td>klogin</td>\n",
       "    </tr>\n",
       "    <tr>\n",
       "      <th>48</th>\n",
       "      <td>exec</td>\n",
       "    </tr>\n",
       "    <tr>\n",
       "      <th>49</th>\n",
       "      <td>urp_i</td>\n",
       "    </tr>\n",
       "    <tr>\n",
       "      <th>50</th>\n",
       "      <td>ldap</td>\n",
       "    </tr>\n",
       "    <tr>\n",
       "      <th>51</th>\n",
       "      <td>login</td>\n",
       "    </tr>\n",
       "    <tr>\n",
       "      <th>52</th>\n",
       "      <td>http</td>\n",
       "    </tr>\n",
       "    <tr>\n",
       "      <th>53</th>\n",
       "      <td>link</td>\n",
       "    </tr>\n",
       "    <tr>\n",
       "      <th>54</th>\n",
       "      <td>ssh</td>\n",
       "    </tr>\n",
       "    <tr>\n",
       "      <th>55</th>\n",
       "      <td>remote_job</td>\n",
       "    </tr>\n",
       "    <tr>\n",
       "      <th>56</th>\n",
       "      <td>ftp_data</td>\n",
       "    </tr>\n",
       "    <tr>\n",
       "      <th>57</th>\n",
       "      <td>auth</td>\n",
       "    </tr>\n",
       "    <tr>\n",
       "      <th>58</th>\n",
       "      <td>red_i</td>\n",
       "    </tr>\n",
       "    <tr>\n",
       "      <th>59</th>\n",
       "      <td>http_443</td>\n",
       "    </tr>\n",
       "    <tr>\n",
       "      <th>60</th>\n",
       "      <td>netstat</td>\n",
       "    </tr>\n",
       "    <tr>\n",
       "      <th>61</th>\n",
       "      <td>eco_i</td>\n",
       "    </tr>\n",
       "    <tr>\n",
       "      <th>62</th>\n",
       "      <td>vmnet</td>\n",
       "    </tr>\n",
       "    <tr>\n",
       "      <th>63</th>\n",
       "      <td>netbios_ssn</td>\n",
       "    </tr>\n",
       "    <tr>\n",
       "      <th>64</th>\n",
       "      <td>imap4</td>\n",
       "    </tr>\n",
       "    <tr>\n",
       "      <th>65</th>\n",
       "      <td>Z39_50</td>\n",
       "    </tr>\n",
       "    <tr>\n",
       "      <th>66</th>\n",
       "      <td>netbios_dgm</td>\n",
       "    </tr>\n",
       "    <tr>\n",
       "      <th>67</th>\n",
       "      <td>name</td>\n",
       "    </tr>\n",
       "    <tr>\n",
       "      <th>68</th>\n",
       "      <td>ctf</td>\n",
       "    </tr>\n",
       "    <tr>\n",
       "      <th>69</th>\n",
       "      <td>uucp_path</td>\n",
       "    </tr>\n",
       "  </tbody>\n",
       "</table>\n",
       "<p>70 rows × 1 columns</p>\n",
       "</div>"
      ],
      "text/plain": [
       "        service\n",
       "0        kshell\n",
       "1      iso_tsap\n",
       "2         tim_i\n",
       "3        sunrpc\n",
       "4         shell\n",
       "5           mtp\n",
       "6       discard\n",
       "7         whois\n",
       "8          time\n",
       "9       harvest\n",
       "10      private\n",
       "11          bgp\n",
       "12        urh_i\n",
       "13   netbios_ns\n",
       "14    http_8001\n",
       "15     csnet_ns\n",
       "16      sql_net\n",
       "17      courier\n",
       "18        ecr_i\n",
       "19      pm_dump\n",
       "20         uucp\n",
       "21         echo\n",
       "22       tftp_u\n",
       "23    hostnames\n",
       "24       telnet\n",
       "25     domain_u\n",
       "26        ntp_u\n",
       "27    http_2784\n",
       "28       domain\n",
       "29         nnsp\n",
       "..          ...\n",
       "40         nntp\n",
       "41       gopher\n",
       "42      daytime\n",
       "43          IRC\n",
       "44      printer\n",
       "45       systat\n",
       "46          aol\n",
       "47       klogin\n",
       "48         exec\n",
       "49        urp_i\n",
       "50         ldap\n",
       "51        login\n",
       "52         http\n",
       "53         link\n",
       "54          ssh\n",
       "55   remote_job\n",
       "56     ftp_data\n",
       "57         auth\n",
       "58        red_i\n",
       "59     http_443\n",
       "60      netstat\n",
       "61        eco_i\n",
       "62        vmnet\n",
       "63  netbios_ssn\n",
       "64        imap4\n",
       "65       Z39_50\n",
       "66  netbios_dgm\n",
       "67         name\n",
       "68          ctf\n",
       "69    uucp_path\n",
       "\n",
       "[70 rows x 1 columns]"
      ]
     },
     "execution_count": 100,
     "metadata": {},
     "output_type": "execute_result"
    }
   ],
   "source": [
    "connEncoded.select(\"service\").distinct().toPandas()"
   ]
  },
  {
   "cell_type": "code",
   "execution_count": 101,
   "metadata": {
    "collapsed": false
   },
   "outputs": [],
   "source": [
    "connEncoded = encodeCategorical(connEncoded, \"service\")"
   ]
  },
  {
   "cell_type": "code",
   "execution_count": 102,
   "metadata": {
    "collapsed": false
   },
   "outputs": [
    {
     "data": {
      "text/html": [
       "<div>\n",
       "<table border=\"1\" class=\"dataframe\">\n",
       "  <thead>\n",
       "    <tr style=\"text-align: right;\">\n",
       "      <th></th>\n",
       "      <th>duration</th>\n",
       "      <th>flag</th>\n",
       "      <th>src_bytes</th>\n",
       "      <th>dst_bytes</th>\n",
       "      <th>land</th>\n",
       "      <th>wrong_fragment</th>\n",
       "      <th>urgent</th>\n",
       "      <th>class_attack</th>\n",
       "      <th>udp</th>\n",
       "      <th>tcp</th>\n",
       "      <th>...</th>\n",
       "      <th>netstat</th>\n",
       "      <th>eco_i</th>\n",
       "      <th>vmnet</th>\n",
       "      <th>netbios_ssn</th>\n",
       "      <th>imap4</th>\n",
       "      <th>Z39_50</th>\n",
       "      <th>netbios_dgm</th>\n",
       "      <th>name</th>\n",
       "      <th>ctf</th>\n",
       "      <th>uucp_path</th>\n",
       "    </tr>\n",
       "  </thead>\n",
       "  <tbody>\n",
       "    <tr>\n",
       "      <th>0</th>\n",
       "      <td>0</td>\n",
       "      <td>SF</td>\n",
       "      <td>491</td>\n",
       "      <td>0</td>\n",
       "      <td>0</td>\n",
       "      <td>0</td>\n",
       "      <td>0</td>\n",
       "      <td>normal</td>\n",
       "      <td>0</td>\n",
       "      <td>1</td>\n",
       "      <td>...</td>\n",
       "      <td>0</td>\n",
       "      <td>0</td>\n",
       "      <td>0</td>\n",
       "      <td>0</td>\n",
       "      <td>0</td>\n",
       "      <td>0</td>\n",
       "      <td>0</td>\n",
       "      <td>0</td>\n",
       "      <td>0</td>\n",
       "      <td>0</td>\n",
       "    </tr>\n",
       "    <tr>\n",
       "      <th>1</th>\n",
       "      <td>0</td>\n",
       "      <td>SF</td>\n",
       "      <td>146</td>\n",
       "      <td>0</td>\n",
       "      <td>0</td>\n",
       "      <td>0</td>\n",
       "      <td>0</td>\n",
       "      <td>normal</td>\n",
       "      <td>1</td>\n",
       "      <td>0</td>\n",
       "      <td>...</td>\n",
       "      <td>0</td>\n",
       "      <td>0</td>\n",
       "      <td>0</td>\n",
       "      <td>0</td>\n",
       "      <td>0</td>\n",
       "      <td>0</td>\n",
       "      <td>0</td>\n",
       "      <td>0</td>\n",
       "      <td>0</td>\n",
       "      <td>0</td>\n",
       "    </tr>\n",
       "    <tr>\n",
       "      <th>2</th>\n",
       "      <td>0</td>\n",
       "      <td>S0</td>\n",
       "      <td>0</td>\n",
       "      <td>0</td>\n",
       "      <td>0</td>\n",
       "      <td>0</td>\n",
       "      <td>0</td>\n",
       "      <td>neptune</td>\n",
       "      <td>0</td>\n",
       "      <td>1</td>\n",
       "      <td>...</td>\n",
       "      <td>0</td>\n",
       "      <td>0</td>\n",
       "      <td>0</td>\n",
       "      <td>0</td>\n",
       "      <td>0</td>\n",
       "      <td>0</td>\n",
       "      <td>0</td>\n",
       "      <td>0</td>\n",
       "      <td>0</td>\n",
       "      <td>0</td>\n",
       "    </tr>\n",
       "    <tr>\n",
       "      <th>3</th>\n",
       "      <td>0</td>\n",
       "      <td>SF</td>\n",
       "      <td>232</td>\n",
       "      <td>8153</td>\n",
       "      <td>0</td>\n",
       "      <td>0</td>\n",
       "      <td>0</td>\n",
       "      <td>normal</td>\n",
       "      <td>0</td>\n",
       "      <td>1</td>\n",
       "      <td>...</td>\n",
       "      <td>0</td>\n",
       "      <td>0</td>\n",
       "      <td>0</td>\n",
       "      <td>0</td>\n",
       "      <td>0</td>\n",
       "      <td>0</td>\n",
       "      <td>0</td>\n",
       "      <td>0</td>\n",
       "      <td>0</td>\n",
       "      <td>0</td>\n",
       "    </tr>\n",
       "    <tr>\n",
       "      <th>4</th>\n",
       "      <td>0</td>\n",
       "      <td>SF</td>\n",
       "      <td>199</td>\n",
       "      <td>420</td>\n",
       "      <td>0</td>\n",
       "      <td>0</td>\n",
       "      <td>0</td>\n",
       "      <td>normal</td>\n",
       "      <td>0</td>\n",
       "      <td>1</td>\n",
       "      <td>...</td>\n",
       "      <td>0</td>\n",
       "      <td>0</td>\n",
       "      <td>0</td>\n",
       "      <td>0</td>\n",
       "      <td>0</td>\n",
       "      <td>0</td>\n",
       "      <td>0</td>\n",
       "      <td>0</td>\n",
       "      <td>0</td>\n",
       "      <td>0</td>\n",
       "    </tr>\n",
       "  </tbody>\n",
       "</table>\n",
       "<p>5 rows × 81 columns</p>\n",
       "</div>"
      ],
      "text/plain": [
       "   duration flag  src_bytes  dst_bytes  land  wrong_fragment  urgent  \\\n",
       "0         0   SF        491          0     0               0       0   \n",
       "1         0   SF        146          0     0               0       0   \n",
       "2         0   S0          0          0     0               0       0   \n",
       "3         0   SF        232       8153     0               0       0   \n",
       "4         0   SF        199        420     0               0       0   \n",
       "\n",
       "  class_attack  udp  tcp    ...      netstat  eco_i  vmnet  netbios_ssn  \\\n",
       "0       normal    0    1    ...            0      0      0            0   \n",
       "1       normal    1    0    ...            0      0      0            0   \n",
       "2      neptune    0    1    ...            0      0      0            0   \n",
       "3       normal    0    1    ...            0      0      0            0   \n",
       "4       normal    0    1    ...            0      0      0            0   \n",
       "\n",
       "   imap4  Z39_50  netbios_dgm  name  ctf  uucp_path  \n",
       "0      0       0            0     0    0          0  \n",
       "1      0       0            0     0    0          0  \n",
       "2      0       0            0     0    0          0  \n",
       "3      0       0            0     0    0          0  \n",
       "4      0       0            0     0    0          0  \n",
       "\n",
       "[5 rows x 81 columns]"
      ]
     },
     "execution_count": 102,
     "metadata": {},
     "output_type": "execute_result"
    }
   ],
   "source": [
    "connEncoded.limit(5).toPandas()"
   ]
  },
  {
   "cell_type": "markdown",
   "metadata": {},
   "source": [
    "** Encoding flag **"
   ]
  },
  {
   "cell_type": "code",
   "execution_count": 103,
   "metadata": {
    "collapsed": false
   },
   "outputs": [
    {
     "data": {
      "text/html": [
       "<div>\n",
       "<table border=\"1\" class=\"dataframe\">\n",
       "  <thead>\n",
       "    <tr style=\"text-align: right;\">\n",
       "      <th></th>\n",
       "      <th>flag</th>\n",
       "    </tr>\n",
       "  </thead>\n",
       "  <tbody>\n",
       "    <tr>\n",
       "      <th>0</th>\n",
       "      <td>RSTR</td>\n",
       "    </tr>\n",
       "    <tr>\n",
       "      <th>1</th>\n",
       "      <td>S0</td>\n",
       "    </tr>\n",
       "    <tr>\n",
       "      <th>2</th>\n",
       "      <td>S1</td>\n",
       "    </tr>\n",
       "    <tr>\n",
       "      <th>3</th>\n",
       "      <td>S2</td>\n",
       "    </tr>\n",
       "    <tr>\n",
       "      <th>4</th>\n",
       "      <td>S3</td>\n",
       "    </tr>\n",
       "    <tr>\n",
       "      <th>5</th>\n",
       "      <td>OTH</td>\n",
       "    </tr>\n",
       "    <tr>\n",
       "      <th>6</th>\n",
       "      <td>RSTOS0</td>\n",
       "    </tr>\n",
       "    <tr>\n",
       "      <th>7</th>\n",
       "      <td>SF</td>\n",
       "    </tr>\n",
       "    <tr>\n",
       "      <th>8</th>\n",
       "      <td>REJ</td>\n",
       "    </tr>\n",
       "    <tr>\n",
       "      <th>9</th>\n",
       "      <td>SH</td>\n",
       "    </tr>\n",
       "    <tr>\n",
       "      <th>10</th>\n",
       "      <td>RSTO</td>\n",
       "    </tr>\n",
       "  </tbody>\n",
       "</table>\n",
       "</div>"
      ],
      "text/plain": [
       "      flag\n",
       "0     RSTR\n",
       "1       S0\n",
       "2       S1\n",
       "3       S2\n",
       "4       S3\n",
       "5      OTH\n",
       "6   RSTOS0\n",
       "7       SF\n",
       "8      REJ\n",
       "9       SH\n",
       "10    RSTO"
      ]
     },
     "execution_count": 103,
     "metadata": {},
     "output_type": "execute_result"
    }
   ],
   "source": [
    "connEncoded.select(\"flag\").distinct().toPandas()"
   ]
  },
  {
   "cell_type": "code",
   "execution_count": 104,
   "metadata": {
    "collapsed": false
   },
   "outputs": [],
   "source": [
    "connEncoded = encodeCategorical(connEncoded, \"flag\")"
   ]
  },
  {
   "cell_type": "code",
   "execution_count": 105,
   "metadata": {
    "collapsed": false
   },
   "outputs": [
    {
     "data": {
      "text/html": [
       "<div>\n",
       "<table border=\"1\" class=\"dataframe\">\n",
       "  <thead>\n",
       "    <tr style=\"text-align: right;\">\n",
       "      <th></th>\n",
       "      <th>duration</th>\n",
       "      <th>src_bytes</th>\n",
       "      <th>dst_bytes</th>\n",
       "      <th>land</th>\n",
       "      <th>wrong_fragment</th>\n",
       "      <th>urgent</th>\n",
       "      <th>class_attack</th>\n",
       "      <th>udp</th>\n",
       "      <th>tcp</th>\n",
       "      <th>icmp</th>\n",
       "      <th>...</th>\n",
       "      <th>S0</th>\n",
       "      <th>S1</th>\n",
       "      <th>S2</th>\n",
       "      <th>S3</th>\n",
       "      <th>OTH</th>\n",
       "      <th>RSTOS0</th>\n",
       "      <th>SF</th>\n",
       "      <th>REJ</th>\n",
       "      <th>SH</th>\n",
       "      <th>RSTO</th>\n",
       "    </tr>\n",
       "  </thead>\n",
       "  <tbody>\n",
       "    <tr>\n",
       "      <th>0</th>\n",
       "      <td>0</td>\n",
       "      <td>491</td>\n",
       "      <td>0</td>\n",
       "      <td>0</td>\n",
       "      <td>0</td>\n",
       "      <td>0</td>\n",
       "      <td>normal</td>\n",
       "      <td>0</td>\n",
       "      <td>1</td>\n",
       "      <td>0</td>\n",
       "      <td>...</td>\n",
       "      <td>0</td>\n",
       "      <td>0</td>\n",
       "      <td>0</td>\n",
       "      <td>0</td>\n",
       "      <td>0</td>\n",
       "      <td>0</td>\n",
       "      <td>1</td>\n",
       "      <td>0</td>\n",
       "      <td>0</td>\n",
       "      <td>0</td>\n",
       "    </tr>\n",
       "    <tr>\n",
       "      <th>1</th>\n",
       "      <td>0</td>\n",
       "      <td>146</td>\n",
       "      <td>0</td>\n",
       "      <td>0</td>\n",
       "      <td>0</td>\n",
       "      <td>0</td>\n",
       "      <td>normal</td>\n",
       "      <td>1</td>\n",
       "      <td>0</td>\n",
       "      <td>0</td>\n",
       "      <td>...</td>\n",
       "      <td>0</td>\n",
       "      <td>0</td>\n",
       "      <td>0</td>\n",
       "      <td>0</td>\n",
       "      <td>0</td>\n",
       "      <td>0</td>\n",
       "      <td>1</td>\n",
       "      <td>0</td>\n",
       "      <td>0</td>\n",
       "      <td>0</td>\n",
       "    </tr>\n",
       "    <tr>\n",
       "      <th>2</th>\n",
       "      <td>0</td>\n",
       "      <td>0</td>\n",
       "      <td>0</td>\n",
       "      <td>0</td>\n",
       "      <td>0</td>\n",
       "      <td>0</td>\n",
       "      <td>neptune</td>\n",
       "      <td>0</td>\n",
       "      <td>1</td>\n",
       "      <td>0</td>\n",
       "      <td>...</td>\n",
       "      <td>1</td>\n",
       "      <td>0</td>\n",
       "      <td>0</td>\n",
       "      <td>0</td>\n",
       "      <td>0</td>\n",
       "      <td>0</td>\n",
       "      <td>0</td>\n",
       "      <td>0</td>\n",
       "      <td>0</td>\n",
       "      <td>0</td>\n",
       "    </tr>\n",
       "    <tr>\n",
       "      <th>3</th>\n",
       "      <td>0</td>\n",
       "      <td>232</td>\n",
       "      <td>8153</td>\n",
       "      <td>0</td>\n",
       "      <td>0</td>\n",
       "      <td>0</td>\n",
       "      <td>normal</td>\n",
       "      <td>0</td>\n",
       "      <td>1</td>\n",
       "      <td>0</td>\n",
       "      <td>...</td>\n",
       "      <td>0</td>\n",
       "      <td>0</td>\n",
       "      <td>0</td>\n",
       "      <td>0</td>\n",
       "      <td>0</td>\n",
       "      <td>0</td>\n",
       "      <td>1</td>\n",
       "      <td>0</td>\n",
       "      <td>0</td>\n",
       "      <td>0</td>\n",
       "    </tr>\n",
       "    <tr>\n",
       "      <th>4</th>\n",
       "      <td>0</td>\n",
       "      <td>199</td>\n",
       "      <td>420</td>\n",
       "      <td>0</td>\n",
       "      <td>0</td>\n",
       "      <td>0</td>\n",
       "      <td>normal</td>\n",
       "      <td>0</td>\n",
       "      <td>1</td>\n",
       "      <td>0</td>\n",
       "      <td>...</td>\n",
       "      <td>0</td>\n",
       "      <td>0</td>\n",
       "      <td>0</td>\n",
       "      <td>0</td>\n",
       "      <td>0</td>\n",
       "      <td>0</td>\n",
       "      <td>1</td>\n",
       "      <td>0</td>\n",
       "      <td>0</td>\n",
       "      <td>0</td>\n",
       "    </tr>\n",
       "  </tbody>\n",
       "</table>\n",
       "<p>5 rows × 91 columns</p>\n",
       "</div>"
      ],
      "text/plain": [
       "   duration  src_bytes  dst_bytes  land  wrong_fragment  urgent class_attack  \\\n",
       "0         0        491          0     0               0       0       normal   \n",
       "1         0        146          0     0               0       0       normal   \n",
       "2         0          0          0     0               0       0      neptune   \n",
       "3         0        232       8153     0               0       0       normal   \n",
       "4         0        199        420     0               0       0       normal   \n",
       "\n",
       "   udp  tcp  icmp  ...   S0  S1  S2  S3  OTH  RSTOS0  SF  REJ  SH  RSTO  \n",
       "0    0    1     0  ...    0   0   0   0    0       0   1    0   0     0  \n",
       "1    1    0     0  ...    0   0   0   0    0       0   1    0   0     0  \n",
       "2    0    1     0  ...    1   0   0   0    0       0   0    0   0     0  \n",
       "3    0    1     0  ...    0   0   0   0    0       0   1    0   0     0  \n",
       "4    0    1     0  ...    0   0   0   0    0       0   1    0   0     0  \n",
       "\n",
       "[5 rows x 91 columns]"
      ]
     },
     "execution_count": 105,
     "metadata": {},
     "output_type": "execute_result"
    }
   ],
   "source": [
    "connEncoded.limit(5).toPandas()"
   ]
  },
  {
   "cell_type": "markdown",
   "metadata": {},
   "source": [
    "### 3.2 Input Normalization"
   ]
  },
  {
   "cell_type": "code",
   "execution_count": 19,
   "metadata": {
    "collapsed": false
   },
   "outputs": [
    {
     "name": "stderr",
     "output_type": "stream",
     "text": [
      "/Users/carlos/anaconda/lib/python2.7/site-packages/sklearn/utils/validation.py:332: UserWarning: MinMaxScaler assumes floating point values as input, got int64\n",
      "  \"got %s\" % (estimator, X.dtype))\n"
     ]
    }
   ],
   "source": [
    "scaler = pp.MinMaxScaler().fit(trainDS)"
   ]
  },
  {
   "cell_type": "code",
   "execution_count": 20,
   "metadata": {
    "collapsed": false
   },
   "outputs": [],
   "source": [
    "trainDS_scaled = pd.DataFrame(scaler.transform(trainDS), columns=continuousCols)"
   ]
  },
  {
   "cell_type": "code",
   "execution_count": 21,
   "metadata": {
    "collapsed": false
   },
   "outputs": [
    {
     "data": {
      "text/html": [
       "<div style=\"max-height:1000px;max-width:1500px;overflow:auto;\">\n",
       "<table border=\"1\" class=\"dataframe\">\n",
       "  <thead>\n",
       "    <tr style=\"text-align: right;\">\n",
       "      <th></th>\n",
       "      <th>duration</th>\n",
       "      <th>src_bytes</th>\n",
       "      <th>dst_bytes</th>\n",
       "      <th>land</th>\n",
       "      <th>wrong_fragment</th>\n",
       "      <th>urgent</th>\n",
       "      <th>is_tcp</th>\n",
       "      <th>is_udp</th>\n",
       "      <th>is_icmp</th>\n",
       "      <th>is_ftp_data</th>\n",
       "      <th>...</th>\n",
       "      <th>is_S0</th>\n",
       "      <th>is_REJ</th>\n",
       "      <th>is_RSTR</th>\n",
       "      <th>is_SH</th>\n",
       "      <th>is_RSTO</th>\n",
       "      <th>is_S1</th>\n",
       "      <th>is_RSTOS0</th>\n",
       "      <th>is_S3</th>\n",
       "      <th>is_S2</th>\n",
       "      <th>is_OTH</th>\n",
       "    </tr>\n",
       "  </thead>\n",
       "  <tbody>\n",
       "    <tr>\n",
       "      <th>count</th>\n",
       "      <td>125973</td>\n",
       "      <td>125973</td>\n",
       "      <td>125973</td>\n",
       "      <td>125973.000000</td>\n",
       "      <td>125973</td>\n",
       "      <td>125973</td>\n",
       "      <td>125973.000000</td>\n",
       "      <td>125973.000000</td>\n",
       "      <td>125973.000000</td>\n",
       "      <td>125973.000000</td>\n",
       "      <td>...</td>\n",
       "      <td>125973.000000</td>\n",
       "      <td>125973.000000</td>\n",
       "      <td>125973.000000</td>\n",
       "      <td>125973.000000</td>\n",
       "      <td>125973.00000</td>\n",
       "      <td>125973.000000</td>\n",
       "      <td>125973.000000</td>\n",
       "      <td>125973.000000</td>\n",
       "      <td>125973.000000</td>\n",
       "      <td>125973.000000</td>\n",
       "    </tr>\n",
       "    <tr>\n",
       "      <th>mean</th>\n",
       "      <td>0</td>\n",
       "      <td>0</td>\n",
       "      <td>0</td>\n",
       "      <td>0.000198</td>\n",
       "      <td>0</td>\n",
       "      <td>0</td>\n",
       "      <td>0.119018</td>\n",
       "      <td>0.065816</td>\n",
       "      <td>0.815167</td>\n",
       "      <td>0.001945</td>\n",
       "      <td>...</td>\n",
       "      <td>0.012399</td>\n",
       "      <td>0.276655</td>\n",
       "      <td>0.001008</td>\n",
       "      <td>0.000818</td>\n",
       "      <td>0.08917</td>\n",
       "      <td>0.002897</td>\n",
       "      <td>0.594929</td>\n",
       "      <td>0.000389</td>\n",
       "      <td>0.000365</td>\n",
       "      <td>0.019218</td>\n",
       "    </tr>\n",
       "    <tr>\n",
       "      <th>std</th>\n",
       "      <td>0</td>\n",
       "      <td>0</td>\n",
       "      <td>0</td>\n",
       "      <td>0.014086</td>\n",
       "      <td>0</td>\n",
       "      <td>0</td>\n",
       "      <td>0.323810</td>\n",
       "      <td>0.247961</td>\n",
       "      <td>0.388164</td>\n",
       "      <td>0.044058</td>\n",
       "      <td>...</td>\n",
       "      <td>0.110661</td>\n",
       "      <td>0.447346</td>\n",
       "      <td>0.031736</td>\n",
       "      <td>0.028583</td>\n",
       "      <td>0.28499</td>\n",
       "      <td>0.053750</td>\n",
       "      <td>0.490908</td>\n",
       "      <td>0.019719</td>\n",
       "      <td>0.019106</td>\n",
       "      <td>0.137292</td>\n",
       "    </tr>\n",
       "    <tr>\n",
       "      <th>min</th>\n",
       "      <td>0</td>\n",
       "      <td>0</td>\n",
       "      <td>0</td>\n",
       "      <td>0.000000</td>\n",
       "      <td>0</td>\n",
       "      <td>0</td>\n",
       "      <td>0.000000</td>\n",
       "      <td>0.000000</td>\n",
       "      <td>0.000000</td>\n",
       "      <td>0.000000</td>\n",
       "      <td>...</td>\n",
       "      <td>0.000000</td>\n",
       "      <td>0.000000</td>\n",
       "      <td>0.000000</td>\n",
       "      <td>0.000000</td>\n",
       "      <td>0.00000</td>\n",
       "      <td>0.000000</td>\n",
       "      <td>0.000000</td>\n",
       "      <td>0.000000</td>\n",
       "      <td>0.000000</td>\n",
       "      <td>0.000000</td>\n",
       "    </tr>\n",
       "    <tr>\n",
       "      <th>25%</th>\n",
       "      <td>0</td>\n",
       "      <td>0</td>\n",
       "      <td>0</td>\n",
       "      <td>0.000000</td>\n",
       "      <td>0</td>\n",
       "      <td>0</td>\n",
       "      <td>0.000000</td>\n",
       "      <td>0.000000</td>\n",
       "      <td>1.000000</td>\n",
       "      <td>0.000000</td>\n",
       "      <td>...</td>\n",
       "      <td>0.000000</td>\n",
       "      <td>0.000000</td>\n",
       "      <td>0.000000</td>\n",
       "      <td>0.000000</td>\n",
       "      <td>0.00000</td>\n",
       "      <td>0.000000</td>\n",
       "      <td>0.000000</td>\n",
       "      <td>0.000000</td>\n",
       "      <td>0.000000</td>\n",
       "      <td>0.000000</td>\n",
       "    </tr>\n",
       "    <tr>\n",
       "      <th>50%</th>\n",
       "      <td>0</td>\n",
       "      <td>0</td>\n",
       "      <td>0</td>\n",
       "      <td>0.000000</td>\n",
       "      <td>0</td>\n",
       "      <td>0</td>\n",
       "      <td>0.000000</td>\n",
       "      <td>0.000000</td>\n",
       "      <td>1.000000</td>\n",
       "      <td>0.000000</td>\n",
       "      <td>...</td>\n",
       "      <td>0.000000</td>\n",
       "      <td>0.000000</td>\n",
       "      <td>0.000000</td>\n",
       "      <td>0.000000</td>\n",
       "      <td>0.00000</td>\n",
       "      <td>0.000000</td>\n",
       "      <td>1.000000</td>\n",
       "      <td>0.000000</td>\n",
       "      <td>0.000000</td>\n",
       "      <td>0.000000</td>\n",
       "    </tr>\n",
       "    <tr>\n",
       "      <th>75%</th>\n",
       "      <td>0</td>\n",
       "      <td>0</td>\n",
       "      <td>0</td>\n",
       "      <td>0.000000</td>\n",
       "      <td>0</td>\n",
       "      <td>0</td>\n",
       "      <td>0.000000</td>\n",
       "      <td>0.000000</td>\n",
       "      <td>1.000000</td>\n",
       "      <td>0.000000</td>\n",
       "      <td>...</td>\n",
       "      <td>0.000000</td>\n",
       "      <td>1.000000</td>\n",
       "      <td>0.000000</td>\n",
       "      <td>0.000000</td>\n",
       "      <td>0.00000</td>\n",
       "      <td>0.000000</td>\n",
       "      <td>1.000000</td>\n",
       "      <td>0.000000</td>\n",
       "      <td>0.000000</td>\n",
       "      <td>0.000000</td>\n",
       "    </tr>\n",
       "    <tr>\n",
       "      <th>max</th>\n",
       "      <td>0</td>\n",
       "      <td>0</td>\n",
       "      <td>0</td>\n",
       "      <td>1.000000</td>\n",
       "      <td>0</td>\n",
       "      <td>0</td>\n",
       "      <td>1.000000</td>\n",
       "      <td>1.000000</td>\n",
       "      <td>1.000000</td>\n",
       "      <td>1.000000</td>\n",
       "      <td>...</td>\n",
       "      <td>1.000000</td>\n",
       "      <td>1.000000</td>\n",
       "      <td>1.000000</td>\n",
       "      <td>1.000000</td>\n",
       "      <td>1.00000</td>\n",
       "      <td>1.000000</td>\n",
       "      <td>1.000000</td>\n",
       "      <td>1.000000</td>\n",
       "      <td>1.000000</td>\n",
       "      <td>1.000000</td>\n",
       "    </tr>\n",
       "  </tbody>\n",
       "</table>\n",
       "<p>8 rows × 90 columns</p>\n",
       "</div>"
      ],
      "text/plain": [
       "       duration  src_bytes  dst_bytes           land  wrong_fragment  urgent  \\\n",
       "count    125973     125973     125973  125973.000000          125973  125973   \n",
       "mean          0          0          0       0.000198               0       0   \n",
       "std           0          0          0       0.014086               0       0   \n",
       "min           0          0          0       0.000000               0       0   \n",
       "25%           0          0          0       0.000000               0       0   \n",
       "50%           0          0          0       0.000000               0       0   \n",
       "75%           0          0          0       0.000000               0       0   \n",
       "max           0          0          0       1.000000               0       0   \n",
       "\n",
       "              is_tcp         is_udp        is_icmp    is_ftp_data  \\\n",
       "count  125973.000000  125973.000000  125973.000000  125973.000000   \n",
       "mean        0.119018       0.065816       0.815167       0.001945   \n",
       "std         0.323810       0.247961       0.388164       0.044058   \n",
       "min         0.000000       0.000000       0.000000       0.000000   \n",
       "25%         0.000000       0.000000       1.000000       0.000000   \n",
       "50%         0.000000       0.000000       1.000000       0.000000   \n",
       "75%         0.000000       0.000000       1.000000       0.000000   \n",
       "max         1.000000       1.000000       1.000000       1.000000   \n",
       "\n",
       "           ...                is_S0         is_REJ        is_RSTR  \\\n",
       "count      ...        125973.000000  125973.000000  125973.000000   \n",
       "mean       ...             0.012399       0.276655       0.001008   \n",
       "std        ...             0.110661       0.447346       0.031736   \n",
       "min        ...             0.000000       0.000000       0.000000   \n",
       "25%        ...             0.000000       0.000000       0.000000   \n",
       "50%        ...             0.000000       0.000000       0.000000   \n",
       "75%        ...             0.000000       1.000000       0.000000   \n",
       "max        ...             1.000000       1.000000       1.000000   \n",
       "\n",
       "               is_SH       is_RSTO          is_S1      is_RSTOS0  \\\n",
       "count  125973.000000  125973.00000  125973.000000  125973.000000   \n",
       "mean        0.000818       0.08917       0.002897       0.594929   \n",
       "std         0.028583       0.28499       0.053750       0.490908   \n",
       "min         0.000000       0.00000       0.000000       0.000000   \n",
       "25%         0.000000       0.00000       0.000000       0.000000   \n",
       "50%         0.000000       0.00000       0.000000       1.000000   \n",
       "75%         0.000000       0.00000       0.000000       1.000000   \n",
       "max         1.000000       1.00000       1.000000       1.000000   \n",
       "\n",
       "               is_S3          is_S2         is_OTH  \n",
       "count  125973.000000  125973.000000  125973.000000  \n",
       "mean        0.000389       0.000365       0.019218  \n",
       "std         0.019719       0.019106       0.137292  \n",
       "min         0.000000       0.000000       0.000000  \n",
       "25%         0.000000       0.000000       0.000000  \n",
       "50%         0.000000       0.000000       0.000000  \n",
       "75%         0.000000       0.000000       0.000000  \n",
       "max         1.000000       1.000000       1.000000  \n",
       "\n",
       "[8 rows x 90 columns]"
      ]
     },
     "execution_count": 21,
     "metadata": {},
     "output_type": "execute_result"
    }
   ],
   "source": [
    "trainDS_scaled.describe()"
   ]
  },
  {
   "cell_type": "markdown",
   "metadata": {},
   "source": [
    "### 3.3 Principal Component Analysis (PCA)"
   ]
  },
  {
   "cell_type": "code",
   "execution_count": 22,
   "metadata": {
    "collapsed": false
   },
   "outputs": [],
   "source": [
    "from sklearn.decomposition import PCA"
   ]
  },
  {
   "cell_type": "code",
   "execution_count": 23,
   "metadata": {
    "collapsed": false
   },
   "outputs": [],
   "source": [
    "n_features = trainDS_scaled.columns.size"
   ]
  },
  {
   "cell_type": "code",
   "execution_count": 24,
   "metadata": {
    "collapsed": false
   },
   "outputs": [
    {
     "name": "stdout",
     "output_type": "stream",
     "text": [
      "Total number of features: 90\n"
     ]
    }
   ],
   "source": [
    "print \"Total number of features: %d\" %n_features"
   ]
  },
  {
   "cell_type": "code",
   "execution_count": 25,
   "metadata": {
    "collapsed": false
   },
   "outputs": [
    {
     "data": {
      "text/plain": [
       "PCA(copy=True, n_components=90, whiten=False)"
      ]
     },
     "execution_count": 25,
     "metadata": {},
     "output_type": "execute_result"
    }
   ],
   "source": [
    "pca = PCA(n_components=n_features, whiten=False)\n",
    "pca.fit(trainDS_scaled)"
   ]
  },
  {
   "cell_type": "code",
   "execution_count": 26,
   "metadata": {
    "collapsed": false
   },
   "outputs": [
    {
     "data": {
      "text/plain": [
       "array([ 0.29663541,  0.48906985,  0.56710258,  0.63909767,  0.6994824 ,\n",
       "        0.75472591,  0.7869229 ,  0.81002829,  0.82680353,  0.84310411,\n",
       "        0.85513057,  0.86490007,  0.87347387,  0.88148694,  0.88782894,\n",
       "        0.89305346,  0.89721584,  0.90107896,  0.9046853 ,  0.90814592,\n",
       "        0.91148887,  0.91472746,  0.91790123,  0.92105865,  0.92411906,\n",
       "        0.92707204,  0.92998509,  0.93284244,  0.93558514,  0.93818395,\n",
       "        0.94073755,  0.94323668,  0.9456983 ,  0.94813501,  0.95053903,\n",
       "        0.95290557,  0.95519196,  0.95740525,  0.95959052,  0.96176083,\n",
       "        0.96389112,  0.96599744,  0.96808296,  0.97011843,  0.97211622,\n",
       "        0.97409603,  0.97603356,  0.97791929,  0.97978418,  0.9815311 ,\n",
       "        0.98320483,  0.98486079,  0.98646189,  0.9879076 ,  0.9892959 ,\n",
       "        0.99066274,  0.99201608,  0.99321547,  0.99434816,  0.99517504,\n",
       "        0.99592129,  0.99659836,  0.99710152,  0.99750632,  0.99787623,\n",
       "        0.99823418,  0.99857153,  0.99889096,  0.99919194,  0.99944897,\n",
       "        0.99966521,  0.99977838,  0.99985157,  0.99989329,  0.99993001,\n",
       "        0.99995336,  0.99996737,  0.99997698,  0.99998616,  0.99999534,\n",
       "        1.        ,  1.        ,  1.        ,  1.        ,  1.        ,\n",
       "        1.        ,  1.        ,  1.        ,  1.        ,  1.        ])"
      ]
     },
     "execution_count": 26,
     "metadata": {},
     "output_type": "execute_result"
    }
   ],
   "source": [
    "#accum explained variance ration\n",
    "pca.explained_variance_ratio_[0:].cumsum()"
   ]
  },
  {
   "cell_type": "code",
   "execution_count": 27,
   "metadata": {
    "collapsed": false
   },
   "outputs": [],
   "source": [
    "import matplotlib.pyplot as plt"
   ]
  },
  {
   "cell_type": "code",
   "execution_count": 28,
   "metadata": {
    "collapsed": false
   },
   "outputs": [
    {
     "data": {
      "image/png": "[encoded data removed]",
      "text/plain": [
       "<matplotlib.figure.Figure at 0x125b0bc50>"
      ]
     },
     "metadata": {},
     "output_type": "display_data"
    }
   ],
   "source": [
    "plt.plot(1 - pca.explained_variance_ratio_.cumsum(), drawstyle = 'steps-post')\n",
    "plt.title('PCA Reconstruction Error');"
   ]
  },
  {
   "cell_type": "code",
   "execution_count": 29,
   "metadata": {
    "collapsed": false
   },
   "outputs": [
    {
     "name": "stdout",
     "output_type": "stream",
     "text": [
      "Number of factors with 10% of reonstraction Error:  17\n"
     ]
    }
   ],
   "source": [
    "n_factors = sum(1-pca.explained_variance_ratio_[0:].cumsum() > 0.10)\n",
    "print \"Number of factors with 10% of reonstraction Error: \", n_factors"
   ]
  },
  {
   "cell_type": "code",
   "execution_count": 30,
   "metadata": {
    "collapsed": false
   },
   "outputs": [
    {
     "data": {
      "text/plain": [
       "PCA(copy=True, n_components=17, whiten=False)"
      ]
     },
     "execution_count": 30,
     "metadata": {},
     "output_type": "execute_result"
    }
   ],
   "source": [
    "pca = PCA(n_components=n_factors)\n",
    "pca.fit(trainDS_scaled)"
   ]
  },
  {
   "cell_type": "code",
   "execution_count": 31,
   "metadata": {
    "collapsed": false
   },
   "outputs": [
    {
     "name": "stdout",
     "output_type": "stream",
     "text": [
      "Explained Variance Ratio\n"
     ]
    },
    {
     "data": {
      "text/plain": [
       "0.89721583972640506"
      ]
     },
     "execution_count": 31,
     "metadata": {},
     "output_type": "execute_result"
    }
   ],
   "source": [
    "print \"Explained Variance Ratio\"\n",
    "sum(pca.explained_variance_ratio_)"
   ]
  },
  {
   "cell_type": "code",
   "execution_count": 32,
   "metadata": {
    "collapsed": false
   },
   "outputs": [],
   "source": [
    "trainDS_pca = pca.transform(trainDS_scaled)"
   ]
  },
  {
   "cell_type": "markdown",
   "metadata": {},
   "source": [
    "### 3.4 Labels categories"
   ]
  },
  {
   "cell_type": "code",
   "execution_count": 33,
   "metadata": {
    "collapsed": false
   },
   "outputs": [],
   "source": [
    "categories = {'smurf': 'dos',\n",
    "              'neptune': 'dos',\n",
    "              'back': 'dos',\n",
    "              'teardrop': 'dos',\n",
    "              'pod': 'dos',\n",
    "              'land': 'dos',\n",
    "              'normal':'normal',\n",
    "              'satan': 'probe',\n",
    "              'ipsweep':'probe',\n",
    "              'portsweep':'probe',\n",
    "              'nmap': 'probe',\n",
    "              'warezclient':'r2l',\n",
    "              'guess_passwd':'r2l',\n",
    "              'warezmaster': 'r2l',\n",
    "              'imap': 'r2l',\n",
    "              'ftp_write': 'r2l',\n",
    "              'multihop': 'r2l',\n",
    "              'phf':'r2l',\n",
    "              'spy':'r2l',\n",
    "              'buffer_overflow': 'u2r',\n",
    "              'rootkit': 'u2r',\n",
    "              'loadmodule': 'u2r',\n",
    "              'perl': 'u2r'}"
   ]
  },
  {
   "cell_type": "code",
   "execution_count": 34,
   "metadata": {
    "collapsed": false
   },
   "outputs": [],
   "source": [
    "dataLabels['category_attack'] = pd.Categorical(dataLabels[\"class_attack\"].map(categories))\n",
    "dataLabels['is_attack'] = pd.Categorical([x == 'normal' for x in dataLabels[\"class_attack\"]])"
   ]
  },
  {
   "cell_type": "code",
   "execution_count": 35,
   "metadata": {
    "collapsed": false
   },
   "outputs": [
    {
     "data": {
      "text/html": [
       "<div style=\"max-height:1000px;max-width:1500px;overflow:auto;\">\n",
       "<table border=\"1\" class=\"dataframe\">\n",
       "  <thead>\n",
       "    <tr style=\"text-align: right;\">\n",
       "      <th></th>\n",
       "      <th>class_attack</th>\n",
       "      <th>category_attack</th>\n",
       "      <th>is_attack</th>\n",
       "    </tr>\n",
       "  </thead>\n",
       "  <tbody>\n",
       "    <tr>\n",
       "      <th>0</th>\n",
       "      <td>normal</td>\n",
       "      <td>normal</td>\n",
       "      <td>True</td>\n",
       "    </tr>\n",
       "    <tr>\n",
       "      <th>1</th>\n",
       "      <td>normal</td>\n",
       "      <td>normal</td>\n",
       "      <td>True</td>\n",
       "    </tr>\n",
       "    <tr>\n",
       "      <th>2</th>\n",
       "      <td>neptune</td>\n",
       "      <td>dos</td>\n",
       "      <td>False</td>\n",
       "    </tr>\n",
       "    <tr>\n",
       "      <th>3</th>\n",
       "      <td>normal</td>\n",
       "      <td>normal</td>\n",
       "      <td>True</td>\n",
       "    </tr>\n",
       "    <tr>\n",
       "      <th>4</th>\n",
       "      <td>normal</td>\n",
       "      <td>normal</td>\n",
       "      <td>True</td>\n",
       "    </tr>\n",
       "  </tbody>\n",
       "</table>\n",
       "</div>"
      ],
      "text/plain": [
       "  class_attack category_attack is_attack\n",
       "0       normal          normal      True\n",
       "1       normal          normal      True\n",
       "2      neptune             dos     False\n",
       "3       normal          normal      True\n",
       "4       normal          normal      True"
      ]
     },
     "execution_count": 35,
     "metadata": {},
     "output_type": "execute_result"
    }
   ],
   "source": [
    "dataLabels.head()"
   ]
  },
  {
   "cell_type": "code",
   "execution_count": 36,
   "metadata": {
    "collapsed": false
   },
   "outputs": [
    {
     "data": {
      "text/html": [
       "<div style=\"max-height:1000px;max-width:1500px;overflow:auto;\">\n",
       "<table border=\"1\" class=\"dataframe\">\n",
       "  <thead>\n",
       "    <tr style=\"text-align: right;\">\n",
       "      <th></th>\n",
       "      <th>class_attack</th>\n",
       "      <th>category_attack</th>\n",
       "      <th>is_attack</th>\n",
       "    </tr>\n",
       "  </thead>\n",
       "  <tbody>\n",
       "    <tr>\n",
       "      <th>count</th>\n",
       "      <td>125973</td>\n",
       "      <td>125973</td>\n",
       "      <td>125973</td>\n",
       "    </tr>\n",
       "    <tr>\n",
       "      <th>unique</th>\n",
       "      <td>23</td>\n",
       "      <td>5</td>\n",
       "      <td>2</td>\n",
       "    </tr>\n",
       "    <tr>\n",
       "      <th>top</th>\n",
       "      <td>normal</td>\n",
       "      <td>normal</td>\n",
       "      <td>True</td>\n",
       "    </tr>\n",
       "    <tr>\n",
       "      <th>freq</th>\n",
       "      <td>67343</td>\n",
       "      <td>67343</td>\n",
       "      <td>67343</td>\n",
       "    </tr>\n",
       "  </tbody>\n",
       "</table>\n",
       "</div>"
      ],
      "text/plain": [
       "       class_attack category_attack is_attack\n",
       "count        125973          125973    125973\n",
       "unique           23               5         2\n",
       "top          normal          normal      True\n",
       "freq          67343           67343     67343"
      ]
     },
     "execution_count": 36,
     "metadata": {},
     "output_type": "execute_result"
    }
   ],
   "source": [
    "dataLabels.describe()"
   ]
  },
  {
   "cell_type": "markdown",
   "metadata": {},
   "source": [
    "## 4. Modeling"
   ]
  },
  {
   "cell_type": "markdown",
   "metadata": {},
   "source": [
    "## 4.1 Cluster metrics\n",
    "\n",
    "Two desirable objectives for any cluster assignment:\n",
    "* **homogeneity**: each cluster contains only members of a single class.\n",
    "* **completeness**: all members of a given class are assigned to the same cluster.\n",
    "\n",
    "The main cluster metrics are:\n",
    "\n",
    "* **Homogeneity Score**: A clustering result satisfies homogeneity if all of its clusters contain only data points which are members of a single class.\n",
    "    * Bounded scores: 0.0 is as bad as it can be, 1.0 is a perfect score\n",
    "\n",
    "* **Completeness Score**: A clustering result satisfies completeness if all the data points that are members of a given class are elements of the same cluster.\n",
    "    * Bounded scores: 0.0 is as bad as it can be, 1.0 is a perfect score\n",
    "\n",
    "* **V measure Scores** : the harmonic mean between homogeneity and completeness: v = 2 * (homogeneity * completeness) / (homogeneity + completeness)\n",
    "    * Bounded scores: 0.0 is as bad as it can be, 1.0 is a perfect score\n",
    "\n",
    "* **Adjusted Rand index**: is a function that measures the similarity of the two assignments, ignoring permutations and with chance normalization\n",
    "    * Bounded range [-1, 1]: negative values are bad (independent labelings), similar clusterings have a positive ARI, 1.0 is the perfect match score."
   ]
  },
  {
   "cell_type": "markdown",
   "metadata": {},
   "source": [
    "## 4.2 K-means"
   ]
  },
  {
   "cell_type": "markdown",
   "metadata": {},
   "source": [
    "* **Parameters**: number of clusters\n",
    "* **Scalability**:\tVery large n_samples, medium n_clusters\n",
    "* **Usecase**:\tGeneral-purpose, even cluster size, flat geometry, not too many clusters\n",
    "* **Geometry (metric used)**: Distances between points\n",
    "\t\t \t"
   ]
  },
  {
   "cell_type": "code",
   "execution_count": 37,
   "metadata": {
    "collapsed": false
   },
   "outputs": [],
   "source": [
    "from sklearn.cluster import KMeans\n",
    "from sklearn import metrics"
   ]
  },
  {
   "cell_type": "markdown",
   "metadata": {},
   "source": [
    "### 4.2.1 Random centroid initialization (5 clusters)"
   ]
  },
  {
   "cell_type": "code",
   "execution_count": 38,
   "metadata": {
    "collapsed": false
   },
   "outputs": [],
   "source": [
    "n_Clusters = 5\n",
    "random_K_means = KMeans(init='random', n_clusters = n_Clusters, n_init= 10)"
   ]
  },
  {
   "cell_type": "code",
   "execution_count": 39,
   "metadata": {
    "collapsed": false
   },
   "outputs": [
    {
     "name": "stdout",
     "output_type": "stream",
     "text": [
      "CPU times: user 1.7 s, sys: 109 ms, total: 1.81 s\n",
      "Wall time: 1.67 s\n"
     ]
    },
    {
     "data": {
      "text/plain": [
       "KMeans(copy_x=True, init='random', max_iter=300, n_clusters=5, n_init=10,\n",
       "    n_jobs=1, precompute_distances=True, random_state=None, tol=0.0001,\n",
       "    verbose=0)"
      ]
     },
     "execution_count": 39,
     "metadata": {},
     "output_type": "execute_result"
    }
   ],
   "source": [
    "%time random_K_means.fit(trainDS_pca)"
   ]
  },
  {
   "cell_type": "code",
   "execution_count": 40,
   "metadata": {
    "collapsed": false
   },
   "outputs": [
    {
     "name": "stdout",
     "output_type": "stream",
     "text": [
      "Cluster metrics\n",
      "Homogeneity Score: 0.334463680609\n",
      "Completeness Score: 0.535490444005\n",
      "V measure score: 0.411750688377\n",
      "Adjusted Rand Index: 0.389445904074\n"
     ]
    }
   ],
   "source": [
    "print \"Cluster metrics\"\n",
    "print \"Homogeneity Score:\" , metrics.homogeneity_score(random_K_means.labels_, dataLabels.category_attack)\n",
    "print \"Completeness Score:\", metrics.completeness_score(random_K_means.labels_, dataLabels.category_attack)\n",
    "print \"V measure score:\", metrics.v_measure_score(random_K_means.labels_, dataLabels.category_attack)\n",
    "print \"Adjusted Rand Index:\", metrics.adjusted_rand_score(random_K_means.labels_, dataLabels.category_attack)"
   ]
  },
  {
   "cell_type": "markdown",
   "metadata": {},
   "source": [
    "#### Visualize the results on PCA-reduced data"
   ]
  },
  {
   "cell_type": "code",
   "execution_count": 41,
   "metadata": {
    "collapsed": false
   },
   "outputs": [],
   "source": [
    "# Visualize the results on PCA-reduced data\n",
    "\n",
    "pca = PCA(n_components= 2, whiten=True)\n",
    "DS_projected = pca.fit_transform(trainDS_pca)\n",
    "\n",
    "n_Clusters = 5\n",
    "random_K_means_2 = KMeans(init='random', n_clusters = n_Clusters, n_init = 10)\n",
    "random_K_means_2.fit_predict(DS_projected);"
   ]
  },
  {
   "cell_type": "code",
   "execution_count": 42,
   "metadata": {
    "collapsed": false
   },
   "outputs": [
    {
     "data": {
      "image/png": "[encoded data removed]",
      "text/plain": [
       "<matplotlib.figure.Figure at 0x107a2b910>"
      ]
     },
     "metadata": {},
     "output_type": "display_data"
    }
   ],
   "source": [
    "colors = \"rgbcm\"\n",
    "\n",
    "fig, axes = plt.subplots(ncols=2, figsize=(14, 7) )\n",
    "ax1, ax2 = axes.ravel()\n",
    "\n",
    "# Plot the clusters\n",
    "for i, color in zip(set(random_K_means_2.labels_), colors):\n",
    "    idx = np.where(random_K_means_2.labels_== i)\n",
    "    ax1.scatter(DS_projected[idx, 0], DS_projected[idx, 1], c=color, s = 10, label=i, alpha = 0.5, edgecolors='none')\n",
    "    # Plot the centroids as X\n",
    "    ax1.scatter(random_K_means_2.cluster_centers_[i, 0], random_K_means_2.cluster_centers_[i, 1],\n",
    "            marker='x', s=169, linewidths=3,\n",
    "            color=color, zorder=10)\n",
    "ax1.set_title('K-mean prediction - Random centroid initialization (5 clusters)')\n",
    "ax1.legend()\n",
    "\n",
    "#Plot the category values\n",
    "for i, color in zip(set(dataLabels.category_attack), colors):\n",
    "    idx = np.where(dataLabels.category_attack == i)\n",
    "    ax2.scatter(DS_projected[idx, 0], DS_projected[idx, 1], c=color, s = 10, label=i, alpha = 0.5, edgecolors='none')\n",
    "    \n",
    "ax2.set_title('Category Attacks (5 categories)')\n",
    "ax2.legend();"
   ]
  },
  {
   "cell_type": "markdown",
   "metadata": {},
   "source": [
    "#### Visualize the results on PCA-reduced data 3D"
   ]
  },
  {
   "cell_type": "code",
   "execution_count": 43,
   "metadata": {
    "collapsed": false
   },
   "outputs": [],
   "source": [
    "pca = PCA(n_components = 3, whiten=True)\n",
    "DS_projected = pca.fit_transform(trainDS_pca)\n",
    "\n",
    "n_Clusters = 5\n",
    "random_K_means_3 = KMeans(init='random', n_clusters = n_Clusters, n_init = 15)\n",
    "random_K_means_3.fit_predict(DS_projected);"
   ]
  },
  {
   "cell_type": "code",
   "execution_count": 44,
   "metadata": {
    "collapsed": false
   },
   "outputs": [
    {
     "data": {
      "image/png": "[encoded data removed]",
      "text/plain": [
       "<matplotlib.figure.Figure at 0x10b6b7f10>"
      ]
     },
     "metadata": {},
     "output_type": "display_data"
    }
   ],
   "source": [
    "from mpl_toolkits.mplot3d import Axes3D\n",
    "colors =  \"rgbcm\"\n",
    "fig = plt.figure(figsize=(8,8))\n",
    "ax = fig.gca(projection='3d')\n",
    "\n",
    "# Plot the clusters\n",
    "for i, color in zip(set(random_K_means_3.labels_), colors):\n",
    "    idx = np.where( random_K_means_3.labels_== i)\n",
    "    ax.scatter(DS_projected[idx, 0], DS_projected[idx, 1], DS_projected[idx, 2], c=color, label=i, s=50, alpha = 0.3, \n",
    "               edgecolors='none')\n",
    "    # Plot the centroids as X\n",
    "    ax.scatter(random_K_means_3.cluster_centers_[i, 0], random_K_means_3.cluster_centers_[i, 1], \n",
    "                random_K_means_3.cluster_centers_[i, 2], marker='x', linewidths=3, s = 150,\n",
    "                color=color, zorder=10)\n",
    "ax.set_title('K-mean prediction - Random centroid initialization (5 clusters)')\n",
    "ax.legend();"
   ]
  },
  {
   "cell_type": "markdown",
   "metadata": {},
   "source": [
    "### 4.2.2 K-means++ centroid initialization (5 clusters)"
   ]
  },
  {
   "cell_type": "code",
   "execution_count": 45,
   "metadata": {
    "collapsed": false
   },
   "outputs": [],
   "source": [
    "n_Clusters = 5\n",
    "K_means = KMeans(init='k-means++', n_clusters = n_Clusters, n_init = 10)"
   ]
  },
  {
   "cell_type": "code",
   "execution_count": 46,
   "metadata": {
    "collapsed": false
   },
   "outputs": [
    {
     "name": "stdout",
     "output_type": "stream",
     "text": [
      "CPU times: user 1.45 s, sys: 91.4 ms, total: 1.55 s\n",
      "Wall time: 1.21 s\n"
     ]
    },
    {
     "data": {
      "text/plain": [
       "KMeans(copy_x=True, init='k-means++', max_iter=300, n_clusters=5, n_init=10,\n",
       "    n_jobs=1, precompute_distances=True, random_state=None, tol=0.0001,\n",
       "    verbose=0)"
      ]
     },
     "execution_count": 46,
     "metadata": {},
     "output_type": "execute_result"
    }
   ],
   "source": [
    "%time K_means.fit(trainDS_pca)"
   ]
  },
  {
   "cell_type": "code",
   "execution_count": 47,
   "metadata": {
    "collapsed": false
   },
   "outputs": [
    {
     "name": "stdout",
     "output_type": "stream",
     "text": [
      "Cluster metrics\n",
      "Homogeneity Score: 0.415892142872\n",
      "Completeness Score: 0.60962722045\n",
      "V measure score: 0.494460036805\n",
      "Adjusted Rand Index: 0.5515023543\n"
     ]
    }
   ],
   "source": [
    "print \"Cluster metrics\"\n",
    "print \"Homogeneity Score:\" , metrics.homogeneity_score(K_means.labels_, dataLabels.category_attack)\n",
    "print \"Completeness Score:\", metrics.completeness_score(K_means.labels_, dataLabels.category_attack)\n",
    "print \"V measure score:\", metrics.v_measure_score(K_means.labels_, dataLabels.category_attack)\n",
    "print \"Adjusted Rand Index:\", metrics.adjusted_rand_score(K_means.labels_, dataLabels.category_attack)"
   ]
  },
  {
   "cell_type": "markdown",
   "metadata": {},
   "source": [
    "#### Visualize the results on PCA-reduced data"
   ]
  },
  {
   "cell_type": "code",
   "execution_count": 48,
   "metadata": {
    "collapsed": false
   },
   "outputs": [],
   "source": [
    "pca = PCA(n_components= 2, whiten=True)\n",
    "DS_projected = pca.fit_transform(trainDS_pca)\n",
    "\n",
    "n_Clusters = 5\n",
    "K_means_2 = KMeans(init='k-means++', n_clusters = n_Clusters, n_init = 10)\n",
    "K_means_2.fit_predict(DS_projected);"
   ]
  },
  {
   "cell_type": "code",
   "execution_count": 49,
   "metadata": {
    "collapsed": false
   },
   "outputs": [
    {
     "data": {
      "image/png": "[encoded data removed]",
      "text/plain": [
       "<matplotlib.figure.Figure at 0x107c7de90>"
      ]
     },
     "metadata": {},
     "output_type": "display_data"
    }
   ],
   "source": [
    "colors = \"rgbcm\"\n",
    "\n",
    "fig, axes = plt.subplots(ncols=2, figsize=(14, 7) )\n",
    "ax1, ax2 = axes.ravel()\n",
    "\n",
    "# Plot the clusters\n",
    "for i, color in zip(set(K_means_2.labels_), colors):\n",
    "    idx = np.where( K_means_2.labels_== i)\n",
    "    ax1.scatter(DS_projected[idx, 0], DS_projected[idx, 1], c=color, s = 10, label=i, alpha = 0.3, edgecolors='none')\n",
    "    # Plot the centroids as X\n",
    "    ax1.scatter(K_means_2.cluster_centers_[i, 0], K_means_2.cluster_centers_[i, 1],\n",
    "            marker='x', s=169, linewidths=3,\n",
    "            color=color, zorder=10)\n",
    "ax1.set_title('K-mean prediction - K-means++ centroid initialization (5 clusters)')\n",
    "ax1.legend()\n",
    "\n",
    "#Plot the category values\n",
    "for i, color in zip(set(dataLabels.category_attack), colors):\n",
    "    idx = np.where(dataLabels.category_attack == i)\n",
    "    ax2.scatter(DS_projected[idx, 0], DS_projected[idx, 1], c=color, s = 10, label=i, alpha = 0.3, edgecolors='none')\n",
    "    \n",
    "ax2.set_title('Category Attacks (5 categories)')\n",
    "ax2.legend();"
   ]
  },
  {
   "cell_type": "markdown",
   "metadata": {},
   "source": [
    "### 4.2.3 Random centroid initialization (2 clusters)"
   ]
  },
  {
   "cell_type": "code",
   "execution_count": 50,
   "metadata": {
    "collapsed": false
   },
   "outputs": [],
   "source": [
    "n_Clusters = 2\n",
    "random_K_means = KMeans(init='random', n_clusters = n_Clusters, n_init = 15)"
   ]
  },
  {
   "cell_type": "code",
   "execution_count": 51,
   "metadata": {
    "collapsed": false
   },
   "outputs": [
    {
     "name": "stdout",
     "output_type": "stream",
     "text": [
      "CPU times: user 1.19 s, sys: 36.7 ms, total: 1.23 s\n",
      "Wall time: 1.12 s\n"
     ]
    },
    {
     "data": {
      "text/plain": [
       "KMeans(copy_x=True, init='random', max_iter=300, n_clusters=2, n_init=15,\n",
       "    n_jobs=1, precompute_distances=True, random_state=None, tol=0.0001,\n",
       "    verbose=0)"
      ]
     },
     "execution_count": 51,
     "metadata": {},
     "output_type": "execute_result"
    }
   ],
   "source": [
    "%time random_K_means.fit(trainDS_pca)"
   ]
  },
  {
   "cell_type": "code",
   "execution_count": 52,
   "metadata": {
    "collapsed": false
   },
   "outputs": [
    {
     "name": "stdout",
     "output_type": "stream",
     "text": [
      "Cluster metrics\n",
      "Homogeneity Score: 0.491878973599\n",
      "Completeness Score: 0.479856878546\n",
      "V measure score: 0.485793558759\n",
      "Adjusted Rand Index: 0.576596750949\n"
     ]
    }
   ],
   "source": [
    "print \"Cluster metrics\"\n",
    "print \"Homogeneity Score:\" , metrics.homogeneity_score(random_K_means.labels_, dataLabels.is_attack)\n",
    "print \"Completeness Score:\", metrics.completeness_score(random_K_means.labels_, dataLabels.is_attack)\n",
    "print \"V measure score:\", metrics.v_measure_score(random_K_means.labels_, dataLabels.is_attack)\n",
    "print \"Adjusted Rand Index:\", metrics.adjusted_rand_score(random_K_means.labels_, dataLabels.is_attack)"
   ]
  },
  {
   "cell_type": "markdown",
   "metadata": {},
   "source": [
    "#### Visualize the results on PCA-reduced data"
   ]
  },
  {
   "cell_type": "code",
   "execution_count": 53,
   "metadata": {
    "collapsed": false
   },
   "outputs": [],
   "source": [
    "pca = PCA(n_components= 2, whiten=True)\n",
    "DS_projected = pca.fit_transform(trainDS_pca)\n",
    "\n",
    "n_Clusters = 2\n",
    "random_K_means_2 = KMeans(init='random', n_clusters = n_Clusters, n_init = 15)\n",
    "random_K_means_2.fit_predict(DS_projected);"
   ]
  },
  {
   "cell_type": "code",
   "execution_count": 54,
   "metadata": {
    "collapsed": false
   },
   "outputs": [
    {
     "data": {
      "image/png": "[encoded data removed]",
      "text/plain": [
       "<matplotlib.figure.Figure at 0x12e510590>"
      ]
     },
     "metadata": {},
     "output_type": "display_data"
    }
   ],
   "source": [
    "colors = \"br\"\n",
    "\n",
    "fig, axes = plt.subplots(ncols=2, figsize=(14, 7) )\n",
    "ax1, ax2 = axes.ravel()\n",
    "\n",
    "# Plot the clusters\n",
    "for i, color in zip(set(random_K_means_2.labels_), colors):\n",
    "    idx = np.where( random_K_means_2.labels_== i)\n",
    "    ax1.scatter(DS_projected[idx, 0], DS_projected[idx, 1], c=color, s = 10, label=i, alpha = 0.3, edgecolors='none')\n",
    "    # Plot the centroids as X\n",
    "    ax1.scatter(random_K_means_2.cluster_centers_[i, 0], random_K_means_2.cluster_centers_[i, 1],\n",
    "            marker='x', s=169, linewidths=3,\n",
    "            color=color, zorder=10)\n",
    "ax1.set_title('K-mean prediction - Random centroid initialization (2 clusters)')\n",
    "ax1.legend()\n",
    "\n",
    "#Plot the category values\n",
    "for i, color in zip(set(dataLabels.is_attack), colors):\n",
    "    idx = np.where(dataLabels.is_attack == i)\n",
    "    ax2.scatter(DS_projected[idx, 0], DS_projected[idx, 1], c=color, s = 10, label=i, alpha = 0.3, edgecolors='none')\n",
    "    \n",
    "ax2.set_title('Category Attacks (2 categories)')\n",
    "ax2.legend();"
   ]
  },
  {
   "cell_type": "markdown",
   "metadata": {},
   "source": [
    "### 4.2.4 K-means++ centroid initialization (2 clusters)"
   ]
  },
  {
   "cell_type": "code",
   "execution_count": 55,
   "metadata": {
    "collapsed": false
   },
   "outputs": [],
   "source": [
    "n_Clusters = 2\n",
    "K_means = KMeans(init='k-means++', n_clusters = n_Clusters, n_init = 15)"
   ]
  },
  {
   "cell_type": "code",
   "execution_count": 56,
   "metadata": {
    "collapsed": false
   },
   "outputs": [
    {
     "name": "stdout",
     "output_type": "stream",
     "text": [
      "CPU times: user 1.02 s, sys: 55.1 ms, total: 1.08 s\n",
      "Wall time: 1.02 s\n"
     ]
    },
    {
     "data": {
      "text/plain": [
       "KMeans(copy_x=True, init='k-means++', max_iter=300, n_clusters=2, n_init=15,\n",
       "    n_jobs=1, precompute_distances=True, random_state=None, tol=0.0001,\n",
       "    verbose=0)"
      ]
     },
     "execution_count": 56,
     "metadata": {},
     "output_type": "execute_result"
    }
   ],
   "source": [
    "%time K_means.fit(trainDS_pca)"
   ]
  },
  {
   "cell_type": "code",
   "execution_count": 57,
   "metadata": {
    "collapsed": false
   },
   "outputs": [
    {
     "name": "stdout",
     "output_type": "stream",
     "text": [
      "Cluster metrics\n",
      "Homogeneity Score: 0.489338341456\n",
      "Completeness Score: 0.477558363798\n",
      "V measure score: 0.483376593218\n",
      "Adjusted Rand Index: 0.574645908564\n"
     ]
    }
   ],
   "source": [
    "print \"Cluster metrics\"\n",
    "print \"Homogeneity Score:\" , metrics.homogeneity_score(K_means.labels_, dataLabels.is_attack)\n",
    "print \"Completeness Score:\", metrics.completeness_score(K_means.labels_, dataLabels.is_attack)\n",
    "print \"V measure score:\", metrics.v_measure_score(K_means.labels_, dataLabels.is_attack)\n",
    "print \"Adjusted Rand Index:\", metrics.adjusted_rand_score(K_means.labels_, dataLabels.is_attack)"
   ]
  },
  {
   "cell_type": "markdown",
   "metadata": {},
   "source": [
    "#### Visualize the results on PCA-reduced data"
   ]
  },
  {
   "cell_type": "code",
   "execution_count": 58,
   "metadata": {
    "collapsed": false
   },
   "outputs": [],
   "source": [
    "pca = PCA(n_components= 2, whiten=True)\n",
    "DS_projected = pca.fit_transform(trainDS_pca)\n",
    "\n",
    "n_Clusters = 2\n",
    "K_means_2 = KMeans(init='k-means++', n_clusters = n_Clusters, n_init = 15)\n",
    "K_means_2.fit_predict(DS_projected);"
   ]
  },
  {
   "cell_type": "code",
   "execution_count": 59,
   "metadata": {
    "collapsed": false
   },
   "outputs": [
    {
     "data": {
      "image/png": "[encoded data removed]",
      "text/plain": [
       "<matplotlib.figure.Figure at 0x10b4ead90>"
      ]
     },
     "metadata": {},
     "output_type": "display_data"
    }
   ],
   "source": [
    "colors = \"br\"\n",
    "\n",
    "fig, axes = plt.subplots(ncols=2, figsize=(14, 7) )\n",
    "ax1, ax2 = axes.ravel()\n",
    "\n",
    "# Plot the clusters\n",
    "for i, color in zip(set(K_means_2.labels_), colors):\n",
    "    idx = np.where( K_means_2.labels_== i)\n",
    "    ax1.scatter(DS_projected[idx, 0], DS_projected[idx, 1], c=color, s = 10, label=i, alpha = 0.3, edgecolors='none')\n",
    "    # Plot the centroids as X\n",
    "    ax1.scatter(K_means_2.cluster_centers_[i, 0], K_means_2.cluster_centers_[i, 1],\n",
    "            marker='x', s=169, linewidths=3,\n",
    "            color=color, zorder=10)\n",
    "ax1.set_title('K-mean prediction - K-means++ centroid initialization (2 clusters)')\n",
    "ax1.legend()\n",
    "\n",
    "#Plot the category values\n",
    "for i, color in zip(set(dataLabels.is_attack), colors):\n",
    "    idx = np.where(dataLabels.is_attack == i)\n",
    "    ax2.scatter(DS_projected[idx, 0], DS_projected[idx, 1], c=color, s = 10, label=i, alpha = 0.3, edgecolors='none')\n",
    "    \n",
    "ax2.set_title('Category Attacks (2 categories)')\n",
    "ax2.legend();"
   ]
  },
  {
   "cell_type": "markdown",
   "metadata": {},
   "source": [
    "### 4.2.5 Find the best number of Clusters"
   ]
  },
  {
   "cell_type": "code",
   "execution_count": 60,
   "metadata": {
    "collapsed": false
   },
   "outputs": [],
   "source": [
    "def getK_meansMesures(initArg = 'random', n_clusters = 2, labels = None, data = None):\n",
    "    model = KMeans(init=initArg, n_clusters = n_clusters, n_init = 10)\n",
    "    model.fit(data)\n",
    "    return [n_clusters,\n",
    "            metrics.homogeneity_score(model.labels_, labels), \n",
    "            metrics.completeness_score(model.labels_, labels), \n",
    "            metrics.v_measure_score(model.labels_, labels), \n",
    "            metrics.adjusted_rand_score(model.labels_, labels)]"
   ]
  },
  {
   "cell_type": "markdown",
   "metadata": {},
   "source": [
    "#### Class Attack (23 categories)"
   ]
  },
  {
   "cell_type": "code",
   "execution_count": 61,
   "metadata": {
    "collapsed": false
   },
   "outputs": [],
   "source": [
    "measures = np.array([getK_meansMesures('random', n_Clusters, dataLabels.class_attack, trainDS_pca)\n",
    "                     for n_Clusters in range(2,24)])"
   ]
  },
  {
   "cell_type": "code",
   "execution_count": 62,
   "metadata": {
    "collapsed": false
   },
   "outputs": [
    {
     "data": {
      "image/png": "[encoded data removed]",
      "text/plain": [
       "<matplotlib.figure.Figure at 0x12e544190>"
      ]
     },
     "metadata": {},
     "output_type": "display_data"
    }
   ],
   "source": [
    "plt.figure(figsize=(15,5))\n",
    "plt.plot(measures[:,0], measures[:,1], label = 'Homogeneity')\n",
    "plt.plot(measures[:,0], measures[:,2], label = 'Completeness')\n",
    "plt.plot(measures[:,0], measures[:,3], label = 'V measure')\n",
    "plt.plot(measures[:,0], measures[:,4], label = 'Adjusted Rand')\n",
    "plt.legend()\n",
    "plt.ylim(0,1)\n",
    "plt.title(\"Cluster measures\")\n",
    "plt.xlabel(\"Number of clusters\")\n",
    "plt.ylabel(\"Score\");"
   ]
  },
  {
   "cell_type": "markdown",
   "metadata": {},
   "source": [
    "#### Category Attack (5 categories)"
   ]
  },
  {
   "cell_type": "code",
   "execution_count": 63,
   "metadata": {
    "collapsed": false
   },
   "outputs": [],
   "source": [
    "measures = np.array([getK_meansMesures('random', n_Clusters, dataLabels.category_attack, trainDS_pca)\n",
    "                     for n_Clusters in range(2,13)])"
   ]
  },
  {
   "cell_type": "code",
   "execution_count": 64,
   "metadata": {
    "collapsed": false
   },
   "outputs": [
    {
     "data": {
      "image/png": "[encoded data removed]",
      "text/plain": [
       "<matplotlib.figure.Figure at 0x12e544290>"
      ]
     },
     "metadata": {},
     "output_type": "display_data"
    }
   ],
   "source": [
    "plt.figure(figsize=(9,5))\n",
    "plt.plot(measures[:,0], measures[:,1], label = 'Homogeneity')\n",
    "plt.plot(measures[:,0], measures[:,2], label = 'Completeness')\n",
    "plt.plot(measures[:,0], measures[:,3], label = 'V measure')\n",
    "plt.plot(measures[:,0], measures[:,4], label = 'Adjusted Rand')\n",
    "plt.legend()\n",
    "plt.ylim(0,1)\n",
    "plt.title(\"Cluster measures\")\n",
    "plt.xlabel(\"Number of clusters\")\n",
    "plt.ylabel(\"Score\");"
   ]
  },
  {
   "cell_type": "markdown",
   "metadata": {},
   "source": [
    "#### Is Attack (2 categories)"
   ]
  },
  {
   "cell_type": "code",
   "execution_count": 65,
   "metadata": {
    "collapsed": false
   },
   "outputs": [],
   "source": [
    "measures = np.array([getK_meansMesures('random', n_Clusters, dataLabels.is_attack, trainDS_pca)\n",
    "                     for n_Clusters in range(2,13)])"
   ]
  },
  {
   "cell_type": "code",
   "execution_count": 66,
   "metadata": {
    "collapsed": false
   },
   "outputs": [
    {
     "data": {
      "image/png": "[encoded data removed]",
      "text/plain": [
       "<matplotlib.figure.Figure at 0x12e544c10>"
      ]
     },
     "metadata": {},
     "output_type": "display_data"
    }
   ],
   "source": [
    "plt.figure(figsize=(9,5))\n",
    "plt.plot(measures[:,0], measures[:,1], label = 'Homogeneity')\n",
    "plt.plot(measures[:,0], measures[:,2], label = 'Completeness')\n",
    "plt.plot(measures[:,0], measures[:,3], label = 'V measure')\n",
    "plt.plot(measures[:,0], measures[:,4], label = 'Adjusted Rand')\n",
    "plt.legend()\n",
    "plt.ylim(0,1)\n",
    "plt.title(\"Cluster measures\")\n",
    "plt.xlabel(\"Number of clusters\")\n",
    "plt.ylabel(\"Score\");"
   ]
  },
  {
   "cell_type": "markdown",
   "metadata": {},
   "source": [
    "## 4.3 DBSCAN"
   ]
  },
  {
   "cell_type": "markdown",
   "metadata": {},
   "source": [
    "Density-based spatial clustering of applications with noise (DBSCAN) is a data clustering algorithm  density-based clustering algorithm: given a set of points in some space, it groups together points that are closely packed together (points with many nearby neighbors), marking as outliers points that lie alone in low-density regions (whose nearest neighbors are too far away). "
   ]
  },
  {
   "cell_type": "markdown",
   "metadata": {},
   "source": [
    "* **Parameters**: \n",
    "    * *eps*: The maximum distance between two samples for them to be considered as in the same neighborhood\n",
    "    * *min_samples*: The number of samples (or total weight) in a neighborhood for a point to be considered as a core point. This includes the point itself.\n",
    "* **Scalability**:\tVery large n_samples, medium n_clusters\n",
    "* **Usecase**:\tNon-flat geometry, uneven cluster sizes\n",
    "* **Geometry (metric used)**: Distances between nearest points\n",
    "\t\t \t"
   ]
  },
  {
   "cell_type": "markdown",
   "metadata": {},
   "source": [
    "DBSCAN\tneighborhood size\tVery large n_samples, medium n_clusters\tNon-flat geometry, uneven cluster sizes\tDistances between nearest points\n"
   ]
  },
  {
   "cell_type": "code",
   "execution_count": 67,
   "metadata": {
    "collapsed": false
   },
   "outputs": [],
   "source": [
    "from sklearn.cluster import DBSCAN"
   ]
  },
  {
   "cell_type": "code",
   "execution_count": 68,
   "metadata": {
    "collapsed": false
   },
   "outputs": [],
   "source": [
    "db = DBSCAN(eps=0.5, min_samples=125).fit(trainDS_pca)\n",
    "n_clusters_ = len(set(db.labels_)) - (1 if -1 in db.labels_ else 0)#outlayers are labeled like -1"
   ]
  },
  {
   "cell_type": "code",
   "execution_count": 69,
   "metadata": {
    "collapsed": false
   },
   "outputs": [
    {
     "name": "stdout",
     "output_type": "stream",
     "text": [
      "Cluster metrics\n",
      "Number of clusters found: 38\n",
      "Number of outlayers: 1068\n",
      "Homogeneity Score: 0.379386968367\n",
      "Completeness Score: 0.810453950603\n",
      "V measure score: 0.516834918716\n",
      "Adjusted Rand Index: 0.319954037792\n"
     ]
    }
   ],
   "source": [
    "print \"Cluster metrics\"\n",
    "print \"Number of clusters found:\", n_clusters_\n",
    "print \"Number of outlayers:\", sum(db.labels_==-1)\n",
    "print \"Homogeneity Score:\" , metrics.homogeneity_score(db.labels_, dataLabels.class_attack)\n",
    "print \"Completeness Score:\", metrics.completeness_score(db.labels_, dataLabels.class_attack)\n",
    "print \"V measure score:\", metrics.v_measure_score(db.labels_, dataLabels.class_attack)\n",
    "print \"Adjusted Rand Index:\", metrics.adjusted_rand_score(db.labels_, dataLabels.class_attack)"
   ]
  },
  {
   "cell_type": "markdown",
   "metadata": {},
   "source": [
    "#### Visualize the results on PCA-reduced data"
   ]
  },
  {
   "cell_type": "code",
   "execution_count": 70,
   "metadata": {
    "collapsed": false
   },
   "outputs": [],
   "source": [
    "pca = PCA(n_components= 2, whiten=True)\n",
    "DS_projected = pca.fit_transform(trainDS_pca)\n",
    "\n",
    "db = DBSCAN(eps=0.5, min_samples=125).fit(DS_projected)\n",
    "n_clusters_ = len(set(db.labels_)) - (1 if -1 in db.labels_ else 0) #outlayers are labeled like -1\n"
   ]
  },
  {
   "cell_type": "code",
   "execution_count": 71,
   "metadata": {
    "collapsed": false
   },
   "outputs": [
    {
     "data": {
      "image/png": "[encoded data removed]",
      "text/plain": [
       "<matplotlib.figure.Figure at 0x107c2bdd0>"
      ]
     },
     "metadata": {},
     "output_type": "display_data"
    }
   ],
   "source": [
    "fig, axes = plt.subplots(ncols=2, figsize=(14, 7) )\n",
    "ax1, ax2 = axes.ravel()\n",
    "\n",
    "core_samples_mask = np.zeros_like(db.labels_, dtype=bool)\n",
    "core_samples_mask[db.core_sample_indices_] = True\n",
    "\n",
    "unique_labels = set(db.labels_)\n",
    "colors = plt.cm.Spectral(np.linspace(0, 1, len(unique_labels)))\n",
    "\n",
    "for k, col in zip(unique_labels, colors):\n",
    "    if k == -1:\n",
    "        # Black used for noise.\n",
    "        col = 'k'\n",
    "\n",
    "    class_member_mask = (db.labels_ == k)\n",
    "\n",
    "    xy = DS_projected[class_member_mask & core_samples_mask]\n",
    "    ax1.plot(xy[:, 0], xy[:, 1], 'o', markerfacecolor=col,\n",
    "             markeredgecolor='k', markersize=14)\n",
    "\n",
    "    xy = DS_projected[class_member_mask & ~core_samples_mask]\n",
    "    ax1.plot(xy[:, 0], xy[:, 1], 'o', markerfacecolor=col,\n",
    "             markeredgecolor='k', markersize=6)\n",
    "\n",
    "ax1.set_title('Estimated clusters: %d & outlayers: %d' % (n_clusters_, sum(db.labels_==-1)))\n",
    "\n",
    "colors = plt.cm.Spectral(np.linspace(0, 1, len(set(dataLabels.category_attack))))\n",
    "for i, color in zip(set(dataLabels.category_attack), colors):\n",
    "    idx = np.where(dataLabels.category_attack == i)\n",
    "    ax2.scatter(DS_projected[idx, 0], DS_projected[idx, 1], c=color, s = 30, label=i, \n",
    "                alpha = 0.5, edgecolors='none')\n",
    "    \n",
    "ax2.set_title('Category Attacks (5 categories)')\n",
    "ax2.legend();\n",
    "\n",
    "\n",
    "plt.show()"
   ]
  },
  {
   "cell_type": "markdown",
   "metadata": {},
   "source": [
    "### 4.3.1 Find the best parameter *eps* (with min_samples = 125)"
   ]
  },
  {
   "cell_type": "code",
   "execution_count": 76,
   "metadata": {
    "collapsed": false
   },
   "outputs": [],
   "source": [
    "def getDBSCANMesures(eps = 0.5, min_samples = 100, labels = None, data = None ):\n",
    "    model = DBSCAN(eps = eps, min_samples = min_samples)\n",
    "    model.fit(data)\n",
    "    n_clusters_ = len(set(model.labels_)) - (1 if -1 in model.labels_ else 0) #outlayers are labeled like -1\n",
    "    n_outlayers_ = sum(model.labels_==-1)\n",
    "    return [eps, min_samples,\n",
    "            metrics.homogeneity_score(model.labels_, labels), \n",
    "            metrics.completeness_score(model.labels_, labels), \n",
    "            metrics.v_measure_score(model.labels_, labels), \n",
    "            metrics.adjusted_rand_score(model.labels_, labels),\n",
    "            n_clusters_,\n",
    "            n_outlayers_]"
   ]
  },
  {
   "cell_type": "code",
   "execution_count": 77,
   "metadata": {
    "collapsed": false
   },
   "outputs": [],
   "source": [
    "eps_measures = np.array([getDBSCANMesures(eps = eps_, min_samples = 125 , labels = dataLabels.class_attack, data = trainDS_pca) \n",
    "            for eps_ in np.arange(0.25,1.26,0.25)])"
   ]
  },
  {
   "cell_type": "code",
   "execution_count": 78,
   "metadata": {
    "collapsed": false
   },
   "outputs": [
    {
     "data": {
      "image/png": "[encoded data removed]",
      "text/plain": [
       "<matplotlib.figure.Figure at 0x10b6c1bd0>"
      ]
     },
     "metadata": {},
     "output_type": "display_data"
    }
   ],
   "source": [
    "plt.figure(figsize=(9,5))\n",
    "plt.plot(eps_measures[:,0], eps_measures[:,2], label = 'Homogeneity')\n",
    "plt.plot(eps_measures[:,0], eps_measures[:,3], label = 'Completeness')\n",
    "plt.plot(eps_measures[:,0], eps_measures[:,4], label = 'V measure')\n",
    "plt.plot(eps_measures[:,0], eps_measures[:,5], label = 'Adjusted Rand')\n",
    "plt.legend()\n",
    "plt.ylim(0,1)\n",
    "plt.title(\"Cluster measures\")\n",
    "plt.xlabel(\"eps\")\n",
    "plt.ylabel(\"Score\");"
   ]
  },
  {
   "cell_type": "markdown",
   "metadata": {},
   "source": [
    "### 4.3.1 Find the best parameter *min_samples* (with eps = 0.75)"
   ]
  },
  {
   "cell_type": "code",
   "execution_count": 79,
   "metadata": {
    "collapsed": false
   },
   "outputs": [],
   "source": [
    "min_s_measures = np.array([getDBSCANMesures(eps = 0.75, min_samples = min_samples_ , labels = dataLabels.class_attack, data = trainDS_pca) \n",
    "            for min_samples_ in range(25,501,50)])"
   ]
  },
  {
   "cell_type": "code",
   "execution_count": 80,
   "metadata": {
    "collapsed": false
   },
   "outputs": [
    {
     "data": {
      "image/png": "[encoded data removed]",
      "text/plain": [
       "<matplotlib.figure.Figure at 0x113921910>"
      ]
     },
     "metadata": {},
     "output_type": "display_data"
    }
   ],
   "source": [
    "plt.figure(figsize=(9,5))\n",
    "plt.plot(min_s_measures[:,1], min_s_measures[:,2], label = 'Homogeneity')\n",
    "plt.plot(min_s_measures[:,1], min_s_measures[:,3], label = 'Completeness')\n",
    "plt.plot(min_s_measures[:,1], min_s_measures[:,4], label = 'V measure')\n",
    "plt.plot(min_s_measures[:,1], min_s_measures[:,5], label = 'Adjusted Rand')\n",
    "plt.legend()\n",
    "plt.title(\"Cluster measures\")\n",
    "plt.xlabel(\"min_sample\")\n",
    "plt.ylim(0,1)\n",
    "plt.ylabel(\"Score\");"
   ]
  },
  {
   "cell_type": "code",
   "execution_count": null,
   "metadata": {
    "collapsed": false
   },
   "outputs": [],
   "source": []
  }
 ],
 "metadata": {
  "kernelspec": {
   "display_name": "Python 2",
   "language": "python",
   "name": "python2"
  },
  "language_info": {
   "codemirror_mode": {
    "name": "ipython",
    "version": 2
   },
   "file_extension": ".py",
   "mimetype": "text/x-python",
   "name": "python",
   "nbconvert_exporter": "python",
   "pygments_lexer": "ipython2",
   "version": "2.7.6"
  }
 },
 "nbformat": 4,
 "nbformat_minor": 0
}
